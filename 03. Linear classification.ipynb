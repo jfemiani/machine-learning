{
 "cells": [
  {
   "cell_type": "markdown",
   "metadata": {},
   "source": [
    "### Machine Learning\n",
    "# 3. Linear Classification"
   ]
  },
  {
   "cell_type": "markdown",
   "metadata": {},
   "source": [
    "#### Adapted & Presented by John C. Femiani * (see note)\n",
    "#### Miami University, Oxford OH\n",
    "#### cse27a\n",
    "\n",
    "<hr>\n",
    ">  These slides adapted from slides by [Luis Martí](http://lmarti.com),  [Instituto de Computação](http://www.ic.uff),  [Universidade Federal Fluminense](http://www.uff.br), and modified for my course in accordance with the licence [![License: CC BY-NC-SA 4.0](https://img.shields.io/badge/license-CC%20BY--NC--SA%204.0-lightgrey.svg)](http://creativecommons.org/licenses/by-nc-sa/4.0/)\n",
    "$\\renewcommand{\\vec}[1]{\\boldsymbol{#1}}$"
   ]
  },
  {
   "cell_type": "markdown",
   "metadata": {
    "slideshow": {
     "slide_type": "skip"
    }
   },
   "source": [
    "### About the notebook/slides\n",
    "\n",
    "* The slides are _programmed_ as a [Jupyter](http://jupyter.org)/[IPython](https://ipython.org/) notebook.\n",
    "* **Feel free to try them and experiment on your own by launching the notebooks.**\n",
    "\n",
    "* You can run the notebook online: [![Binder](http://mybinder.org/badge.svg)](http://mybinder.org/repo/lmarti/machine-learning)"
   ]
  },
  {
   "cell_type": "markdown",
   "metadata": {
    "slideshow": {
     "slide_type": "skip"
    }
   },
   "source": [
    "If you are using [nbviewer](http://nbviewer.jupyter.org) you can change to slides mode by clicking on the icon:\n",
    "\n",
    "<div class=\"container-fluid\">\n",
    "  <div class=\"row\">\n",
    "      <div class=\"col-md-3\"><span/></div>\n",
    "      <div class=\"col-md-6\">\n",
    "      <div class='well well-sm'>\n",
    "              <img src='imgs/view-as-slides.png'/>\n",
    "      </div>\n",
    "      </div>\n",
    "      <div class=\"col-md-3\" align='center'><span/></div>\n",
    "  </div>\n",
    "</div>"
   ]
  },
  {
   "cell_type": "code",
   "execution_count": 1,
   "metadata": {
    "collapsed": false,
    "slideshow": {
     "slide_type": "skip"
    }
   },
   "outputs": [],
   "source": [
    "import random, math\n",
    "import numpy as np\n",
    "import matplotlib.pyplot as plt\n",
    "import matplotlib.cm as cm\n",
    "from __future__ import division"
   ]
  },
  {
   "cell_type": "code",
   "execution_count": 62,
   "metadata": {
    "collapsed": false,
    "slideshow": {
     "slide_type": "skip"
    }
   },
   "outputs": [],
   "source": [
    "plt.rc('text', usetex=True); plt.rc('font', family='serif')\n",
    "# plt.rcParams['text.latex.preamble'] ='\\\\usepackage{libertine}\\n\\\\usepackage[utf8]{inputenc}'\n",
    "plt.rcParams['text.latex.preamble'] = r'\\usepackage{cancel}'\n",
    "\n",
    "# numpy - pretty matrix \n",
    "np.set_printoptions(precision=3, threshold=1000, edgeitems=5, linewidth=80, suppress=True)\n",
    "\n",
    "import seaborn\n",
    "seaborn.set(style='whitegrid'); seaborn.set_context('talk')\n",
    "\n",
    "%matplotlib notebook\n",
    "%config InlineBackend.figure_format = 'retina'"
   ]
  },
  {
   "cell_type": "code",
   "execution_count": 3,
   "metadata": {
    "collapsed": true,
    "slideshow": {
     "slide_type": "skip"
    }
   },
   "outputs": [],
   "source": [
    "# Fixed seed to make the results replicable - remove in real life!\n",
    "random.seed(42)"
   ]
  },
  {
   "cell_type": "markdown",
   "metadata": {
    "slideshow": {
     "slide_type": "slide"
    }
   },
   "source": [
    "# Classification\n",
    "\n",
    "* Given an input vector $\\vec{x}$ determine $p\\left(\\left. C_k\\right|\\vec{x}\\right)$ where $k\\in \\{1\\ldots K\\}$ and $C_k$ is a discrete class label.\n",
    "* We will discuss **linear models** for classification.\n",
    "\n",
    "**Note:** the algorithms described here can also be applied to transformed input, $\\phi(\\vec{x})$, to determine $p\\left(C_k\\right|\\left.\\phi(\\vec{x})\\right)$, where $\\phi(\\cdot)$ may be a nonlinear transformation of the input space."
   ]
  },
  {
   "cell_type": "markdown",
   "metadata": {
    "slideshow": {
     "slide_type": "slide"
    }
   },
   "source": [
    "Our **first model assumption** is that our target output can be modeled as\n",
    "\n",
    "$$y(\\phi(\\vec{x})) = f(\\vec{w}^\\intercal\\phi(\\vec{x}))$$\n",
    "\n",
    "where $y$ will be a vector of probabilities with $K$ elements. \n",
    "\n",
    "* Elements of $\\vec{y}$ are $y_k = p\\left(C_k\\right|\\left.\\phi\\left(\\vec{x}\\right)\\right)$ i.e. the probability that the correct class label is $C_k$ given the input vector $\\vec{x}$. \n",
    "* Often we will have simply that $\\vec{w}^\\intercal\\phi(\\vec{x}) = \\vec{w}^\\intercal\\vec{x}+w_0$ in which case we will simply omit $\\phi()$ from the notation.\n",
    "* The function $f()$ is known as the **activation function** and its inverse is known as the **link function**. \n",
    "* Note that $f()$ will often be nonlinear."
   ]
  },
  {
   "cell_type": "markdown",
   "metadata": {
    "slideshow": {
     "slide_type": "skip"
    }
   },
   "source": [
    "It should be noted that nearly all of the material presented fails to be a fully Bayesian treatment of the classification problem. Primarily this is because a Bayesian approach to the classification problem is mathematically intractable. However, Bayes' Theorem will appear often in the discussion, which can lead to confusion. Where appropriate, I will try to clarify the difference."
   ]
  },
  {
   "cell_type": "markdown",
   "metadata": {
    "slideshow": {
     "slide_type": "slide"
    }
   },
   "source": [
    "The target variable, $y$, does **not provide a decision** for a class assignment for a given input $\\vec{x}$. \n",
    "\n",
    "* In real world cases where it is necessary to make a decision as to which class $\\vec{x}$ should be assigned;\n",
    "* one must apply an additional modeling step based on [*decision theory*](https://en.wikipedia.org/wiki/Decision_theory)."
   ]
  },
  {
   "cell_type": "markdown",
   "metadata": {
    "slideshow": {
     "slide_type": "slide"
    }
   },
   "source": [
    "There are a variety of decision models, all of which leverage the class posterior probability models, $p\\left(C_k\\right|\\left.\\vec{x}\\right)$, such as\n",
    "\n",
    "* Minimizing the misclassification rate - this effectively corresponds to choosing the class with the highest probability for a given $\\vec{x}$.\n",
    "* Minimizing the expected loss - minimizes the expected value of a given loss function, $\\ell(\\cdot)$, under the class posterior probability distribution.\n",
    "* Reject option."
   ]
  },
  {
   "cell_type": "markdown",
   "metadata": {
    "slideshow": {
     "slide_type": "slide"
    }
   },
   "source": [
    "## Linear classification models\n",
    "\n",
    "The models discussed today are called *linear* because, \n",
    "* when the decision criteria is that of minimizing the misclassification rate, \n",
    " they divide the input space into $K$ regions, where the boundaries between regions are _linear_ functions of the input vector $\\vec{x}$. \n",
    "* The decision boundaries will correspond to where $\\vec{w}^\\intercal\\vec{x}=\\text{constant}$, and thus represent a linear function of $\\vec{x}$. \n",
    "* In the case of transformed input, $\\phi(\\vec{x})$, the decision boundaries will correspond to where \n",
    "$\\vec{w}^\\intercal\\phi(\\vec{x})=\\text{constant}$, and thus represent a linear function of $\\phi(\\vec{x})$. "
   ]
  },
  {
   "cell_type": "code",
   "execution_count": null,
   "metadata": {
    "collapsed": true,
    "slideshow": {
     "slide_type": "skip"
    }
   },
   "outputs": [],
   "source": [
    "import scipy.stats\n",
    "import sklearn.linear_model"
   ]
  },
  {
   "cell_type": "markdown",
   "metadata": {
    "slideshow": {
     "slide_type": "slide"
    }
   },
   "source": [
    "## An Example of a Linear Model"
   ]
  },
  {
   "cell_type": "code",
   "execution_count": 26,
   "metadata": {
    "collapsed": false,
    "slideshow": {
     "slide_type": "fragment"
    }
   },
   "outputs": [],
   "source": [
    "cov = np.random.randint(0, 1, (2,2))\n",
    "cov += cov.T # symmetry!\n",
    "\n",
    "model1 = scipy.stats.multivariate_normal(mean=(1,1), cov=((1, 0), (0,0.5)))\n",
    "model2 = scipy.stats.multivariate_normal(mean=(-1,-1), cov=((1, 0), (0,0.5)))\n",
    "N1 = 60\n",
    "N2 = 40\n",
    "\n",
    "x = np.row_stack([model1.rvs(N1),  model2.rvs(N2)])\n",
    "t = np.array([0]*N1 + [1]*N2)\n",
    "\n",
    "classifier = sklearn.linear_model.LogisticRegression()\n",
    "classifier.fit(x, t);"
   ]
  },
  {
   "cell_type": "code",
   "execution_count": 27,
   "metadata": {
    "collapsed": true,
    "slideshow": {
     "slide_type": "fragment"
    }
   },
   "outputs": [],
   "source": [
    "@np.vectorize\n",
    "def y(x1, x2):\n",
    "    return classifier.coef_.dot([x1, x2]) +  classifier.intercept_\n",
    "\n",
    "X1, X2 = np.mgrid[-3:3:10j, -3:3:10j]\n",
    "Y = y(X1, X2)"
   ]
  },
  {
   "cell_type": "code",
   "execution_count": 66,
   "metadata": {
    "collapsed": false,
    "slideshow": {
     "slide_type": "slide"
    }
   },
   "outputs": [
    {
     "data": {
      "application/javascript": [
       "/* Put everything inside the global mpl namespace */\n",
       "window.mpl = {};\n",
       "\n",
       "\n",
       "mpl.get_websocket_type = function() {\n",
       "    if (typeof(WebSocket) !== 'undefined') {\n",
       "        return WebSocket;\n",
       "    } else if (typeof(MozWebSocket) !== 'undefined') {\n",
       "        return MozWebSocket;\n",
       "    } else {\n",
       "        alert('Your browser does not have WebSocket support.' +\n",
       "              'Please try Chrome, Safari or Firefox ≥ 6. ' +\n",
       "              'Firefox 4 and 5 are also supported but you ' +\n",
       "              'have to enable WebSockets in about:config.');\n",
       "    };\n",
       "}\n",
       "\n",
       "mpl.figure = function(figure_id, websocket, ondownload, parent_element) {\n",
       "    this.id = figure_id;\n",
       "\n",
       "    this.ws = websocket;\n",
       "\n",
       "    this.supports_binary = (this.ws.binaryType != undefined);\n",
       "\n",
       "    if (!this.supports_binary) {\n",
       "        var warnings = document.getElementById(\"mpl-warnings\");\n",
       "        if (warnings) {\n",
       "            warnings.style.display = 'block';\n",
       "            warnings.textContent = (\n",
       "                \"This browser does not support binary websocket messages. \" +\n",
       "                    \"Performance may be slow.\");\n",
       "        }\n",
       "    }\n",
       "\n",
       "    this.imageObj = new Image();\n",
       "\n",
       "    this.context = undefined;\n",
       "    this.message = undefined;\n",
       "    this.canvas = undefined;\n",
       "    this.rubberband_canvas = undefined;\n",
       "    this.rubberband_context = undefined;\n",
       "    this.format_dropdown = undefined;\n",
       "\n",
       "    this.image_mode = 'full';\n",
       "\n",
       "    this.root = $('<div/>');\n",
       "    this._root_extra_style(this.root)\n",
       "    this.root.attr('style', 'display: inline-block');\n",
       "\n",
       "    $(parent_element).append(this.root);\n",
       "\n",
       "    this._init_header(this);\n",
       "    this._init_canvas(this);\n",
       "    this._init_toolbar(this);\n",
       "\n",
       "    var fig = this;\n",
       "\n",
       "    this.waiting = false;\n",
       "\n",
       "    this.ws.onopen =  function () {\n",
       "            fig.send_message(\"supports_binary\", {value: fig.supports_binary});\n",
       "            fig.send_message(\"send_image_mode\", {});\n",
       "            if (mpl.ratio != 1) {\n",
       "                fig.send_message(\"set_dpi_ratio\", {'dpi_ratio': mpl.ratio});\n",
       "            }\n",
       "            fig.send_message(\"refresh\", {});\n",
       "        }\n",
       "\n",
       "    this.imageObj.onload = function() {\n",
       "            if (fig.image_mode == 'full') {\n",
       "                // Full images could contain transparency (where diff images\n",
       "                // almost always do), so we need to clear the canvas so that\n",
       "                // there is no ghosting.\n",
       "                fig.context.clearRect(0, 0, fig.canvas.width, fig.canvas.height);\n",
       "            }\n",
       "            fig.context.drawImage(fig.imageObj, 0, 0);\n",
       "        };\n",
       "\n",
       "    this.imageObj.onunload = function() {\n",
       "        this.ws.close();\n",
       "    }\n",
       "\n",
       "    this.ws.onmessage = this._make_on_message_function(this);\n",
       "\n",
       "    this.ondownload = ondownload;\n",
       "}\n",
       "\n",
       "mpl.figure.prototype._init_header = function() {\n",
       "    var titlebar = $(\n",
       "        '<div class=\"ui-dialog-titlebar ui-widget-header ui-corner-all ' +\n",
       "        'ui-helper-clearfix\"/>');\n",
       "    var titletext = $(\n",
       "        '<div class=\"ui-dialog-title\" style=\"width: 100%; ' +\n",
       "        'text-align: center; padding: 3px;\"/>');\n",
       "    titlebar.append(titletext)\n",
       "    this.root.append(titlebar);\n",
       "    this.header = titletext[0];\n",
       "}\n",
       "\n",
       "\n",
       "\n",
       "mpl.figure.prototype._canvas_extra_style = function(canvas_div) {\n",
       "\n",
       "}\n",
       "\n",
       "\n",
       "mpl.figure.prototype._root_extra_style = function(canvas_div) {\n",
       "\n",
       "}\n",
       "\n",
       "mpl.figure.prototype._init_canvas = function() {\n",
       "    var fig = this;\n",
       "\n",
       "    var canvas_div = $('<div/>');\n",
       "\n",
       "    canvas_div.attr('style', 'position: relative; clear: both; outline: 0');\n",
       "\n",
       "    function canvas_keyboard_event(event) {\n",
       "        return fig.key_event(event, event['data']);\n",
       "    }\n",
       "\n",
       "    canvas_div.keydown('key_press', canvas_keyboard_event);\n",
       "    canvas_div.keyup('key_release', canvas_keyboard_event);\n",
       "    this.canvas_div = canvas_div\n",
       "    this._canvas_extra_style(canvas_div)\n",
       "    this.root.append(canvas_div);\n",
       "\n",
       "    var canvas = $('<canvas/>');\n",
       "    canvas.addClass('mpl-canvas');\n",
       "    canvas.attr('style', \"left: 0; top: 0; z-index: 0; outline: 0\")\n",
       "\n",
       "    this.canvas = canvas[0];\n",
       "    this.context = canvas[0].getContext(\"2d\");\n",
       "\n",
       "    var backingStore = this.context.backingStorePixelRatio ||\n",
       "\tthis.context.webkitBackingStorePixelRatio ||\n",
       "\tthis.context.mozBackingStorePixelRatio ||\n",
       "\tthis.context.msBackingStorePixelRatio ||\n",
       "\tthis.context.oBackingStorePixelRatio ||\n",
       "\tthis.context.backingStorePixelRatio || 1;\n",
       "\n",
       "    mpl.ratio = (window.devicePixelRatio || 1) / backingStore;\n",
       "\n",
       "    var rubberband = $('<canvas/>');\n",
       "    rubberband.attr('style', \"position: absolute; left: 0; top: 0; z-index: 1;\")\n",
       "\n",
       "    var pass_mouse_events = true;\n",
       "\n",
       "    canvas_div.resizable({\n",
       "        start: function(event, ui) {\n",
       "            pass_mouse_events = false;\n",
       "        },\n",
       "        resize: function(event, ui) {\n",
       "            fig.request_resize(ui.size.width, ui.size.height);\n",
       "        },\n",
       "        stop: function(event, ui) {\n",
       "            pass_mouse_events = true;\n",
       "            fig.request_resize(ui.size.width, ui.size.height);\n",
       "        },\n",
       "    });\n",
       "\n",
       "    function mouse_event_fn(event) {\n",
       "        if (pass_mouse_events)\n",
       "            return fig.mouse_event(event, event['data']);\n",
       "    }\n",
       "\n",
       "    rubberband.mousedown('button_press', mouse_event_fn);\n",
       "    rubberband.mouseup('button_release', mouse_event_fn);\n",
       "    // Throttle sequential mouse events to 1 every 20ms.\n",
       "    rubberband.mousemove('motion_notify', mouse_event_fn);\n",
       "\n",
       "    rubberband.mouseenter('figure_enter', mouse_event_fn);\n",
       "    rubberband.mouseleave('figure_leave', mouse_event_fn);\n",
       "\n",
       "    canvas_div.on(\"wheel\", function (event) {\n",
       "        event = event.originalEvent;\n",
       "        event['data'] = 'scroll'\n",
       "        if (event.deltaY < 0) {\n",
       "            event.step = 1;\n",
       "        } else {\n",
       "            event.step = -1;\n",
       "        }\n",
       "        mouse_event_fn(event);\n",
       "    });\n",
       "\n",
       "    canvas_div.append(canvas);\n",
       "    canvas_div.append(rubberband);\n",
       "\n",
       "    this.rubberband = rubberband;\n",
       "    this.rubberband_canvas = rubberband[0];\n",
       "    this.rubberband_context = rubberband[0].getContext(\"2d\");\n",
       "    this.rubberband_context.strokeStyle = \"#000000\";\n",
       "\n",
       "    this._resize_canvas = function(width, height) {\n",
       "        // Keep the size of the canvas, canvas container, and rubber band\n",
       "        // canvas in synch.\n",
       "        canvas_div.css('width', width)\n",
       "        canvas_div.css('height', height)\n",
       "\n",
       "        canvas.attr('width', width * mpl.ratio);\n",
       "        canvas.attr('height', height * mpl.ratio);\n",
       "        canvas.attr('style', 'width: ' + width + 'px; height: ' + height + 'px;');\n",
       "\n",
       "        rubberband.attr('width', width);\n",
       "        rubberband.attr('height', height);\n",
       "    }\n",
       "\n",
       "    // Set the figure to an initial 600x600px, this will subsequently be updated\n",
       "    // upon first draw.\n",
       "    this._resize_canvas(600, 600);\n",
       "\n",
       "    // Disable right mouse context menu.\n",
       "    $(this.rubberband_canvas).bind(\"contextmenu\",function(e){\n",
       "        return false;\n",
       "    });\n",
       "\n",
       "    function set_focus () {\n",
       "        canvas.focus();\n",
       "        canvas_div.focus();\n",
       "    }\n",
       "\n",
       "    window.setTimeout(set_focus, 100);\n",
       "}\n",
       "\n",
       "mpl.figure.prototype._init_toolbar = function() {\n",
       "    var fig = this;\n",
       "\n",
       "    var nav_element = $('<div/>')\n",
       "    nav_element.attr('style', 'width: 100%');\n",
       "    this.root.append(nav_element);\n",
       "\n",
       "    // Define a callback function for later on.\n",
       "    function toolbar_event(event) {\n",
       "        return fig.toolbar_button_onclick(event['data']);\n",
       "    }\n",
       "    function toolbar_mouse_event(event) {\n",
       "        return fig.toolbar_button_onmouseover(event['data']);\n",
       "    }\n",
       "\n",
       "    for(var toolbar_ind in mpl.toolbar_items) {\n",
       "        var name = mpl.toolbar_items[toolbar_ind][0];\n",
       "        var tooltip = mpl.toolbar_items[toolbar_ind][1];\n",
       "        var image = mpl.toolbar_items[toolbar_ind][2];\n",
       "        var method_name = mpl.toolbar_items[toolbar_ind][3];\n",
       "\n",
       "        if (!name) {\n",
       "            // put a spacer in here.\n",
       "            continue;\n",
       "        }\n",
       "        var button = $('<button/>');\n",
       "        button.addClass('ui-button ui-widget ui-state-default ui-corner-all ' +\n",
       "                        'ui-button-icon-only');\n",
       "        button.attr('role', 'button');\n",
       "        button.attr('aria-disabled', 'false');\n",
       "        button.click(method_name, toolbar_event);\n",
       "        button.mouseover(tooltip, toolbar_mouse_event);\n",
       "\n",
       "        var icon_img = $('<span/>');\n",
       "        icon_img.addClass('ui-button-icon-primary ui-icon');\n",
       "        icon_img.addClass(image);\n",
       "        icon_img.addClass('ui-corner-all');\n",
       "\n",
       "        var tooltip_span = $('<span/>');\n",
       "        tooltip_span.addClass('ui-button-text');\n",
       "        tooltip_span.html(tooltip);\n",
       "\n",
       "        button.append(icon_img);\n",
       "        button.append(tooltip_span);\n",
       "\n",
       "        nav_element.append(button);\n",
       "    }\n",
       "\n",
       "    var fmt_picker_span = $('<span/>');\n",
       "\n",
       "    var fmt_picker = $('<select/>');\n",
       "    fmt_picker.addClass('mpl-toolbar-option ui-widget ui-widget-content');\n",
       "    fmt_picker_span.append(fmt_picker);\n",
       "    nav_element.append(fmt_picker_span);\n",
       "    this.format_dropdown = fmt_picker[0];\n",
       "\n",
       "    for (var ind in mpl.extensions) {\n",
       "        var fmt = mpl.extensions[ind];\n",
       "        var option = $(\n",
       "            '<option/>', {selected: fmt === mpl.default_extension}).html(fmt);\n",
       "        fmt_picker.append(option)\n",
       "    }\n",
       "\n",
       "    // Add hover states to the ui-buttons\n",
       "    $( \".ui-button\" ).hover(\n",
       "        function() { $(this).addClass(\"ui-state-hover\");},\n",
       "        function() { $(this).removeClass(\"ui-state-hover\");}\n",
       "    );\n",
       "\n",
       "    var status_bar = $('<span class=\"mpl-message\"/>');\n",
       "    nav_element.append(status_bar);\n",
       "    this.message = status_bar[0];\n",
       "}\n",
       "\n",
       "mpl.figure.prototype.request_resize = function(x_pixels, y_pixels) {\n",
       "    // Request matplotlib to resize the figure. Matplotlib will then trigger a resize in the client,\n",
       "    // which will in turn request a refresh of the image.\n",
       "    this.send_message('resize', {'width': x_pixels, 'height': y_pixels});\n",
       "}\n",
       "\n",
       "mpl.figure.prototype.send_message = function(type, properties) {\n",
       "    properties['type'] = type;\n",
       "    properties['figure_id'] = this.id;\n",
       "    this.ws.send(JSON.stringify(properties));\n",
       "}\n",
       "\n",
       "mpl.figure.prototype.send_draw_message = function() {\n",
       "    if (!this.waiting) {\n",
       "        this.waiting = true;\n",
       "        this.ws.send(JSON.stringify({type: \"draw\", figure_id: this.id}));\n",
       "    }\n",
       "}\n",
       "\n",
       "\n",
       "mpl.figure.prototype.handle_save = function(fig, msg) {\n",
       "    var format_dropdown = fig.format_dropdown;\n",
       "    var format = format_dropdown.options[format_dropdown.selectedIndex].value;\n",
       "    fig.ondownload(fig, format);\n",
       "}\n",
       "\n",
       "\n",
       "mpl.figure.prototype.handle_resize = function(fig, msg) {\n",
       "    var size = msg['size'];\n",
       "    if (size[0] != fig.canvas.width || size[1] != fig.canvas.height) {\n",
       "        fig._resize_canvas(size[0], size[1]);\n",
       "        fig.send_message(\"refresh\", {});\n",
       "    };\n",
       "}\n",
       "\n",
       "mpl.figure.prototype.handle_rubberband = function(fig, msg) {\n",
       "    var x0 = msg['x0'] / mpl.ratio;\n",
       "    var y0 = (fig.canvas.height - msg['y0']) / mpl.ratio;\n",
       "    var x1 = msg['x1'] / mpl.ratio;\n",
       "    var y1 = (fig.canvas.height - msg['y1']) / mpl.ratio;\n",
       "    x0 = Math.floor(x0) + 0.5;\n",
       "    y0 = Math.floor(y0) + 0.5;\n",
       "    x1 = Math.floor(x1) + 0.5;\n",
       "    y1 = Math.floor(y1) + 0.5;\n",
       "    var min_x = Math.min(x0, x1);\n",
       "    var min_y = Math.min(y0, y1);\n",
       "    var width = Math.abs(x1 - x0);\n",
       "    var height = Math.abs(y1 - y0);\n",
       "\n",
       "    fig.rubberband_context.clearRect(\n",
       "        0, 0, fig.canvas.width, fig.canvas.height);\n",
       "\n",
       "    fig.rubberband_context.strokeRect(min_x, min_y, width, height);\n",
       "}\n",
       "\n",
       "mpl.figure.prototype.handle_figure_label = function(fig, msg) {\n",
       "    // Updates the figure title.\n",
       "    fig.header.textContent = msg['label'];\n",
       "}\n",
       "\n",
       "mpl.figure.prototype.handle_cursor = function(fig, msg) {\n",
       "    var cursor = msg['cursor'];\n",
       "    switch(cursor)\n",
       "    {\n",
       "    case 0:\n",
       "        cursor = 'pointer';\n",
       "        break;\n",
       "    case 1:\n",
       "        cursor = 'default';\n",
       "        break;\n",
       "    case 2:\n",
       "        cursor = 'crosshair';\n",
       "        break;\n",
       "    case 3:\n",
       "        cursor = 'move';\n",
       "        break;\n",
       "    }\n",
       "    fig.rubberband_canvas.style.cursor = cursor;\n",
       "}\n",
       "\n",
       "mpl.figure.prototype.handle_message = function(fig, msg) {\n",
       "    fig.message.textContent = msg['message'];\n",
       "}\n",
       "\n",
       "mpl.figure.prototype.handle_draw = function(fig, msg) {\n",
       "    // Request the server to send over a new figure.\n",
       "    fig.send_draw_message();\n",
       "}\n",
       "\n",
       "mpl.figure.prototype.handle_image_mode = function(fig, msg) {\n",
       "    fig.image_mode = msg['mode'];\n",
       "}\n",
       "\n",
       "mpl.figure.prototype.updated_canvas_event = function() {\n",
       "    // Called whenever the canvas gets updated.\n",
       "    this.send_message(\"ack\", {});\n",
       "}\n",
       "\n",
       "// A function to construct a web socket function for onmessage handling.\n",
       "// Called in the figure constructor.\n",
       "mpl.figure.prototype._make_on_message_function = function(fig) {\n",
       "    return function socket_on_message(evt) {\n",
       "        if (evt.data instanceof Blob) {\n",
       "            /* FIXME: We get \"Resource interpreted as Image but\n",
       "             * transferred with MIME type text/plain:\" errors on\n",
       "             * Chrome.  But how to set the MIME type?  It doesn't seem\n",
       "             * to be part of the websocket stream */\n",
       "            evt.data.type = \"image/png\";\n",
       "\n",
       "            /* Free the memory for the previous frames */\n",
       "            if (fig.imageObj.src) {\n",
       "                (window.URL || window.webkitURL).revokeObjectURL(\n",
       "                    fig.imageObj.src);\n",
       "            }\n",
       "\n",
       "            fig.imageObj.src = (window.URL || window.webkitURL).createObjectURL(\n",
       "                evt.data);\n",
       "            fig.updated_canvas_event();\n",
       "            fig.waiting = false;\n",
       "            return;\n",
       "        }\n",
       "        else if (typeof evt.data === 'string' && evt.data.slice(0, 21) == \"data:image/png;base64\") {\n",
       "            fig.imageObj.src = evt.data;\n",
       "            fig.updated_canvas_event();\n",
       "            fig.waiting = false;\n",
       "            return;\n",
       "        }\n",
       "\n",
       "        var msg = JSON.parse(evt.data);\n",
       "        var msg_type = msg['type'];\n",
       "\n",
       "        // Call the  \"handle_{type}\" callback, which takes\n",
       "        // the figure and JSON message as its only arguments.\n",
       "        try {\n",
       "            var callback = fig[\"handle_\" + msg_type];\n",
       "        } catch (e) {\n",
       "            console.log(\"No handler for the '\" + msg_type + \"' message type: \", msg);\n",
       "            return;\n",
       "        }\n",
       "\n",
       "        if (callback) {\n",
       "            try {\n",
       "                // console.log(\"Handling '\" + msg_type + \"' message: \", msg);\n",
       "                callback(fig, msg);\n",
       "            } catch (e) {\n",
       "                console.log(\"Exception inside the 'handler_\" + msg_type + \"' callback:\", e, e.stack, msg);\n",
       "            }\n",
       "        }\n",
       "    };\n",
       "}\n",
       "\n",
       "// from http://stackoverflow.com/questions/1114465/getting-mouse-location-in-canvas\n",
       "mpl.findpos = function(e) {\n",
       "    //this section is from http://www.quirksmode.org/js/events_properties.html\n",
       "    var targ;\n",
       "    if (!e)\n",
       "        e = window.event;\n",
       "    if (e.target)\n",
       "        targ = e.target;\n",
       "    else if (e.srcElement)\n",
       "        targ = e.srcElement;\n",
       "    if (targ.nodeType == 3) // defeat Safari bug\n",
       "        targ = targ.parentNode;\n",
       "\n",
       "    // jQuery normalizes the pageX and pageY\n",
       "    // pageX,Y are the mouse positions relative to the document\n",
       "    // offset() returns the position of the element relative to the document\n",
       "    var x = e.pageX - $(targ).offset().left;\n",
       "    var y = e.pageY - $(targ).offset().top;\n",
       "\n",
       "    return {\"x\": x, \"y\": y};\n",
       "};\n",
       "\n",
       "/*\n",
       " * return a copy of an object with only non-object keys\n",
       " * we need this to avoid circular references\n",
       " * http://stackoverflow.com/a/24161582/3208463\n",
       " */\n",
       "function simpleKeys (original) {\n",
       "  return Object.keys(original).reduce(function (obj, key) {\n",
       "    if (typeof original[key] !== 'object')\n",
       "        obj[key] = original[key]\n",
       "    return obj;\n",
       "  }, {});\n",
       "}\n",
       "\n",
       "mpl.figure.prototype.mouse_event = function(event, name) {\n",
       "    var canvas_pos = mpl.findpos(event)\n",
       "\n",
       "    if (name === 'button_press')\n",
       "    {\n",
       "        this.canvas.focus();\n",
       "        this.canvas_div.focus();\n",
       "    }\n",
       "\n",
       "    var x = canvas_pos.x * mpl.ratio;\n",
       "    var y = canvas_pos.y * mpl.ratio;\n",
       "\n",
       "    this.send_message(name, {x: x, y: y, button: event.button,\n",
       "                             step: event.step,\n",
       "                             guiEvent: simpleKeys(event)});\n",
       "\n",
       "    /* This prevents the web browser from automatically changing to\n",
       "     * the text insertion cursor when the button is pressed.  We want\n",
       "     * to control all of the cursor setting manually through the\n",
       "     * 'cursor' event from matplotlib */\n",
       "    event.preventDefault();\n",
       "    return false;\n",
       "}\n",
       "\n",
       "mpl.figure.prototype._key_event_extra = function(event, name) {\n",
       "    // Handle any extra behaviour associated with a key event\n",
       "}\n",
       "\n",
       "mpl.figure.prototype.key_event = function(event, name) {\n",
       "\n",
       "    // Prevent repeat events\n",
       "    if (name == 'key_press')\n",
       "    {\n",
       "        if (event.which === this._key)\n",
       "            return;\n",
       "        else\n",
       "            this._key = event.which;\n",
       "    }\n",
       "    if (name == 'key_release')\n",
       "        this._key = null;\n",
       "\n",
       "    var value = '';\n",
       "    if (event.ctrlKey && event.which != 17)\n",
       "        value += \"ctrl+\";\n",
       "    if (event.altKey && event.which != 18)\n",
       "        value += \"alt+\";\n",
       "    if (event.shiftKey && event.which != 16)\n",
       "        value += \"shift+\";\n",
       "\n",
       "    value += 'k';\n",
       "    value += event.which.toString();\n",
       "\n",
       "    this._key_event_extra(event, name);\n",
       "\n",
       "    this.send_message(name, {key: value,\n",
       "                             guiEvent: simpleKeys(event)});\n",
       "    return false;\n",
       "}\n",
       "\n",
       "mpl.figure.prototype.toolbar_button_onclick = function(name) {\n",
       "    if (name == 'download') {\n",
       "        this.handle_save(this, null);\n",
       "    } else {\n",
       "        this.send_message(\"toolbar_button\", {name: name});\n",
       "    }\n",
       "};\n",
       "\n",
       "mpl.figure.prototype.toolbar_button_onmouseover = function(tooltip) {\n",
       "    this.message.textContent = tooltip;\n",
       "};\n",
       "mpl.toolbar_items = [[\"Home\", \"Reset original view\", \"fa fa-home icon-home\", \"home\"], [\"Back\", \"Back to  previous view\", \"fa fa-arrow-left icon-arrow-left\", \"back\"], [\"Forward\", \"Forward to next view\", \"fa fa-arrow-right icon-arrow-right\", \"forward\"], [\"\", \"\", \"\", \"\"], [\"Pan\", \"Pan axes with left mouse, zoom with right\", \"fa fa-arrows icon-move\", \"pan\"], [\"Zoom\", \"Zoom to rectangle\", \"fa fa-square-o icon-check-empty\", \"zoom\"], [\"\", \"\", \"\", \"\"], [\"Download\", \"Download plot\", \"fa fa-floppy-o icon-save\", \"download\"]];\n",
       "\n",
       "mpl.extensions = [\"eps\", \"pdf\", \"png\", \"ps\", \"raw\", \"svg\"];\n",
       "\n",
       "mpl.default_extension = \"png\";var comm_websocket_adapter = function(comm) {\n",
       "    // Create a \"websocket\"-like object which calls the given IPython comm\n",
       "    // object with the appropriate methods. Currently this is a non binary\n",
       "    // socket, so there is still some room for performance tuning.\n",
       "    var ws = {};\n",
       "\n",
       "    ws.close = function() {\n",
       "        comm.close()\n",
       "    };\n",
       "    ws.send = function(m) {\n",
       "        //console.log('sending', m);\n",
       "        comm.send(m);\n",
       "    };\n",
       "    // Register the callback with on_msg.\n",
       "    comm.on_msg(function(msg) {\n",
       "        //console.log('receiving', msg['content']['data'], msg);\n",
       "        // Pass the mpl event to the overriden (by mpl) onmessage function.\n",
       "        ws.onmessage(msg['content']['data'])\n",
       "    });\n",
       "    return ws;\n",
       "}\n",
       "\n",
       "mpl.mpl_figure_comm = function(comm, msg) {\n",
       "    // This is the function which gets called when the mpl process\n",
       "    // starts-up an IPython Comm through the \"matplotlib\" channel.\n",
       "\n",
       "    var id = msg.content.data.id;\n",
       "    // Get hold of the div created by the display call when the Comm\n",
       "    // socket was opened in Python.\n",
       "    var element = $(\"#\" + id);\n",
       "    var ws_proxy = comm_websocket_adapter(comm)\n",
       "\n",
       "    function ondownload(figure, format) {\n",
       "        window.open(figure.imageObj.src);\n",
       "    }\n",
       "\n",
       "    var fig = new mpl.figure(id, ws_proxy,\n",
       "                           ondownload,\n",
       "                           element.get(0));\n",
       "\n",
       "    // Call onopen now - mpl needs it, as it is assuming we've passed it a real\n",
       "    // web socket which is closed, not our websocket->open comm proxy.\n",
       "    ws_proxy.onopen();\n",
       "\n",
       "    fig.parent_element = element.get(0);\n",
       "    fig.cell_info = mpl.find_output_cell(\"<div id='\" + id + \"'></div>\");\n",
       "    if (!fig.cell_info) {\n",
       "        console.error(\"Failed to find cell for figure\", id, fig);\n",
       "        return;\n",
       "    }\n",
       "\n",
       "    var output_index = fig.cell_info[2]\n",
       "    var cell = fig.cell_info[0];\n",
       "\n",
       "};\n",
       "\n",
       "mpl.figure.prototype.handle_close = function(fig, msg) {\n",
       "    var width = fig.canvas.width/mpl.ratio\n",
       "    fig.root.unbind('remove')\n",
       "\n",
       "    // Update the output cell to use the data from the current canvas.\n",
       "    fig.push_to_output();\n",
       "    var dataURL = fig.canvas.toDataURL();\n",
       "    // Re-enable the keyboard manager in IPython - without this line, in FF,\n",
       "    // the notebook keyboard shortcuts fail.\n",
       "    IPython.keyboard_manager.enable()\n",
       "    $(fig.parent_element).html('<img src=\"' + dataURL + '\" width=\"' + width + '\">');\n",
       "    fig.close_ws(fig, msg);\n",
       "}\n",
       "\n",
       "mpl.figure.prototype.close_ws = function(fig, msg){\n",
       "    fig.send_message('closing', msg);\n",
       "    // fig.ws.close()\n",
       "}\n",
       "\n",
       "mpl.figure.prototype.push_to_output = function(remove_interactive) {\n",
       "    // Turn the data on the canvas into data in the output cell.\n",
       "    var width = this.canvas.width/mpl.ratio\n",
       "    var dataURL = this.canvas.toDataURL();\n",
       "    this.cell_info[1]['text/html'] = '<img src=\"' + dataURL + '\" width=\"' + width + '\">';\n",
       "}\n",
       "\n",
       "mpl.figure.prototype.updated_canvas_event = function() {\n",
       "    // Tell IPython that the notebook contents must change.\n",
       "    IPython.notebook.set_dirty(true);\n",
       "    this.send_message(\"ack\", {});\n",
       "    var fig = this;\n",
       "    // Wait a second, then push the new image to the DOM so\n",
       "    // that it is saved nicely (might be nice to debounce this).\n",
       "    setTimeout(function () { fig.push_to_output() }, 1000);\n",
       "}\n",
       "\n",
       "mpl.figure.prototype._init_toolbar = function() {\n",
       "    var fig = this;\n",
       "\n",
       "    var nav_element = $('<div/>')\n",
       "    nav_element.attr('style', 'width: 100%');\n",
       "    this.root.append(nav_element);\n",
       "\n",
       "    // Define a callback function for later on.\n",
       "    function toolbar_event(event) {\n",
       "        return fig.toolbar_button_onclick(event['data']);\n",
       "    }\n",
       "    function toolbar_mouse_event(event) {\n",
       "        return fig.toolbar_button_onmouseover(event['data']);\n",
       "    }\n",
       "\n",
       "    for(var toolbar_ind in mpl.toolbar_items){\n",
       "        var name = mpl.toolbar_items[toolbar_ind][0];\n",
       "        var tooltip = mpl.toolbar_items[toolbar_ind][1];\n",
       "        var image = mpl.toolbar_items[toolbar_ind][2];\n",
       "        var method_name = mpl.toolbar_items[toolbar_ind][3];\n",
       "\n",
       "        if (!name) { continue; };\n",
       "\n",
       "        var button = $('<button class=\"btn btn-default\" href=\"#\" title=\"' + name + '\"><i class=\"fa ' + image + ' fa-lg\"></i></button>');\n",
       "        button.click(method_name, toolbar_event);\n",
       "        button.mouseover(tooltip, toolbar_mouse_event);\n",
       "        nav_element.append(button);\n",
       "    }\n",
       "\n",
       "    // Add the status bar.\n",
       "    var status_bar = $('<span class=\"mpl-message\" style=\"text-align:right; float: right;\"/>');\n",
       "    nav_element.append(status_bar);\n",
       "    this.message = status_bar[0];\n",
       "\n",
       "    // Add the close button to the window.\n",
       "    var buttongrp = $('<div class=\"btn-group inline pull-right\"></div>');\n",
       "    var button = $('<button class=\"btn btn-mini btn-primary\" href=\"#\" title=\"Stop Interaction\"><i class=\"fa fa-power-off icon-remove icon-large\"></i></button>');\n",
       "    button.click(function (evt) { fig.handle_close(fig, {}); } );\n",
       "    button.mouseover('Stop Interaction', toolbar_mouse_event);\n",
       "    buttongrp.append(button);\n",
       "    var titlebar = this.root.find($('.ui-dialog-titlebar'));\n",
       "    titlebar.prepend(buttongrp);\n",
       "}\n",
       "\n",
       "mpl.figure.prototype._root_extra_style = function(el){\n",
       "    var fig = this\n",
       "    el.on(\"remove\", function(){\n",
       "\tfig.close_ws(fig, {});\n",
       "    });\n",
       "}\n",
       "\n",
       "mpl.figure.prototype._canvas_extra_style = function(el){\n",
       "    // this is important to make the div 'focusable\n",
       "    el.attr('tabindex', 0)\n",
       "    // reach out to IPython and tell the keyboard manager to turn it's self\n",
       "    // off when our div gets focus\n",
       "\n",
       "    // location in version 3\n",
       "    if (IPython.notebook.keyboard_manager) {\n",
       "        IPython.notebook.keyboard_manager.register_events(el);\n",
       "    }\n",
       "    else {\n",
       "        // location in version 2\n",
       "        IPython.keyboard_manager.register_events(el);\n",
       "    }\n",
       "\n",
       "}\n",
       "\n",
       "mpl.figure.prototype._key_event_extra = function(event, name) {\n",
       "    var manager = IPython.notebook.keyboard_manager;\n",
       "    if (!manager)\n",
       "        manager = IPython.keyboard_manager;\n",
       "\n",
       "    // Check for shift+enter\n",
       "    if (event.shiftKey && event.which == 13) {\n",
       "        this.canvas_div.blur();\n",
       "        // select the cell after this one\n",
       "        var index = IPython.notebook.find_cell_index(this.cell_info[0]);\n",
       "        IPython.notebook.select(index + 1);\n",
       "    }\n",
       "}\n",
       "\n",
       "mpl.figure.prototype.handle_save = function(fig, msg) {\n",
       "    fig.ondownload(fig, null);\n",
       "}\n",
       "\n",
       "\n",
       "mpl.find_output_cell = function(html_output) {\n",
       "    // Return the cell and output element which can be found *uniquely* in the notebook.\n",
       "    // Note - this is a bit hacky, but it is done because the \"notebook_saving.Notebook\"\n",
       "    // IPython event is triggered only after the cells have been serialised, which for\n",
       "    // our purposes (turning an active figure into a static one), is too late.\n",
       "    var cells = IPython.notebook.get_cells();\n",
       "    var ncells = cells.length;\n",
       "    for (var i=0; i<ncells; i++) {\n",
       "        var cell = cells[i];\n",
       "        if (cell.cell_type === 'code'){\n",
       "            for (var j=0; j<cell.output_area.outputs.length; j++) {\n",
       "                var data = cell.output_area.outputs[j];\n",
       "                if (data.data) {\n",
       "                    // IPython >= 3 moved mimebundle to data attribute of output\n",
       "                    data = data.data;\n",
       "                }\n",
       "                if (data['text/html'] == html_output) {\n",
       "                    return [cell, data, j];\n",
       "                }\n",
       "            }\n",
       "        }\n",
       "    }\n",
       "}\n",
       "\n",
       "// Register the function which deals with the matplotlib target/channel.\n",
       "// The kernel may be null if the page has been refreshed.\n",
       "if (IPython.notebook.kernel != null) {\n",
       "    IPython.notebook.kernel.comm_manager.register_target('matplotlib', mpl.mpl_figure_comm);\n",
       "}\n"
      ],
      "text/plain": [
       "<IPython.core.display.Javascript object>"
      ]
     },
     "metadata": {},
     "output_type": "display_data"
    },
    {
     "data": {
      "text/html": [
       "<img src=\"data:image/png;base64,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\" width=\"639.230792677615\">"
      ],
      "text/plain": [
       "<IPython.core.display.HTML object>"
      ]
     },
     "metadata": {},
     "output_type": "display_data"
    }
   ],
   "source": [
    "from mpl_toolkits.mplot3d import Axes3D\n",
    "fig = plt.figure()\n",
    "ax= Axes3D(fig)\n",
    "ax.scatter(*x[t==0].T, color='red')\n",
    "ax.scatter(*x[t==1].T, color='green')\n",
    "ax.plot_surface(X1, X2, Y, alpha=0.5, shade=False, color='blue')\n",
    "ax.plot_wireframe(X1, X2, 0, alpha=0.5, linewidth=1, color='grey')\n",
    "ax.contour(X1, X2, Y, [0], colors='red', linestyles='--');"
   ]
  },
  {
   "cell_type": "markdown",
   "metadata": {
    "slideshow": {
     "slide_type": "slide"
    }
   },
   "source": [
    "<img src='https://upload.wikimedia.org/wikipedia/commons/2/20/Svm_separating_hyperplanes.png' width=400/>"
   ]
  },
  {
   "cell_type": "markdown",
   "metadata": {
    "slideshow": {
     "slide_type": "slide"
    }
   },
   "source": [
    "# Probabilistic generative models\n",
    "\n",
    "Our first step is to form a model of the class posterior probabilities for the *inference stage:*\n",
    "\n",
    "This can be done by modeling: \n",
    "* the *class-conditional densities*, $p\\left(\\vec{x}\\right|\\left.C_k\\right)$,\n",
    "* the class priors, $p(C_k)$, and\n",
    "* applying [Bayes' theorem](https://en.wikipedia.org/wiki/Bayes%27_theorem) to obtain the posterior model, or\n",
    "\n",
    "*Note:* It can also be done directly, as in *probabilistic discriminative modeling* (forward pointer)."
   ]
  },
  {
   "cell_type": "markdown",
   "metadata": {
    "slideshow": {
     "slide_type": "slide"
    }
   },
   "source": [
    "## Remembering Bayes' theorem\n",
    "\n",
    "Bayes' theorem describes the probability of an event, based on conditions that might be related to the event.\n",
    "\n",
    "$$ P\\left(A\\right|\\left.B\\right) = \\frac{P\\left(B\\right|\\left.A\\right) \\, P(A)}{P(B)}\\,,$$\n",
    "where $A$ and $B$ are events.\n",
    "\n",
    "* $P(A)$ and $P(B)$ are the probabilities of $A$ and $B$ without regard to each other.\n",
    "* $P\\left( A \\right|\\left.B\\right)$, a *conditional probability*, is the probability of observing event $A$ given that $B$ is true.\n",
    "* $P\\left(B\\right|\\left.A\\right)$ is the probability of observing event $B$ given that $A$ is true."
   ]
  },
  {
   "cell_type": "markdown",
   "metadata": {
    "slideshow": {
     "slide_type": "slide"
    }
   },
   "source": [
    "* We will see that our class posterior probability model will depend only on the input $\\vec{x}$...\n",
    "* ...or a fixed transformation using basis functions $\\phi()$, and\n",
    "* class labels, $C_k$. \n",
    "\n",
    "In this case, for $K$ classes, our activation function will take the form of the *softmax function*,\n",
    "\n",
    "$$\n",
    "\\begin{align}\n",
    "f_k &= p\\left(C_k\\right|\\left.\\vec{x}\\right) &&= \\frac{p\\left(\\vec{x}\\right|\\left.C_k\\right)p\\left(C_k\\right)}{p(\\vec{x})} \\\\\n",
    "&= \\frac{p\\left(\\vec{x}\\right|\\left.C_k\\right)p\\left(C_k\\right)}{\\sum_j p\\left(\\vec{x}\\right|\\left.C_j\\right)p\\left(C_j\\right) } &&= \\frac{\\exp(a_k)}{\\sum_j \\exp(a_j)}\\,,\n",
    "\\end{align}\n",
    "$$\n",
    "\n",
    "where \n",
    "\n",
    "$$a_j = \\ln\\left(p\\left(\\vec{x}\\right|\\left.C_j\\right)p(C_j)\\right).$$"
   ]
  },
  {
   "cell_type": "markdown",
   "metadata": {
    "slideshow": {
     "slide_type": "slide"
    }
   },
   "source": [
    "In the **case of $K=2$**, the activation function will reduce to the *logistic sigmoid* function\n",
    "\n",
    "$$\\begin{align}\n",
    "f(\\vec{x}) \n",
    "= p\\left(C_1\\right|\\left.\\vec{x}\\right)\n",
    "& = \\frac{p\\left(\\vec{x}\\right|\\left.C_1\\right)p\\left(C_1\\right)}{p\\left(\\vec{x}\\right|\\left.C_1\\right)p\\left(C_1\\right) + p\\left(\\vec{x}\\right|\\left.C_2\\right)p\\left(C_2\\right)}\\\\\n",
    "&= \\frac{1}{1 + \\frac{p\\left(\\vec{x}\\right|\\left.C_2\\right)p\\left(C_2\\right)}{p\\left(\\vec{x}\\right|\\left.C_1\\right)p\\left(C_1\\right)}}\\\\\n",
    "&= \\frac{1}{1+\\exp(-a)} \\\\\n",
    "&= \\sigma(a)\\,,\n",
    "\\end{align}\n",
    "$$\n",
    "\n",
    "where \n",
    "\n",
    "$$a = \\ln \\frac {p\\left(\\vec{x}\\right|\\left. C_1\\right)p(C_1)} {p\\left(\\vec{x}\\right|\\left. C_2\\right)p\\left(C_2\\right)}\\,.$$"
   ]
  },
  {
   "cell_type": "markdown",
   "metadata": {
    "slideshow": {
     "slide_type": "notes"
    }
   },
   "source": [
    "* Note this is not the only possible form for the class posterior models. For example, one might also add a noise term to account for misclassification. \n",
    "* This particular form for the activation function is a consequence of the model we choose for $p(\\vec{x}|C_k)$ in sections below. \n",
    "* Showing the outcome may be a bit of \"putting the cart before the horse\" but it will simplify the notation as we proceed.\n",
    "* Although we have applied Bayes' Theorem, this is **not** a Bayesian model. \n",
    "    * Nowhere have we modeled the parameter posterior probability $p(\\vec{w}|\\vec{y})$. \n",
    "* Indeed, we will see shortly that we will use a *maximum likelihood* approach to determine $\\vec{w}$."
   ]
  },
  {
   "cell_type": "code",
   "execution_count": 61,
   "metadata": {
    "collapsed": false,
    "slideshow": {
     "slide_type": "slide"
    }
   },
   "outputs": [
    {
     "data": {
      "application/javascript": [
       "/* Put everything inside the global mpl namespace */\n",
       "window.mpl = {};\n",
       "\n",
       "\n",
       "mpl.get_websocket_type = function() {\n",
       "    if (typeof(WebSocket) !== 'undefined') {\n",
       "        return WebSocket;\n",
       "    } else if (typeof(MozWebSocket) !== 'undefined') {\n",
       "        return MozWebSocket;\n",
       "    } else {\n",
       "        alert('Your browser does not have WebSocket support.' +\n",
       "              'Please try Chrome, Safari or Firefox ≥ 6. ' +\n",
       "              'Firefox 4 and 5 are also supported but you ' +\n",
       "              'have to enable WebSockets in about:config.');\n",
       "    };\n",
       "}\n",
       "\n",
       "mpl.figure = function(figure_id, websocket, ondownload, parent_element) {\n",
       "    this.id = figure_id;\n",
       "\n",
       "    this.ws = websocket;\n",
       "\n",
       "    this.supports_binary = (this.ws.binaryType != undefined);\n",
       "\n",
       "    if (!this.supports_binary) {\n",
       "        var warnings = document.getElementById(\"mpl-warnings\");\n",
       "        if (warnings) {\n",
       "            warnings.style.display = 'block';\n",
       "            warnings.textContent = (\n",
       "                \"This browser does not support binary websocket messages. \" +\n",
       "                    \"Performance may be slow.\");\n",
       "        }\n",
       "    }\n",
       "\n",
       "    this.imageObj = new Image();\n",
       "\n",
       "    this.context = undefined;\n",
       "    this.message = undefined;\n",
       "    this.canvas = undefined;\n",
       "    this.rubberband_canvas = undefined;\n",
       "    this.rubberband_context = undefined;\n",
       "    this.format_dropdown = undefined;\n",
       "\n",
       "    this.image_mode = 'full';\n",
       "\n",
       "    this.root = $('<div/>');\n",
       "    this._root_extra_style(this.root)\n",
       "    this.root.attr('style', 'display: inline-block');\n",
       "\n",
       "    $(parent_element).append(this.root);\n",
       "\n",
       "    this._init_header(this);\n",
       "    this._init_canvas(this);\n",
       "    this._init_toolbar(this);\n",
       "\n",
       "    var fig = this;\n",
       "\n",
       "    this.waiting = false;\n",
       "\n",
       "    this.ws.onopen =  function () {\n",
       "            fig.send_message(\"supports_binary\", {value: fig.supports_binary});\n",
       "            fig.send_message(\"send_image_mode\", {});\n",
       "            if (mpl.ratio != 1) {\n",
       "                fig.send_message(\"set_dpi_ratio\", {'dpi_ratio': mpl.ratio});\n",
       "            }\n",
       "            fig.send_message(\"refresh\", {});\n",
       "        }\n",
       "\n",
       "    this.imageObj.onload = function() {\n",
       "            if (fig.image_mode == 'full') {\n",
       "                // Full images could contain transparency (where diff images\n",
       "                // almost always do), so we need to clear the canvas so that\n",
       "                // there is no ghosting.\n",
       "                fig.context.clearRect(0, 0, fig.canvas.width, fig.canvas.height);\n",
       "            }\n",
       "            fig.context.drawImage(fig.imageObj, 0, 0);\n",
       "        };\n",
       "\n",
       "    this.imageObj.onunload = function() {\n",
       "        this.ws.close();\n",
       "    }\n",
       "\n",
       "    this.ws.onmessage = this._make_on_message_function(this);\n",
       "\n",
       "    this.ondownload = ondownload;\n",
       "}\n",
       "\n",
       "mpl.figure.prototype._init_header = function() {\n",
       "    var titlebar = $(\n",
       "        '<div class=\"ui-dialog-titlebar ui-widget-header ui-corner-all ' +\n",
       "        'ui-helper-clearfix\"/>');\n",
       "    var titletext = $(\n",
       "        '<div class=\"ui-dialog-title\" style=\"width: 100%; ' +\n",
       "        'text-align: center; padding: 3px;\"/>');\n",
       "    titlebar.append(titletext)\n",
       "    this.root.append(titlebar);\n",
       "    this.header = titletext[0];\n",
       "}\n",
       "\n",
       "\n",
       "\n",
       "mpl.figure.prototype._canvas_extra_style = function(canvas_div) {\n",
       "\n",
       "}\n",
       "\n",
       "\n",
       "mpl.figure.prototype._root_extra_style = function(canvas_div) {\n",
       "\n",
       "}\n",
       "\n",
       "mpl.figure.prototype._init_canvas = function() {\n",
       "    var fig = this;\n",
       "\n",
       "    var canvas_div = $('<div/>');\n",
       "\n",
       "    canvas_div.attr('style', 'position: relative; clear: both; outline: 0');\n",
       "\n",
       "    function canvas_keyboard_event(event) {\n",
       "        return fig.key_event(event, event['data']);\n",
       "    }\n",
       "\n",
       "    canvas_div.keydown('key_press', canvas_keyboard_event);\n",
       "    canvas_div.keyup('key_release', canvas_keyboard_event);\n",
       "    this.canvas_div = canvas_div\n",
       "    this._canvas_extra_style(canvas_div)\n",
       "    this.root.append(canvas_div);\n",
       "\n",
       "    var canvas = $('<canvas/>');\n",
       "    canvas.addClass('mpl-canvas');\n",
       "    canvas.attr('style', \"left: 0; top: 0; z-index: 0; outline: 0\")\n",
       "\n",
       "    this.canvas = canvas[0];\n",
       "    this.context = canvas[0].getContext(\"2d\");\n",
       "\n",
       "    var backingStore = this.context.backingStorePixelRatio ||\n",
       "\tthis.context.webkitBackingStorePixelRatio ||\n",
       "\tthis.context.mozBackingStorePixelRatio ||\n",
       "\tthis.context.msBackingStorePixelRatio ||\n",
       "\tthis.context.oBackingStorePixelRatio ||\n",
       "\tthis.context.backingStorePixelRatio || 1;\n",
       "\n",
       "    mpl.ratio = (window.devicePixelRatio || 1) / backingStore;\n",
       "\n",
       "    var rubberband = $('<canvas/>');\n",
       "    rubberband.attr('style', \"position: absolute; left: 0; top: 0; z-index: 1;\")\n",
       "\n",
       "    var pass_mouse_events = true;\n",
       "\n",
       "    canvas_div.resizable({\n",
       "        start: function(event, ui) {\n",
       "            pass_mouse_events = false;\n",
       "        },\n",
       "        resize: function(event, ui) {\n",
       "            fig.request_resize(ui.size.width, ui.size.height);\n",
       "        },\n",
       "        stop: function(event, ui) {\n",
       "            pass_mouse_events = true;\n",
       "            fig.request_resize(ui.size.width, ui.size.height);\n",
       "        },\n",
       "    });\n",
       "\n",
       "    function mouse_event_fn(event) {\n",
       "        if (pass_mouse_events)\n",
       "            return fig.mouse_event(event, event['data']);\n",
       "    }\n",
       "\n",
       "    rubberband.mousedown('button_press', mouse_event_fn);\n",
       "    rubberband.mouseup('button_release', mouse_event_fn);\n",
       "    // Throttle sequential mouse events to 1 every 20ms.\n",
       "    rubberband.mousemove('motion_notify', mouse_event_fn);\n",
       "\n",
       "    rubberband.mouseenter('figure_enter', mouse_event_fn);\n",
       "    rubberband.mouseleave('figure_leave', mouse_event_fn);\n",
       "\n",
       "    canvas_div.on(\"wheel\", function (event) {\n",
       "        event = event.originalEvent;\n",
       "        event['data'] = 'scroll'\n",
       "        if (event.deltaY < 0) {\n",
       "            event.step = 1;\n",
       "        } else {\n",
       "            event.step = -1;\n",
       "        }\n",
       "        mouse_event_fn(event);\n",
       "    });\n",
       "\n",
       "    canvas_div.append(canvas);\n",
       "    canvas_div.append(rubberband);\n",
       "\n",
       "    this.rubberband = rubberband;\n",
       "    this.rubberband_canvas = rubberband[0];\n",
       "    this.rubberband_context = rubberband[0].getContext(\"2d\");\n",
       "    this.rubberband_context.strokeStyle = \"#000000\";\n",
       "\n",
       "    this._resize_canvas = function(width, height) {\n",
       "        // Keep the size of the canvas, canvas container, and rubber band\n",
       "        // canvas in synch.\n",
       "        canvas_div.css('width', width)\n",
       "        canvas_div.css('height', height)\n",
       "\n",
       "        canvas.attr('width', width * mpl.ratio);\n",
       "        canvas.attr('height', height * mpl.ratio);\n",
       "        canvas.attr('style', 'width: ' + width + 'px; height: ' + height + 'px;');\n",
       "\n",
       "        rubberband.attr('width', width);\n",
       "        rubberband.attr('height', height);\n",
       "    }\n",
       "\n",
       "    // Set the figure to an initial 600x600px, this will subsequently be updated\n",
       "    // upon first draw.\n",
       "    this._resize_canvas(600, 600);\n",
       "\n",
       "    // Disable right mouse context menu.\n",
       "    $(this.rubberband_canvas).bind(\"contextmenu\",function(e){\n",
       "        return false;\n",
       "    });\n",
       "\n",
       "    function set_focus () {\n",
       "        canvas.focus();\n",
       "        canvas_div.focus();\n",
       "    }\n",
       "\n",
       "    window.setTimeout(set_focus, 100);\n",
       "}\n",
       "\n",
       "mpl.figure.prototype._init_toolbar = function() {\n",
       "    var fig = this;\n",
       "\n",
       "    var nav_element = $('<div/>')\n",
       "    nav_element.attr('style', 'width: 100%');\n",
       "    this.root.append(nav_element);\n",
       "\n",
       "    // Define a callback function for later on.\n",
       "    function toolbar_event(event) {\n",
       "        return fig.toolbar_button_onclick(event['data']);\n",
       "    }\n",
       "    function toolbar_mouse_event(event) {\n",
       "        return fig.toolbar_button_onmouseover(event['data']);\n",
       "    }\n",
       "\n",
       "    for(var toolbar_ind in mpl.toolbar_items) {\n",
       "        var name = mpl.toolbar_items[toolbar_ind][0];\n",
       "        var tooltip = mpl.toolbar_items[toolbar_ind][1];\n",
       "        var image = mpl.toolbar_items[toolbar_ind][2];\n",
       "        var method_name = mpl.toolbar_items[toolbar_ind][3];\n",
       "\n",
       "        if (!name) {\n",
       "            // put a spacer in here.\n",
       "            continue;\n",
       "        }\n",
       "        var button = $('<button/>');\n",
       "        button.addClass('ui-button ui-widget ui-state-default ui-corner-all ' +\n",
       "                        'ui-button-icon-only');\n",
       "        button.attr('role', 'button');\n",
       "        button.attr('aria-disabled', 'false');\n",
       "        button.click(method_name, toolbar_event);\n",
       "        button.mouseover(tooltip, toolbar_mouse_event);\n",
       "\n",
       "        var icon_img = $('<span/>');\n",
       "        icon_img.addClass('ui-button-icon-primary ui-icon');\n",
       "        icon_img.addClass(image);\n",
       "        icon_img.addClass('ui-corner-all');\n",
       "\n",
       "        var tooltip_span = $('<span/>');\n",
       "        tooltip_span.addClass('ui-button-text');\n",
       "        tooltip_span.html(tooltip);\n",
       "\n",
       "        button.append(icon_img);\n",
       "        button.append(tooltip_span);\n",
       "\n",
       "        nav_element.append(button);\n",
       "    }\n",
       "\n",
       "    var fmt_picker_span = $('<span/>');\n",
       "\n",
       "    var fmt_picker = $('<select/>');\n",
       "    fmt_picker.addClass('mpl-toolbar-option ui-widget ui-widget-content');\n",
       "    fmt_picker_span.append(fmt_picker);\n",
       "    nav_element.append(fmt_picker_span);\n",
       "    this.format_dropdown = fmt_picker[0];\n",
       "\n",
       "    for (var ind in mpl.extensions) {\n",
       "        var fmt = mpl.extensions[ind];\n",
       "        var option = $(\n",
       "            '<option/>', {selected: fmt === mpl.default_extension}).html(fmt);\n",
       "        fmt_picker.append(option)\n",
       "    }\n",
       "\n",
       "    // Add hover states to the ui-buttons\n",
       "    $( \".ui-button\" ).hover(\n",
       "        function() { $(this).addClass(\"ui-state-hover\");},\n",
       "        function() { $(this).removeClass(\"ui-state-hover\");}\n",
       "    );\n",
       "\n",
       "    var status_bar = $('<span class=\"mpl-message\"/>');\n",
       "    nav_element.append(status_bar);\n",
       "    this.message = status_bar[0];\n",
       "}\n",
       "\n",
       "mpl.figure.prototype.request_resize = function(x_pixels, y_pixels) {\n",
       "    // Request matplotlib to resize the figure. Matplotlib will then trigger a resize in the client,\n",
       "    // which will in turn request a refresh of the image.\n",
       "    this.send_message('resize', {'width': x_pixels, 'height': y_pixels});\n",
       "}\n",
       "\n",
       "mpl.figure.prototype.send_message = function(type, properties) {\n",
       "    properties['type'] = type;\n",
       "    properties['figure_id'] = this.id;\n",
       "    this.ws.send(JSON.stringify(properties));\n",
       "}\n",
       "\n",
       "mpl.figure.prototype.send_draw_message = function() {\n",
       "    if (!this.waiting) {\n",
       "        this.waiting = true;\n",
       "        this.ws.send(JSON.stringify({type: \"draw\", figure_id: this.id}));\n",
       "    }\n",
       "}\n",
       "\n",
       "\n",
       "mpl.figure.prototype.handle_save = function(fig, msg) {\n",
       "    var format_dropdown = fig.format_dropdown;\n",
       "    var format = format_dropdown.options[format_dropdown.selectedIndex].value;\n",
       "    fig.ondownload(fig, format);\n",
       "}\n",
       "\n",
       "\n",
       "mpl.figure.prototype.handle_resize = function(fig, msg) {\n",
       "    var size = msg['size'];\n",
       "    if (size[0] != fig.canvas.width || size[1] != fig.canvas.height) {\n",
       "        fig._resize_canvas(size[0], size[1]);\n",
       "        fig.send_message(\"refresh\", {});\n",
       "    };\n",
       "}\n",
       "\n",
       "mpl.figure.prototype.handle_rubberband = function(fig, msg) {\n",
       "    var x0 = msg['x0'] / mpl.ratio;\n",
       "    var y0 = (fig.canvas.height - msg['y0']) / mpl.ratio;\n",
       "    var x1 = msg['x1'] / mpl.ratio;\n",
       "    var y1 = (fig.canvas.height - msg['y1']) / mpl.ratio;\n",
       "    x0 = Math.floor(x0) + 0.5;\n",
       "    y0 = Math.floor(y0) + 0.5;\n",
       "    x1 = Math.floor(x1) + 0.5;\n",
       "    y1 = Math.floor(y1) + 0.5;\n",
       "    var min_x = Math.min(x0, x1);\n",
       "    var min_y = Math.min(y0, y1);\n",
       "    var width = Math.abs(x1 - x0);\n",
       "    var height = Math.abs(y1 - y0);\n",
       "\n",
       "    fig.rubberband_context.clearRect(\n",
       "        0, 0, fig.canvas.width, fig.canvas.height);\n",
       "\n",
       "    fig.rubberband_context.strokeRect(min_x, min_y, width, height);\n",
       "}\n",
       "\n",
       "mpl.figure.prototype.handle_figure_label = function(fig, msg) {\n",
       "    // Updates the figure title.\n",
       "    fig.header.textContent = msg['label'];\n",
       "}\n",
       "\n",
       "mpl.figure.prototype.handle_cursor = function(fig, msg) {\n",
       "    var cursor = msg['cursor'];\n",
       "    switch(cursor)\n",
       "    {\n",
       "    case 0:\n",
       "        cursor = 'pointer';\n",
       "        break;\n",
       "    case 1:\n",
       "        cursor = 'default';\n",
       "        break;\n",
       "    case 2:\n",
       "        cursor = 'crosshair';\n",
       "        break;\n",
       "    case 3:\n",
       "        cursor = 'move';\n",
       "        break;\n",
       "    }\n",
       "    fig.rubberband_canvas.style.cursor = cursor;\n",
       "}\n",
       "\n",
       "mpl.figure.prototype.handle_message = function(fig, msg) {\n",
       "    fig.message.textContent = msg['message'];\n",
       "}\n",
       "\n",
       "mpl.figure.prototype.handle_draw = function(fig, msg) {\n",
       "    // Request the server to send over a new figure.\n",
       "    fig.send_draw_message();\n",
       "}\n",
       "\n",
       "mpl.figure.prototype.handle_image_mode = function(fig, msg) {\n",
       "    fig.image_mode = msg['mode'];\n",
       "}\n",
       "\n",
       "mpl.figure.prototype.updated_canvas_event = function() {\n",
       "    // Called whenever the canvas gets updated.\n",
       "    this.send_message(\"ack\", {});\n",
       "}\n",
       "\n",
       "// A function to construct a web socket function for onmessage handling.\n",
       "// Called in the figure constructor.\n",
       "mpl.figure.prototype._make_on_message_function = function(fig) {\n",
       "    return function socket_on_message(evt) {\n",
       "        if (evt.data instanceof Blob) {\n",
       "            /* FIXME: We get \"Resource interpreted as Image but\n",
       "             * transferred with MIME type text/plain:\" errors on\n",
       "             * Chrome.  But how to set the MIME type?  It doesn't seem\n",
       "             * to be part of the websocket stream */\n",
       "            evt.data.type = \"image/png\";\n",
       "\n",
       "            /* Free the memory for the previous frames */\n",
       "            if (fig.imageObj.src) {\n",
       "                (window.URL || window.webkitURL).revokeObjectURL(\n",
       "                    fig.imageObj.src);\n",
       "            }\n",
       "\n",
       "            fig.imageObj.src = (window.URL || window.webkitURL).createObjectURL(\n",
       "                evt.data);\n",
       "            fig.updated_canvas_event();\n",
       "            fig.waiting = false;\n",
       "            return;\n",
       "        }\n",
       "        else if (typeof evt.data === 'string' && evt.data.slice(0, 21) == \"data:image/png;base64\") {\n",
       "            fig.imageObj.src = evt.data;\n",
       "            fig.updated_canvas_event();\n",
       "            fig.waiting = false;\n",
       "            return;\n",
       "        }\n",
       "\n",
       "        var msg = JSON.parse(evt.data);\n",
       "        var msg_type = msg['type'];\n",
       "\n",
       "        // Call the  \"handle_{type}\" callback, which takes\n",
       "        // the figure and JSON message as its only arguments.\n",
       "        try {\n",
       "            var callback = fig[\"handle_\" + msg_type];\n",
       "        } catch (e) {\n",
       "            console.log(\"No handler for the '\" + msg_type + \"' message type: \", msg);\n",
       "            return;\n",
       "        }\n",
       "\n",
       "        if (callback) {\n",
       "            try {\n",
       "                // console.log(\"Handling '\" + msg_type + \"' message: \", msg);\n",
       "                callback(fig, msg);\n",
       "            } catch (e) {\n",
       "                console.log(\"Exception inside the 'handler_\" + msg_type + \"' callback:\", e, e.stack, msg);\n",
       "            }\n",
       "        }\n",
       "    };\n",
       "}\n",
       "\n",
       "// from http://stackoverflow.com/questions/1114465/getting-mouse-location-in-canvas\n",
       "mpl.findpos = function(e) {\n",
       "    //this section is from http://www.quirksmode.org/js/events_properties.html\n",
       "    var targ;\n",
       "    if (!e)\n",
       "        e = window.event;\n",
       "    if (e.target)\n",
       "        targ = e.target;\n",
       "    else if (e.srcElement)\n",
       "        targ = e.srcElement;\n",
       "    if (targ.nodeType == 3) // defeat Safari bug\n",
       "        targ = targ.parentNode;\n",
       "\n",
       "    // jQuery normalizes the pageX and pageY\n",
       "    // pageX,Y are the mouse positions relative to the document\n",
       "    // offset() returns the position of the element relative to the document\n",
       "    var x = e.pageX - $(targ).offset().left;\n",
       "    var y = e.pageY - $(targ).offset().top;\n",
       "\n",
       "    return {\"x\": x, \"y\": y};\n",
       "};\n",
       "\n",
       "/*\n",
       " * return a copy of an object with only non-object keys\n",
       " * we need this to avoid circular references\n",
       " * http://stackoverflow.com/a/24161582/3208463\n",
       " */\n",
       "function simpleKeys (original) {\n",
       "  return Object.keys(original).reduce(function (obj, key) {\n",
       "    if (typeof original[key] !== 'object')\n",
       "        obj[key] = original[key]\n",
       "    return obj;\n",
       "  }, {});\n",
       "}\n",
       "\n",
       "mpl.figure.prototype.mouse_event = function(event, name) {\n",
       "    var canvas_pos = mpl.findpos(event)\n",
       "\n",
       "    if (name === 'button_press')\n",
       "    {\n",
       "        this.canvas.focus();\n",
       "        this.canvas_div.focus();\n",
       "    }\n",
       "\n",
       "    var x = canvas_pos.x * mpl.ratio;\n",
       "    var y = canvas_pos.y * mpl.ratio;\n",
       "\n",
       "    this.send_message(name, {x: x, y: y, button: event.button,\n",
       "                             step: event.step,\n",
       "                             guiEvent: simpleKeys(event)});\n",
       "\n",
       "    /* This prevents the web browser from automatically changing to\n",
       "     * the text insertion cursor when the button is pressed.  We want\n",
       "     * to control all of the cursor setting manually through the\n",
       "     * 'cursor' event from matplotlib */\n",
       "    event.preventDefault();\n",
       "    return false;\n",
       "}\n",
       "\n",
       "mpl.figure.prototype._key_event_extra = function(event, name) {\n",
       "    // Handle any extra behaviour associated with a key event\n",
       "}\n",
       "\n",
       "mpl.figure.prototype.key_event = function(event, name) {\n",
       "\n",
       "    // Prevent repeat events\n",
       "    if (name == 'key_press')\n",
       "    {\n",
       "        if (event.which === this._key)\n",
       "            return;\n",
       "        else\n",
       "            this._key = event.which;\n",
       "    }\n",
       "    if (name == 'key_release')\n",
       "        this._key = null;\n",
       "\n",
       "    var value = '';\n",
       "    if (event.ctrlKey && event.which != 17)\n",
       "        value += \"ctrl+\";\n",
       "    if (event.altKey && event.which != 18)\n",
       "        value += \"alt+\";\n",
       "    if (event.shiftKey && event.which != 16)\n",
       "        value += \"shift+\";\n",
       "\n",
       "    value += 'k';\n",
       "    value += event.which.toString();\n",
       "\n",
       "    this._key_event_extra(event, name);\n",
       "\n",
       "    this.send_message(name, {key: value,\n",
       "                             guiEvent: simpleKeys(event)});\n",
       "    return false;\n",
       "}\n",
       "\n",
       "mpl.figure.prototype.toolbar_button_onclick = function(name) {\n",
       "    if (name == 'download') {\n",
       "        this.handle_save(this, null);\n",
       "    } else {\n",
       "        this.send_message(\"toolbar_button\", {name: name});\n",
       "    }\n",
       "};\n",
       "\n",
       "mpl.figure.prototype.toolbar_button_onmouseover = function(tooltip) {\n",
       "    this.message.textContent = tooltip;\n",
       "};\n",
       "mpl.toolbar_items = [[\"Home\", \"Reset original view\", \"fa fa-home icon-home\", \"home\"], [\"Back\", \"Back to  previous view\", \"fa fa-arrow-left icon-arrow-left\", \"back\"], [\"Forward\", \"Forward to next view\", \"fa fa-arrow-right icon-arrow-right\", \"forward\"], [\"\", \"\", \"\", \"\"], [\"Pan\", \"Pan axes with left mouse, zoom with right\", \"fa fa-arrows icon-move\", \"pan\"], [\"Zoom\", \"Zoom to rectangle\", \"fa fa-square-o icon-check-empty\", \"zoom\"], [\"\", \"\", \"\", \"\"], [\"Download\", \"Download plot\", \"fa fa-floppy-o icon-save\", \"download\"]];\n",
       "\n",
       "mpl.extensions = [\"eps\", \"pdf\", \"png\", \"ps\", \"raw\", \"svg\"];\n",
       "\n",
       "mpl.default_extension = \"png\";var comm_websocket_adapter = function(comm) {\n",
       "    // Create a \"websocket\"-like object which calls the given IPython comm\n",
       "    // object with the appropriate methods. Currently this is a non binary\n",
       "    // socket, so there is still some room for performance tuning.\n",
       "    var ws = {};\n",
       "\n",
       "    ws.close = function() {\n",
       "        comm.close()\n",
       "    };\n",
       "    ws.send = function(m) {\n",
       "        //console.log('sending', m);\n",
       "        comm.send(m);\n",
       "    };\n",
       "    // Register the callback with on_msg.\n",
       "    comm.on_msg(function(msg) {\n",
       "        //console.log('receiving', msg['content']['data'], msg);\n",
       "        // Pass the mpl event to the overriden (by mpl) onmessage function.\n",
       "        ws.onmessage(msg['content']['data'])\n",
       "    });\n",
       "    return ws;\n",
       "}\n",
       "\n",
       "mpl.mpl_figure_comm = function(comm, msg) {\n",
       "    // This is the function which gets called when the mpl process\n",
       "    // starts-up an IPython Comm through the \"matplotlib\" channel.\n",
       "\n",
       "    var id = msg.content.data.id;\n",
       "    // Get hold of the div created by the display call when the Comm\n",
       "    // socket was opened in Python.\n",
       "    var element = $(\"#\" + id);\n",
       "    var ws_proxy = comm_websocket_adapter(comm)\n",
       "\n",
       "    function ondownload(figure, format) {\n",
       "        window.open(figure.imageObj.src);\n",
       "    }\n",
       "\n",
       "    var fig = new mpl.figure(id, ws_proxy,\n",
       "                           ondownload,\n",
       "                           element.get(0));\n",
       "\n",
       "    // Call onopen now - mpl needs it, as it is assuming we've passed it a real\n",
       "    // web socket which is closed, not our websocket->open comm proxy.\n",
       "    ws_proxy.onopen();\n",
       "\n",
       "    fig.parent_element = element.get(0);\n",
       "    fig.cell_info = mpl.find_output_cell(\"<div id='\" + id + \"'></div>\");\n",
       "    if (!fig.cell_info) {\n",
       "        console.error(\"Failed to find cell for figure\", id, fig);\n",
       "        return;\n",
       "    }\n",
       "\n",
       "    var output_index = fig.cell_info[2]\n",
       "    var cell = fig.cell_info[0];\n",
       "\n",
       "};\n",
       "\n",
       "mpl.figure.prototype.handle_close = function(fig, msg) {\n",
       "    var width = fig.canvas.width/mpl.ratio\n",
       "    fig.root.unbind('remove')\n",
       "\n",
       "    // Update the output cell to use the data from the current canvas.\n",
       "    fig.push_to_output();\n",
       "    var dataURL = fig.canvas.toDataURL();\n",
       "    // Re-enable the keyboard manager in IPython - without this line, in FF,\n",
       "    // the notebook keyboard shortcuts fail.\n",
       "    IPython.keyboard_manager.enable()\n",
       "    $(fig.parent_element).html('<img src=\"' + dataURL + '\" width=\"' + width + '\">');\n",
       "    fig.close_ws(fig, msg);\n",
       "}\n",
       "\n",
       "mpl.figure.prototype.close_ws = function(fig, msg){\n",
       "    fig.send_message('closing', msg);\n",
       "    // fig.ws.close()\n",
       "}\n",
       "\n",
       "mpl.figure.prototype.push_to_output = function(remove_interactive) {\n",
       "    // Turn the data on the canvas into data in the output cell.\n",
       "    var width = this.canvas.width/mpl.ratio\n",
       "    var dataURL = this.canvas.toDataURL();\n",
       "    this.cell_info[1]['text/html'] = '<img src=\"' + dataURL + '\" width=\"' + width + '\">';\n",
       "}\n",
       "\n",
       "mpl.figure.prototype.updated_canvas_event = function() {\n",
       "    // Tell IPython that the notebook contents must change.\n",
       "    IPython.notebook.set_dirty(true);\n",
       "    this.send_message(\"ack\", {});\n",
       "    var fig = this;\n",
       "    // Wait a second, then push the new image to the DOM so\n",
       "    // that it is saved nicely (might be nice to debounce this).\n",
       "    setTimeout(function () { fig.push_to_output() }, 1000);\n",
       "}\n",
       "\n",
       "mpl.figure.prototype._init_toolbar = function() {\n",
       "    var fig = this;\n",
       "\n",
       "    var nav_element = $('<div/>')\n",
       "    nav_element.attr('style', 'width: 100%');\n",
       "    this.root.append(nav_element);\n",
       "\n",
       "    // Define a callback function for later on.\n",
       "    function toolbar_event(event) {\n",
       "        return fig.toolbar_button_onclick(event['data']);\n",
       "    }\n",
       "    function toolbar_mouse_event(event) {\n",
       "        return fig.toolbar_button_onmouseover(event['data']);\n",
       "    }\n",
       "\n",
       "    for(var toolbar_ind in mpl.toolbar_items){\n",
       "        var name = mpl.toolbar_items[toolbar_ind][0];\n",
       "        var tooltip = mpl.toolbar_items[toolbar_ind][1];\n",
       "        var image = mpl.toolbar_items[toolbar_ind][2];\n",
       "        var method_name = mpl.toolbar_items[toolbar_ind][3];\n",
       "\n",
       "        if (!name) { continue; };\n",
       "\n",
       "        var button = $('<button class=\"btn btn-default\" href=\"#\" title=\"' + name + '\"><i class=\"fa ' + image + ' fa-lg\"></i></button>');\n",
       "        button.click(method_name, toolbar_event);\n",
       "        button.mouseover(tooltip, toolbar_mouse_event);\n",
       "        nav_element.append(button);\n",
       "    }\n",
       "\n",
       "    // Add the status bar.\n",
       "    var status_bar = $('<span class=\"mpl-message\" style=\"text-align:right; float: right;\"/>');\n",
       "    nav_element.append(status_bar);\n",
       "    this.message = status_bar[0];\n",
       "\n",
       "    // Add the close button to the window.\n",
       "    var buttongrp = $('<div class=\"btn-group inline pull-right\"></div>');\n",
       "    var button = $('<button class=\"btn btn-mini btn-primary\" href=\"#\" title=\"Stop Interaction\"><i class=\"fa fa-power-off icon-remove icon-large\"></i></button>');\n",
       "    button.click(function (evt) { fig.handle_close(fig, {}); } );\n",
       "    button.mouseover('Stop Interaction', toolbar_mouse_event);\n",
       "    buttongrp.append(button);\n",
       "    var titlebar = this.root.find($('.ui-dialog-titlebar'));\n",
       "    titlebar.prepend(buttongrp);\n",
       "}\n",
       "\n",
       "mpl.figure.prototype._root_extra_style = function(el){\n",
       "    var fig = this\n",
       "    el.on(\"remove\", function(){\n",
       "\tfig.close_ws(fig, {});\n",
       "    });\n",
       "}\n",
       "\n",
       "mpl.figure.prototype._canvas_extra_style = function(el){\n",
       "    // this is important to make the div 'focusable\n",
       "    el.attr('tabindex', 0)\n",
       "    // reach out to IPython and tell the keyboard manager to turn it's self\n",
       "    // off when our div gets focus\n",
       "\n",
       "    // location in version 3\n",
       "    if (IPython.notebook.keyboard_manager) {\n",
       "        IPython.notebook.keyboard_manager.register_events(el);\n",
       "    }\n",
       "    else {\n",
       "        // location in version 2\n",
       "        IPython.keyboard_manager.register_events(el);\n",
       "    }\n",
       "\n",
       "}\n",
       "\n",
       "mpl.figure.prototype._key_event_extra = function(event, name) {\n",
       "    var manager = IPython.notebook.keyboard_manager;\n",
       "    if (!manager)\n",
       "        manager = IPython.keyboard_manager;\n",
       "\n",
       "    // Check for shift+enter\n",
       "    if (event.shiftKey && event.which == 13) {\n",
       "        this.canvas_div.blur();\n",
       "        // select the cell after this one\n",
       "        var index = IPython.notebook.find_cell_index(this.cell_info[0]);\n",
       "        IPython.notebook.select(index + 1);\n",
       "    }\n",
       "}\n",
       "\n",
       "mpl.figure.prototype.handle_save = function(fig, msg) {\n",
       "    fig.ondownload(fig, null);\n",
       "}\n",
       "\n",
       "\n",
       "mpl.find_output_cell = function(html_output) {\n",
       "    // Return the cell and output element which can be found *uniquely* in the notebook.\n",
       "    // Note - this is a bit hacky, but it is done because the \"notebook_saving.Notebook\"\n",
       "    // IPython event is triggered only after the cells have been serialised, which for\n",
       "    // our purposes (turning an active figure into a static one), is too late.\n",
       "    var cells = IPython.notebook.get_cells();\n",
       "    var ncells = cells.length;\n",
       "    for (var i=0; i<ncells; i++) {\n",
       "        var cell = cells[i];\n",
       "        if (cell.cell_type === 'code'){\n",
       "            for (var j=0; j<cell.output_area.outputs.length; j++) {\n",
       "                var data = cell.output_area.outputs[j];\n",
       "                if (data.data) {\n",
       "                    // IPython >= 3 moved mimebundle to data attribute of output\n",
       "                    data = data.data;\n",
       "                }\n",
       "                if (data['text/html'] == html_output) {\n",
       "                    return [cell, data, j];\n",
       "                }\n",
       "            }\n",
       "        }\n",
       "    }\n",
       "}\n",
       "\n",
       "// Register the function which deals with the matplotlib target/channel.\n",
       "// The kernel may be null if the page has been refreshed.\n",
       "if (IPython.notebook.kernel != null) {\n",
       "    IPython.notebook.kernel.comm_manager.register_target('matplotlib', mpl.mpl_figure_comm);\n",
       "}\n"
      ],
      "text/plain": [
       "<IPython.core.display.Javascript object>"
      ]
     },
     "metadata": {},
     "output_type": "display_data"
    },
    {
     "data": {
      "text/html": [
       "<img src=\"data:image/png;base64,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\" width=\"664.6154089933325\">"
      ],
      "text/plain": [
       "<IPython.core.display.HTML object>"
      ]
     },
     "metadata": {},
     "output_type": "display_data"
    }
   ],
   "source": [
    "def sigmoid(a):\n",
    "    return 1/(1+np.exp(-a))\n",
    "\n",
    "domain = np.linspace(-10,10, 100)\n",
    "plt.figure()\n",
    "plt.plot(domain, sigmoid(domain));\n",
    "plt.title(r'A Sigmoid, $\\sigma(\\alpha)$');"
   ]
  },
  {
   "cell_type": "markdown",
   "metadata": {
    "slideshow": {
     "slide_type": "slide"
    }
   },
   "source": [
    "These models are **known as generative models** because they can be used to generate synthetic input\n",
    "data by applying [inverse transform sampling](http://en.wikipedia.org/wiki/Inverse_transform_sampling) to the marginal distribution for $\\vec{x}$:\n",
    "\n",
    "$$p(\\vec{x}) = \\sum_k p(\\vec{x}|C_k)p(C_k)\\,.$$"
   ]
  },
  {
   "cell_type": "markdown",
   "metadata": {
    "slideshow": {
     "slide_type": "slide"
    }
   },
   "source": [
    "### Model assumptions\n",
    "\n",
    "To move forward, it is necessary to start making **model assumptions**. \n",
    "Here we will *assume* that:\n",
    "* we have continuous inputs, i.e. $x\\in \\mathbb{R}^n$ (see Bishop p.202 or Andrew Ng's Lecture 5 pdf for discrete input using Naïve Bayes & Laplace), and\n",
    "* that the *class-conditional densities*, $p(\\vec{x}|C_k)$, are modeled by a Gaussian distribution. "
   ]
  },
  {
   "cell_type": "markdown",
   "metadata": {
    "slideshow": {
     "slide_type": "slide"
    }
   },
   "source": [
    "### Transformation under the Gaussian assumption\n",
    "\n",
    "Under the Gaussian assumption, the class-conditional density  for class $C_k$ is\n",
    "\n",
    "$$p(\\vec{x}|C_k) = \\frac{1}{\\left(2 \\pi \\right)^{n/2}} \\frac{1}{\\left|\\vec{\\Sigma}\\right|^{1/2}} \\exp \\left( -\\frac{1}{2} \\left(\\vec{x} - \\vec{\\mu}_k\\right)^\\intercal \\vec{\\Sigma}^{-1} \\left(\\vec{x} - \\vec{\\mu}_k\\right) \\right)\\,,$$\n",
    "\n",
    "where:\n",
    "* $n$ is the dimension of the input vector $\\vec{x}$, \n",
    "* $\\vec{\\Sigma}$ is the *covariance matrix*, and\n",
    "* $\\vec{\\mu}$ is the mean vector.\n",
    "\n",
    "*Note:* here we have *assumed* that all classes share the same covariance matrix."
   ]
  },
  {
   "cell_type": "markdown",
   "metadata": {
    "slideshow": {
     "slide_type": "slide"
    }
   },
   "source": [
    "A [logistic function](https://en.wikipedia.org/wiki/Logistic_function) or logistic curve is a common \"S\" shape (sigmoid curve), defined as\n",
    "\n",
    "$$\\sigma(x)={\\frac {L}{1+\\exp(-k(x-x_{0}))}}\\,,$$\n",
    "\n",
    "where:\n",
    "\n",
    "* $x_0$: the x-value of the sigmoid's midpoint,\n",
    "* $L$: the curve's maximum value, and\n",
    "* *k*: the steepness of the curve."
   ]
  },
  {
   "cell_type": "markdown",
   "metadata": {
    "slideshow": {
     "slide_type": "slide"
    }
   },
   "source": [
    "In the case of **two classes**, this result is substituted into the logistic sigmoid function and reduces to\n",
    "\n",
    "$$p(C_1|\\vec{x}) \n",
    " = \\sigma(a) =\n",
    " \\sigma \\left( \\vec{w}^\\intercal \\vec{x} + w_0 \\right)$$\n",
    "because\n",
    "\n",
    "$$\n",
    "\\begin{align}\n",
    "a &= \\ln \\frac{p(x|C_1)p(C_1)}{p(x|C_2)p(C_2)} \\\\\n",
    "  &= \\ln p(x|C_1) - \\ln p(x|C_2) + \\ln \\frac{p(C_1)} {p(C_2)}\\\\\n",
    "  &= -\\frac{1}{2}(\\vec{x}-\\vec{\\mu}_1)^T \\vec{\\Sigma}^{-1}(\\vec{x}-\\vec{\\mu}_1)^T  + \\frac{1}{2}(\\vec{x}- \\vec{\\mu}_2)^T \\vec{\\Sigma}^{-1}(\\vec{x}-\\vec{\\mu}_2)^T  + \\ln \\frac{p(C_1)} {p(C_2)}\\\\\n",
    "  &= {-\\frac{1}{2}\\vec{x}^T\\vec{\\Sigma}^{-1}\\vec{x}} + \\vec{\\mu}_1^T\\vec{\\Sigma}^{-1}\\vec{x} - \\frac{1}{2}\\vec{\\mu}_1^T\\vec{\\Sigma}^{-1}\\vec{\\mu}_1  \\\\\n",
    "  &\\hspace{2em}{+\\frac{1}{2}\\vec{x}^T\\vec{\\Sigma}^{-1}\\vec{x}}  - \\vec{\\mu}_2^T \\vec{\\Sigma}^{-1}\\vec{x} +\\frac{1}{2}\\vec{\\mu}_2^T\\vec{\\Sigma}^{-1}\\vec{\\mu}_2  + \\ln \\frac{p(C_1)} {p(C_2)}\\\\\n",
    "  &= \\underbrace{\\left[ \\vec{\\Sigma}^{-1}(\\vec{\\mu}_2-\\vec{\\mu}_1)^T\\right]^T}_{\\vec{w}^T}\\vec{x} \n",
    "     \\underbrace{- \\frac{1}{2}\\vec{\\mu}_1^T\\vec{\\Sigma}^{-1}\\vec{\\mu}_1 + \\frac{1}{2}\\vec{\\mu}_2^T\\vec{\\Sigma}^{-1}\\vec{\\mu}_2 + \\ln \\frac{p(C_1)} {p(C_2)}}_{w_0}\\\\\n",
    "\\end{align}\n",
    "$$\n",
    "\n",
    "were we have defined: \n",
    "\n",
    "$$\\vec{w} = \\mathbf{\\Sigma}^{-1} \\left( \\mathbf{\\mu}_1 - \\mathbf{\\mu}_2 \\right),$$\n",
    "\n",
    "$$w_0 = -\\frac{1}{2} \\vec{\\mu}_1^\\intercal \\vec{\\Sigma}^{-1} \\vec{\\mu}_1 + \\frac{1}{2} \\vec{\\mu}_2^\\intercal \\vec{\\Sigma}^{-1} \\vec{\\mu}_2 + \\ln \\frac{p(C_1)} {p(C_2)}$$"
   ]
  },
  {
   "cell_type": "markdown",
   "metadata": {
    "slideshow": {
     "slide_type": "slide"
    }
   },
   "source": [
    "### What about  $p(C_k)$?\n",
    "\n",
    "* The class prior probabilities, $p(C_k)$, effectively act as a bias term. \n",
    "* Note that we have yet to specify a model for these distributions. \n",
    "\n",
    "If we are to use the result above, we will need to make **another model assumption**. \n",
    "* We will *assume* that the *class priors* are modeled by a [Bernoulli distribution](https://en.wikipedia.org/wiki/Bernoulli_distribution) with $p(C_1)=\\gamma$ and $p(C_2)=1-\\gamma$. "
   ]
  },
  {
   "cell_type": "markdown",
   "metadata": {
    "slideshow": {
     "slide_type": "slide"
    }
   },
   "source": [
    "These results can be extended to the case of $K>2$ classes for which we obtain\n",
    "\n",
    "$$a_k(\\vec{x}) = \\left[\\vec{\\Sigma}^{-1} \\vec{\\mu}_k \\right]^\\intercal \\vec{x} - \\frac{1}{2} \\vec{\\mu}_k^\\intercal \\vec{\\Sigma}^{-1} \\vec{\\mu}_k + \\ln p(C_k)$$\n",
    "\n",
    "which is used in the first activation function provided at the beginning of this section. "
   ]
  },
  {
   "cell_type": "markdown",
   "metadata": {
    "slideshow": {
     "slide_type": "slide"
    }
   },
   "source": [
    "### What about the posterior class densities?\n",
    "\n",
    "We have not formulated a complete model for the posterior class densities, in that we have not yet solved for the model parameters, $\\vec{\\mu}$ and $\\vec{\\Sigma}$. \n",
    "\n",
    "We do that now using a **maximum likelihood** approach."
   ]
  },
  {
   "cell_type": "markdown",
   "metadata": {
    "slideshow": {
     "slide_type": "slide"
    }
   },
   "source": [
    "## Likelihood function\n",
    "\n",
    "* A **function of the parameters** of a statistical model **given** some data.\n",
    "\n",
    "The likelihood of a set of parameter values, $\\theta$, given outcomes $x$, is the probability of those observed outcomes given those parameter values,\n",
    "\n",
    "$$\\mathcal{L}(\\theta |x)=P(x|\\theta)$$\n",
    "* Frequently, the natural logarithm of the likelihood function, called the **log-likelihood**, is more convenient to work with."
   ]
  },
  {
   "cell_type": "markdown",
   "metadata": {
    "slideshow": {
     "slide_type": "slide"
    }
   },
   "source": [
    "## Maximum Likelihood Solution\n",
    "\n",
    "Considering the case of two classes, $C_1$ and $C_2$, with \n",
    "* Bernoulli prior distributions, $p(C_1)=\\gamma$ and $p(C_2)=1-\\gamma$, and\n",
    "* Gaussian *class-conditional density* distributions $p(\\vec{x}|C_k)$, \n",
    "* assume we have a training data set, $\\Psi$, with $m$ elements of the form\n",
    "\n",
    "$$\\Psi = \\left\\{\\left\\langle\\vec{x}_i, t_i\\right\\rangle\\right\\}$$\n",
    "\n",
    "where $t_i=0$ indicates that $\\vec{x_i}$ is in class $C_1$ and $t_i=1$ indicates that $\\vec{x}_i$ is in class $C_2$.\n",
    "\n",
    "The likelihood function is then given by\n",
    "\n",
    "$$p\\left(\\vec{t}, \\vec{X} \\mid \\gamma, \\vec{\\mu}_1, \\vec{\\mu}_2, \\vec{\\Sigma}\\right) = \\prod_{i=1}^m \\left[\\gamma \\mathcal{N} \\left(\\vec{x}_i \\mid \\mu_1, \\vec{\\Sigma}\\right)\\right]^{t_i} \\left[\\left(1-\\gamma\\right) \\mathcal{N}\\left(\\vec{x}_i \\mid \\mu_2, \\vec{\\Sigma}\\right)\\right]^{1-t_i}\\,.$$ "
   ]
  },
  {
   "cell_type": "markdown",
   "metadata": {
    "slideshow": {
     "slide_type": "slide"
    }
   },
   "source": [
    "Taking the derivate of this expression with respect to the various model parameters, $\\gamma$, $\\mu_1$, $\\mu_2$, and $\\vec{\\Sigma}$, and setting it equal to zero, we obtain\n",
    "\n",
    "$$\\gamma = \\frac{N_1}{N_1+N_2}$$\n",
    "\n",
    "where $N_1$ is the number of training inputs in class $C_1$ and $N_2$ is the number in class $C_2$.\n",
    "\n",
    "*NOTE:*   Write this down for whenwe see it again later in the presentation"
   ]
  },
  {
   "cell_type": "markdown",
   "metadata": {
    "slideshow": {
     "slide_type": "slide"
    }
   },
   "source": [
    "#### similarly...\n",
    "\n",
    "$$\\mu_2 = \\frac{1}{N_2} \\sum_{i=1}^m t_i \\vec{x}_i\\,,$$\n",
    "$$\\mu_1 = \\frac{1}{N_1} \\sum_{i=1}^m (1-t_i) \\vec{x}_i\\,,\\ \\text{and}$$\n",
    "\n",
    "$$\\vec{\\Sigma} = \\frac{1}{m}\\left[ \\sum_{i\\in C_1} (\\vec{x}_i-\\mu_1)(\\vec{x}_i-\\mu_1)^T + \\sum_{i\\in C_2} (\\vec{x}_i-\\mu_2)(\\vec{x}_i-\\mu_2)^T \\right]\\,.$$\n",
    "\n",
    "*NOTE:* Write this down too...."
   ]
  },
  {
   "cell_type": "markdown",
   "metadata": {
    "slideshow": {
     "slide_type": "slide"
    }
   },
   "source": [
    "## Example\n",
    "\n",
    "* We will choose some *truth* values for our parameters and use our generative model to generate synthetic data. \n",
    "* We can then use that data as input to the maximum likelihood solution to see the estimates of the truth parameters. \n",
    "* Let's use 1-D input for simplicity. \n",
    "* We will be using a basic form of inverse transform sampling.\n",
    "* Specifically, we wish for our training input data,  $\\vec{x}$, to be derived from a distribution modeled by the marginal distribution $p(\\vec{x})$."
   ]
  },
  {
   "cell_type": "markdown",
   "metadata": {
    "slideshow": {
     "slide_type": "slide"
    }
   },
   "source": [
    "* To obtain this, we first formulate the cumulative distribution function, \n",
    "$CDF(\\vec{X}) = \\int_{-\\infty}^{\\vec{X}} p(\\vec{x})d\\vec{x}$ (note that the range of the CDF is $\\in [0,1]$).\n",
    "* To obtain appropriately distributed $\\vec{x}$ values, we choose some value from a uniform distribution on $[0,1]$, say $y$, and find the value $\\vec{X}$ such that $CDF(\\vec{X})=y$. \n",
    "* This value of $\\vec{X}$ is our input $\\vec{x}$.\n",
    "* This approach requires us to find the inverse of the CDF, which we will do numerically.\n",
    "* Once we have obtained a value for $\\vec{x}$ we need to assign it to a particular class. \n",
    "\n",
    "We will *assume* that the correct class is that for which the posterior probability $p(\\left.C_k\\right|\\vec{x})$ is greatest, **unless** the difference between the two posterior probabilities is less than some minimum value in which case we will chose randomly - this will add some \"noise\" to our input training data."
   ]
  },
  {
   "cell_type": "markdown",
   "metadata": {
    "slideshow": {
     "slide_type": "slide"
    }
   },
   "source": [
    "Select truth data values, these will *NOT* be known to the training algorithm, they are only used in generating the sample data."
   ]
  },
  {
   "cell_type": "code",
   "execution_count": null,
   "metadata": {
    "collapsed": true
   },
   "outputs": [],
   "source": [
    "true_mu1 =-2.0\n",
    "true_mu2 = 2.0\n",
    "true_sigma = 2.0\n",
    "true_gamma = 0.5"
   ]
  },
  {
   "cell_type": "code",
   "execution_count": null,
   "metadata": {
    "collapsed": true,
    "slideshow": {
     "slide_type": "fragment"
    }
   },
   "outputs": [],
   "source": [
    "import scipy.integrate as sci_intgr\n",
    "import scipy.optimize as sci_opt"
   ]
  },
  {
   "cell_type": "markdown",
   "metadata": {
    "slideshow": {
     "slide_type": "slide"
    }
   },
   "source": [
    "Defining probability functions"
   ]
  },
  {
   "cell_type": "code",
   "execution_count": null,
   "metadata": {
    "collapsed": true,
    "slideshow": {
     "slide_type": "fragment"
    }
   },
   "outputs": [],
   "source": [
    "def p_xCk(x, mu, sigma):\n",
    "    'Class conditional probability p(x|Ck)'\n",
    "    denom = math.sqrt(2.0 * math.pi * sigma)\n",
    "    arg = -0.5 * (x - mu) * (x - mu) / sigma\n",
    "    return math.exp(arg) / denom"
   ]
  },
  {
   "cell_type": "code",
   "execution_count": null,
   "metadata": {
    "collapsed": true,
    "slideshow": {
     "slide_type": "fragment"
    }
   },
   "outputs": [],
   "source": [
    "def p_x(x, mu1, mu2, sigma, gamma):\n",
    "    'Marginal probability p(x)'\n",
    "    return gamma * p_xCk(x, mu1, sigma) + (1.0 - gamma) * p_xCk(x, mu2, sigma)"
   ]
  },
  {
   "cell_type": "code",
   "execution_count": null,
   "metadata": {
    "collapsed": true,
    "slideshow": {
     "slide_type": "slide"
    }
   },
   "outputs": [],
   "source": [
    "def p_Ckx(x, mu1, mu2, sigma, gamma):\n",
    "    'Posterior class probability vector (p(C_1|x), p(C_2|x))'\n",
    "    a = math.log(p_xCk(x, mu1, sigma)*gamma/(p_xCk(x,mu2,sigma)*(1-gamma)))\n",
    "    pc1 = 1.0/(1.0 + math.exp(-a))\n",
    "    return (pc1, 1.0 - pc1)"
   ]
  },
  {
   "cell_type": "code",
   "execution_count": null,
   "metadata": {
    "collapsed": true,
    "slideshow": {
     "slide_type": "fragment"
    }
   },
   "outputs": [],
   "source": [
    "def cdf(x, mu1, mu2, sigma, gamma):\n",
    "    'Cumulative distribution function P(x<X)'\n",
    "    return sci_intgr.quad(func=p_x, a=-np.inf, b=x, args=(mu1, mu2, sigma, gamma))"
   ]
  },
  {
   "cell_type": "code",
   "execution_count": null,
   "metadata": {
    "collapsed": true,
    "slideshow": {
     "slide_type": "fragment"
    }
   },
   "outputs": [],
   "source": [
    "def inv_cdf(y, mu1, mu2, sigma, gamma):\n",
    "    'Inverse of the CDF'\n",
    "    f = lambda x: cdf(x,mu1,mu2,sigma,gamma)[0] - y\n",
    "    return sci_opt.newton(f, 0)"
   ]
  },
  {
   "cell_type": "markdown",
   "metadata": {
    "slideshow": {
     "slide_type": "slide"
    }
   },
   "source": [
    "Class conditional probabilities"
   ]
  },
  {
   "cell_type": "code",
   "execution_count": null,
   "metadata": {
    "collapsed": true,
    "slideshow": {
     "slide_type": "-"
    }
   },
   "outputs": [],
   "source": [
    "domain = np.linspace(-5, 5, 100)"
   ]
  },
  {
   "cell_type": "code",
   "execution_count": null,
   "metadata": {
    "collapsed": true
   },
   "outputs": [],
   "source": [
    "px_class1 = [p_xCk(x, true_mu1, true_sigma) for x in domain]\n",
    "px_class2 = [p_xCk(x, true_mu2, true_sigma) for x in domain]"
   ]
  },
  {
   "cell_type": "code",
   "execution_count": null,
   "metadata": {
    "collapsed": false,
    "slideshow": {
     "slide_type": "slide"
    }
   },
   "outputs": [],
   "source": [
    "fig = plt.figure(figsize=(5,4))\n",
    "plt.plot(domain, px_class1, label='Class 1')\n",
    "plt.plot(domain, px_class2, label='Class 2')\n",
    "plt.xlabel('$x$'); plt.ylabel('$p(x|C_k)$');plt.legend(bbox_to_anchor=(1.37,1), fancybox=True);\n",
    "plt.title('Class conditional probability - $p(x|C_k)$');"
   ]
  },
  {
   "cell_type": "markdown",
   "metadata": {
    "slideshow": {
     "slide_type": "slide"
    }
   },
   "source": [
    "Marginal distribution of $x$"
   ]
  },
  {
   "cell_type": "code",
   "execution_count": null,
   "metadata": {
    "collapsed": true
   },
   "outputs": [],
   "source": [
    "px = [p_x(x, true_mu1, true_mu2, true_sigma, true_gamma) for x in domain]"
   ]
  },
  {
   "cell_type": "code",
   "execution_count": null,
   "metadata": {
    "collapsed": false,
    "slideshow": {
     "slide_type": "fragment"
    }
   },
   "outputs": [],
   "source": [
    "fig = plt.figure(figsize=(5,4))\n",
    "plt.plot(domain,px)\n",
    "plt.xlabel('$x$');plt.ylabel('$p(x)$');plt.title('Marginal distribution - $p(x)$');"
   ]
  },
  {
   "cell_type": "markdown",
   "metadata": {
    "slideshow": {
     "slide_type": "slide"
    }
   },
   "source": [
    "Posterior distribution"
   ]
  },
  {
   "cell_type": "code",
   "execution_count": null,
   "metadata": {
    "collapsed": true
   },
   "outputs": [],
   "source": [
    "pc1x, pc2x = [], []\n",
    "for x in domain:\n",
    "    pck = p_Ckx(x, true_mu1, true_mu2, true_sigma, true_gamma)\n",
    "    pc1x.append(pck[0]); pc2x.append(pck[1])"
   ]
  },
  {
   "cell_type": "code",
   "execution_count": null,
   "metadata": {
    "collapsed": false,
    "slideshow": {
     "slide_type": "fragment"
    }
   },
   "outputs": [],
   "source": [
    "fig = plt.figure(figsize=(5,4))\n",
    "plt.plot(domain, pc1x, label='Class 1')\n",
    "plt.plot(domain, pc2x, label='Class 2')\n",
    "plt.xlabel('$x$');plt.ylabel('$p(C_k|x)$');\n",
    "plt.title('Posterior distributions - $p(C_1|x)$ and $p(C_2|x)$');"
   ]
  },
  {
   "cell_type": "markdown",
   "metadata": {
    "slideshow": {
     "slide_type": "slide"
    }
   },
   "source": [
    "Or model is ready, let's generate some data and test it."
   ]
  },
  {
   "cell_type": "code",
   "execution_count": null,
   "metadata": {
    "collapsed": true
   },
   "outputs": [],
   "source": [
    "np.random.seed(123456789) # do not do this in real life\n",
    "num_samples = 1000\n",
    "x = np.zeros(num_samples)\n",
    "t = np.zeros(num_samples)\n",
    "pcx = np.zeros(num_samples)\n",
    "n1 = 0\n",
    "nae = 0\n",
    "assignment_epsilon = 0.5"
   ]
  },
  {
   "cell_type": "markdown",
   "metadata": {
    "slideshow": {
     "slide_type": "slide"
    }
   },
   "source": [
    "Assigning `x` to `1` for **class 1** and `0` for **class 2**."
   ]
  },
  {
   "cell_type": "code",
   "execution_count": null,
   "metadata": {
    "collapsed": true
   },
   "outputs": [],
   "source": [
    "for i in range(num_samples):\n",
    "    rv = np.random.uniform()\n",
    "    x[i] = inv_cdf(rv, true_mu1, true_mu2, true_sigma, true_gamma)\n",
    "    pcx1 = p_Ckx(x[i], true_mu1, true_mu2, true_sigma, true_gamma)\n",
    "    pcx2 = pcx1[1]\n",
    "    pcx1 = pcx1[0]\n",
    "    #we don't want a perfect dividing line for our domain, otherwise why would we need a learning algorithim?\n",
    "    if math.fabs(pcx2-pcx1) <= assignment_epsilon:\n",
    "        nae = nae + 1\n",
    "        if np.random.uniform() <= 0.5:\n",
    "            t[i] = 1\n",
    "            n1 = n1 + 1\n",
    "        else:\n",
    "            t[i] = 0\n",
    "    elif pcx1 > pcx2:\n",
    "        t[i] = 1\n",
    "        n1 = n1 + 1\n",
    "    else: t[i]=0"
   ]
  },
  {
   "cell_type": "markdown",
   "metadata": {
    "slideshow": {
     "slide_type": "slide"
    }
   },
   "source": [
    "### Plot the simulated data"
   ]
  },
  {
   "cell_type": "code",
   "execution_count": null,
   "metadata": {
    "collapsed": false
   },
   "outputs": [],
   "source": [
    "fig = plt.figure(figsize=(5,4))\n",
    "plt.scatter(x, t, marker='.', alpha=0.1)\n",
    "plt.axvline(0, linestyle='--')\n",
    "plt.xlabel('$x$');plt.ylabel('Class ($t$)'); plt.title('Simulated training data');"
   ]
  },
  {
   "cell_type": "markdown",
   "metadata": {
    "slideshow": {
     "slide_type": "slide"
    }
   },
   "source": [
    "## Estimating the parameters"
   ]
  },
  {
   "cell_type": "code",
   "execution_count": null,
   "metadata": {
    "collapsed": true
   },
   "outputs": [],
   "source": [
    "n2 = num_samples - n1\n",
    "e_gamma = n1/num_samples"
   ]
  },
  {
   "cell_type": "code",
   "execution_count": null,
   "metadata": {
    "collapsed": true
   },
   "outputs": [],
   "source": [
    "e_mu1 = 0\n",
    "for x_i, t_i in zip(x,t): \n",
    "    if t_i == 1:\n",
    "        e_mu1 += x_i\n",
    "    # e_mu1 += x_i*t_i\n",
    "e_mu1 /= n1"
   ]
  },
  {
   "cell_type": "code",
   "execution_count": null,
   "metadata": {
    "collapsed": true
   },
   "outputs": [],
   "source": [
    "e_mu2 = 0\n",
    "for x_i, t_i in zip(x,t):\n",
    "    if t_i == 0:\n",
    "        e_mu2 += x_i\n",
    "    # e_mu2 += x_i*(1-t_i)\n",
    "e_mu2 /= n2"
   ]
  },
  {
   "cell_type": "code",
   "execution_count": null,
   "metadata": {
    "collapsed": true,
    "slideshow": {
     "slide_type": "slide"
    }
   },
   "outputs": [],
   "source": [
    "def Sn(Z, ck, mu=(e_mu1,e_mu2)):\n",
    "    idx = 1-int(ck)\n",
    "    return (Z[0]-mu[idx]) * (Z[0]-mu[idx])"
   ]
  },
  {
   "cell_type": "code",
   "execution_count": null,
   "metadata": {
    "collapsed": true,
    "slideshow": {
     "slide_type": "fragment"
    }
   },
   "outputs": [],
   "source": [
    "e_sigma = 0\n",
    "for x_i, t_i in zip(x,t): \n",
    "    e_sigma += Sn((x_i, t_i), t_i)\n",
    "e_sigma /= float(num_samples)"
   ]
  },
  {
   "cell_type": "code",
   "execution_count": null,
   "metadata": {
    "collapsed": false
   },
   "outputs": [],
   "source": [
    "print('The number of inputs in C1 is {0}'.format(n1))\n",
    "print('The number of inputs that were assigned based on the assignment factor is {0}'.format(nae))\n",
    "print('True model parameters: gamma={0}, µ1={1}, µ2={2}, ∑={3}'.format(true_gamma, \n",
    "                                                                       true_mu1, true_mu2, \n",
    "                                                                       true_sigma))\n",
    "print('Estimated model parameters: gamma={0}, µ1={1}, µ2={2}, ∑={3}'.format(e_gamma, e_mu1, \n",
    "                                                                            e_mu2, e_sigma))"
   ]
  },
  {
   "cell_type": "markdown",
   "metadata": {
    "slideshow": {
     "slide_type": "slide"
    }
   },
   "source": [
    "# Probabilistic discriminative models\n",
    "\n",
    "Probablistic discriminative models assume the same generalized linear model\n",
    "\n",
    "$$y(\\phi(\\vec{x})) = f(\\vec{w}^\\intercal\\phi(\\vec{x}))$$\n",
    "\n",
    "as in the probabilistic generative models. "
   ]
  },
  {
   "cell_type": "markdown",
   "metadata": {
    "slideshow": {
     "slide_type": "slide"
    }
   },
   "source": [
    "* Instead of formulating models for the *class-conditional* densities, $p\\left(\\phi(\\vec{x})\\right|\\left.C_k\\right)$, and the *class priors*, $p(C_k)$, \n",
    "* the discriminative approach explicitly models the *class posterior* probabilities, $p\\left(C_k\\right|\\left.\\phi(\\vec{x})\\right)$ with model parameters $\\vec{w}$. \n",
    "* As in the probabilistic generative approach, maximum likelihood is used to estimate the model parameters given some training data set, $\\Psi$."
   ]
  },
  {
   "cell_type": "markdown",
   "metadata": {
    "slideshow": {
     "slide_type": "slide"
    }
   },
   "source": [
    "The **key difference** is the form of the likelihood function. \n",
    "* In the **probabilistic generative case**, the likelihood function is a function of the joint probability,\n",
    "$p\\left(\\phi(\\vec{x}),C_k\\right)=p\\left(\\phi(\\vec{x})\\right|\\left.C_k\\right)p(C_k)$. \n",
    "* In the **probabilistic discriminative approach**, the likelihood function is a function of the conditional class posteriors, $p\\left(C_k\\right|\\left.\\phi(\\vec{x})\\right)$ only."
   ]
  },
  {
   "cell_type": "markdown",
   "metadata": {
    "slideshow": {
     "slide_type": "notes"
    }
   },
   "source": [
    "*Note*: The section on probablistic generative models focused on models that used the input, $\\vec{x}$, directly. However, as noted previously, those models, and the results, hold equally well for input that undergoes a **fixed** transformation using a set of basis functions, $\\phi()$. In this section, we will focus on the inclusion of an input transformation via the basis functions."
   ]
  },
  {
   "cell_type": "markdown",
   "metadata": {
    "slideshow": {
     "slide_type": "slide"
    }
   },
   "source": [
    "## Logistic Regression\n",
    "\n",
    "* Logistic regression is one specific example of discriminative modeling, for the case of **two classes**. \n",
    "* It assumes a model for the class posterior probabilities, $p(C_k|\\phi(\\vec{x}))$, in the form of the logistic sigmoid\n",
    "\n",
    "$$p\\left(C_1\\right|\\left.\\phi(\\vec{x})\\right) = f(a) = \\sigma\\left(\\vec{w}^\\intercal\\phi(\\vec{x})\\right)$$\n",
    "\n",
    "with \n",
    "\n",
    "$$p\\left(C_2\\right|\\left.\\phi(\\vec{x})\\right) = 1 - p\\left(C_1\\right|\\left.\\phi(\\vec{x})\\right).$$"
   ]
  },
  {
   "cell_type": "markdown",
   "metadata": {
    "slideshow": {
     "slide_type": "subslide"
    }
   },
   "source": [
    "* We apply maximum likelihood to obtain the model parameters. \n",
    "* Assume that our training set is of the form $\\Psi=\\left\\{\\phi(\\vec{x}_i),t_i\\right\\}$ where $t_i \\in \\{0,1\\}$,\n",
    "and $i=1,\\ldots, m$. \n",
    "* The likelihood function of the training data is then\n",
    "$$p(\\Psi|\\vec{w}) = \\prod_{i=1}^m \\sigma(\\vec{w}^\\intercal \\phi(\\vec{x}_i))^{t_i} (1 - \\sigma(\\vec{w}^\\intercal \\phi(\\vec{x}_i)))^{(1-t_i)}$$"
   ]
  },
  {
   "cell_type": "markdown",
   "metadata": {
    "slideshow": {
     "slide_type": "slide"
    }
   },
   "source": [
    "Defining the error function, $E(\\vec{w})$, as the negative of the log-likelihood function, and taking the gradient with respect to $\\vec{w}$, we obtain\n",
    "$$\\bigtriangledown E(\\vec{w}) = \\sum_{i=1}^m \\left[\\sigma(\\vec{w}^\\intercal \\phi(\\vec{x}_i)) - t_i\\right] \\phi(\\vec{x}_i).$$\n",
    "\n",
    "* this error function looks the same as that obtained for **linear** regression under the assumption of a Gaussian noise model which had a closed form solution.\n",
    "* the nonlinearity of the *sigmoid* function, $\\sigma\\left(\\vec{w}^\\intercal \\phi(\\vec{x}_i)\\right)$ prevents a closed form solution in the **logistic** regression problem. \n",
    "* We must apply an iterative method to obtain a numerical solution for the parameters, $\\vec{w}$. "
   ]
  },
  {
   "cell_type": "markdown",
   "metadata": {
    "slideshow": {
     "slide_type": "slide"
    }
   },
   "source": [
    "Here we will consider the *Newton-Raphson* method for which minimizing the error function takes the form\n",
    "\n",
    "$$\\vec{w}^{(\\tau+1)} = \\vec{w}^{(\\tau)} - \\vec{H}^{-1}\\bigtriangledown E(\\vec{w}),$$\n",
    "\n",
    "where $\\vec{H}$ is the *Hessian* matrix composed of the second derivatives of the error function\n",
    "\n",
    "$$\\vec{H} = \\bigtriangledown \\bigtriangledown E(\\vec{w}) = \\Phi^\\intercal \\vec{R} \\Phi,$$\n",
    "\n",
    "where $\\Phi$ is the $n \\times m$ design matrix whose $n$-th row is given by $\\phi(\\vec{x_n})^\\intercal$ and $\\vec{R}$ is an $n \\times n$ diagonal matrix with elements.\n",
    "\n",
    "$$R_{i,i} = \\sigma(\\vec{w}^\\intercal \\phi(\\vec{x}_i)) \\left[1-\\sigma(\\vec{w}^\\intercal \\phi(\\vec{x}_i))\\right].$$ \n",
    "\n",
    "This can be reduced to a form equivalent to that of locally weighted linear *regression* as follows\n",
    "\n",
    "$$\\vec{w}^{(\\tau+1)} = \\left( \\Phi^T \\vec{R} \\Phi \\right)^{-1} \\Phi^T \\vec{R} \\vec{z}$$\n",
    "\n",
    "where $\\vec{z}$ is an $n$-dimensional vector defined by\n",
    "\n",
    "$$\\vec{z} = \\Phi \\vec{w}^{(\\tau)} - \\vec{R}^{-1}(\\vec{y} - \\vec{t})$$"
   ]
  },
  {
   "cell_type": "markdown",
   "metadata": {
    "slideshow": {
     "slide_type": "slide"
    }
   },
   "source": [
    "<h2>Example 2</h2>\n",
    "Let's consider an example with two classes and 2D input, $\\vec{x}_n = (x_n^{(1)},x_n^{(2)})$. \n",
    "*  As an experiment, you can try increasing the number of training points, `N`. \n",
    "* Eventually, the training points will overlap so that it will not be possible to completely seperate them with the transformation provided."
   ]
  },
  {
   "cell_type": "code",
   "execution_count": null,
   "metadata": {
    "collapsed": true,
    "slideshow": {
     "slide_type": "fragment"
    }
   },
   "outputs": [],
   "source": [
    "# preparing training dataset\n",
    "np.random.seed(123456789) # fixing for reproducubility\n",
    "N = 100 #number of data points\n",
    "D = 2   #dimension of input vector\n",
    "t = np.zeros(N) #training set classifications\n",
    "X = np.zeros((N,D)) #training data in input space\n",
    "sigma = .25\n",
    "mu0 = 0.0\n",
    "mu1 = 1.0"
   ]
  },
  {
   "cell_type": "code",
   "execution_count": null,
   "metadata": {
    "collapsed": true,
    "slideshow": {
     "slide_type": "skip"
    }
   },
   "outputs": [],
   "source": [
    "def create_scatter(X, t, ax):\n",
    "    'Generates a two-class scatter plot'\n",
    "    C1x, C1y, C2x, C2y = [], [], [], []\n",
    "    for i in range(len(t)):\n",
    "        if t[i] > 0: \n",
    "            C1x.append(X[i,0])\n",
    "            C1y.append(X[i,1])\n",
    "        else: \n",
    "            C2x.append(X[i,0])\n",
    "            C2y.append(X[i,1])\n",
    "    ax.scatter(C1x, C1y, c='b', alpha=0.5)\n",
    "    ax.scatter(C2x, C2y, c='g', alpha=0.5)"
   ]
  },
  {
   "cell_type": "markdown",
   "metadata": {
    "slideshow": {
     "slide_type": "slide"
    }
   },
   "source": [
    "### Generating test data\n",
    "\n",
    "* Pick a value from a uniform distribution on $[0,1]$. \n",
    "* If it is less than 0.5, assign class 1 and pick $x_1, x_2$ from a $\\mathcal{N}(\\mu_0,\\sigma)$ \n",
    "* otherwise assign class 2 and pick $x_1,x_2$ from $\\mathcal{N}(\\mu_1,\\sigma)$"
   ]
  },
  {
   "cell_type": "code",
   "execution_count": null,
   "metadata": {
    "collapsed": true,
    "slideshow": {
     "slide_type": "fragment"
    }
   },
   "outputs": [],
   "source": [
    "for i in range(N):\n",
    "    #choose class to sample for\n",
    "    fac = 1\n",
    "    if np.random.rand() <= 0.5:\n",
    "        thismu = mu0\n",
    "        t[i] = 1\n",
    "    else: \n",
    "        thismu = mu1\n",
    "        t[i] = 0\n",
    "        if np.random.rand() < 0.5: fac = -1\n",
    "    X[i,0] = fac * np.random.normal(thismu, sigma)\n",
    "    X[i,1] = fac * np.random.normal(thismu, sigma)"
   ]
  },
  {
   "cell_type": "code",
   "execution_count": null,
   "metadata": {
    "collapsed": false,
    "slideshow": {
     "slide_type": "slide"
    }
   },
   "outputs": [],
   "source": [
    "fig = plt.figure(figsize=(5, 5))\n",
    "ax = fig.gca()\n",
    "ax.set_xlabel('$x_1$')\n",
    "ax.set_ylabel('$x_2$')\n",
    "ax.set_title('Training data set')\n",
    "create_scatter(X, t, ax)"
   ]
  },
  {
   "cell_type": "markdown",
   "metadata": {
    "slideshow": {
     "slide_type": "slide"
    }
   },
   "source": [
    "The training data does not have a linear boundary in the original input space.\n",
    "* So lets apply a transformation, $\\phi()$ (function `phi(...)`) to try to make it linearly separable\n",
    "* *Note*: This transformation is not the only one that works. \n",
    "    * For example try switching the values of $\\mu_1$ and $\\mu_2$. \n",
    "    * The result will be a different mapping that is still linearly separable."
   ]
  },
  {
   "cell_type": "code",
   "execution_count": null,
   "metadata": {
    "collapsed": true,
    "slideshow": {
     "slide_type": "fragment"
    }
   },
   "outputs": [],
   "source": [
    "def phi(x, mu, sigma):\n",
    "    detSigma = np.linalg.det(sigma)\n",
    "    fac = math.pow(2 * math.pi, len(mu) / 2.0) * math.sqrt(detSigma)\n",
    "    arg = -0.5 * np.dot((x - mu).T, np.dot(np.linalg.inv(sigma), x - mu))\n",
    "    return math.exp(arg) / fac"
   ]
  },
  {
   "cell_type": "code",
   "execution_count": null,
   "metadata": {
    "collapsed": true,
    "slideshow": {
     "slide_type": "slide"
    }
   },
   "outputs": [],
   "source": [
    "phiX = np.zeros((N,D))\n",
    "MU1 = np.ones(D)*mu0\n",
    "MU2 = np.ones(D)*mu1\n",
    "SIGMA = np.diag(np.ones(D))*sigma\n",
    "for i in range(N):\n",
    "    phiX[i,0] = phi(x=X[i,:], mu=MU2, sigma=SIGMA)\n",
    "    phiX[i,1] = phi(x=X[i,:], mu=MU1, sigma=SIGMA)"
   ]
  },
  {
   "cell_type": "code",
   "execution_count": null,
   "metadata": {
    "collapsed": false,
    "slideshow": {
     "slide_type": "slide"
    }
   },
   "outputs": [],
   "source": [
    "fig = plt.figure(figsize=(5,5)); ax =fig.gca()\n",
    "ax.set_xlabel('$x_1$'); ax.set_ylabel('$x_2$')\n",
    "create_scatter(phiX,t,ax)"
   ]
  },
  {
   "cell_type": "markdown",
   "metadata": {
    "slideshow": {
     "slide_type": "slide"
    }
   },
   "source": [
    "Now, lets apply machine learning to determine the boundary!\n",
    "\n",
    "* We will assume M = 3, i.e. that there are 3 free parameters,\n",
    "* that is $\\vec{w} = [w_0, w_1, w_2]^\\intercal$ and,\n",
    "* `phi_n = [1, phiX[0], phiX[1]]`."
   ]
  },
  {
   "cell_type": "code",
   "execution_count": null,
   "metadata": {
    "collapsed": true
   },
   "outputs": [],
   "source": [
    "M = 3\n",
    "Phi = np.ones((N,M))\n",
    "Phi[:,1] = phiX[:,0]\n",
    "Phi[:,2] = phiX[:,1]\n",
    "w = np.zeros(M)\n",
    "R = np.zeros((N,N))\n",
    "y = np.zeros(N)"
   ]
  },
  {
   "cell_type": "code",
   "execution_count": null,
   "metadata": {
    "collapsed": true,
    "slideshow": {
     "slide_type": "slide"
    }
   },
   "outputs": [],
   "source": [
    "def sigmoid(a):\n",
    "    return 1.0 / (1.0 + math.exp(-a))\n",
    "\n",
    "def totalErr(y,t):\n",
    "    e = 0.0\n",
    "    for i in range(len(y)):\n",
    "        if t[i] > 0:\n",
    "            e += math.log(y[i])\n",
    "        else:\n",
    "            e += math.log(1.0 - y[i])\n",
    "    return -e"
   ]
  },
  {
   "cell_type": "markdown",
   "metadata": {
    "slideshow": {
     "slide_type": "slide"
    }
   },
   "source": [
    "Starting Newton-Raphson. \n",
    "\n",
    "* As a stopping criteria we will use a tolerance on the change in the error function and a maximum number of iterations\n"
   ]
  },
  {
   "cell_type": "code",
   "execution_count": null,
   "metadata": {
    "collapsed": true,
    "slideshow": {
     "slide_type": "fragment"
    }
   },
   "outputs": [],
   "source": [
    "max_its = 100\n",
    "tol = 1e-2\n",
    "w0 = [w[0]] \n",
    "w1 = [w[1]]\n",
    "w2 = [w[2]]\n",
    "err = []\n",
    "error_delta = 1 + tol\n",
    "current_error = 0\n",
    "idx = 0"
   ]
  },
  {
   "cell_type": "code",
   "execution_count": null,
   "metadata": {
    "collapsed": true,
    "slideshow": {
     "slide_type": "slide"
    }
   },
   "outputs": [],
   "source": [
    "from functools import reduce"
   ]
  },
  {
   "cell_type": "code",
   "execution_count": null,
   "metadata": {
    "collapsed": true
   },
   "outputs": [],
   "source": [
    "while math.fabs(error_delta) > tol and idx < max_its:\n",
    "    #update y & R\n",
    "    for i in range(N): \n",
    "        y[i] = sigmoid(reduce(lambda accum, Z: accum + Z[0]*Z[1], zip(w, Phi[i,:]), 0))\n",
    "        R[i,i] = y[i] - y[i]*y[i]\n",
    "    #update w\n",
    "    z = np.dot(Phi,w) - np.dot(np.linalg.pinv(R),y-t)\n",
    "    term_1 = np.linalg.pinv(np.dot(np.dot(Phi.T,R),Phi))\n",
    "    term_2 = np.dot(np.dot(term_1, Phi.T),R)\n",
    "    w = np.dot(term_2, z)\n",
    "    w0.append(w[0])\n",
    "    w1.append(w[1])\n",
    "    w2.append(w[2])\n",
    "    idx += 1\n",
    "    temp = totalErr(y,t)\n",
    "    error_delta = current_error - temp\n",
    "    current_error = temp\n",
    "    err.append(error_delta)"
   ]
  },
  {
   "cell_type": "code",
   "execution_count": null,
   "metadata": {
    "collapsed": false,
    "slideshow": {
     "slide_type": "slide"
    }
   },
   "outputs": [],
   "source": [
    "print('The total number of iterations was {0}'.format(idx))\n",
    "print('The total error was {0}'.format(current_error))\n",
    "print('The final change in error was {0}'.format(error_delta))\n",
    "print('The final parameters were {0}'.format(w))"
   ]
  },
  {
   "cell_type": "markdown",
   "metadata": {
    "slideshow": {
     "slide_type": "slide"
    }
   },
   "source": [
    "Our decision boundary is now formed by the line where $\\sigma(a) = 0.5$, i.e. where $a = 0$, which for this example is where $\\phi_2 = -\\frac{w_1}{w_2}\\phi_1$, i.e. where $\\vec{w} \\cdot\\vec{\\phi} = 0.5$.\n"
   ]
  },
  {
   "cell_type": "code",
   "execution_count": null,
   "metadata": {
    "collapsed": false
   },
   "outputs": [],
   "source": [
    "fig = plt.figure(figsize=(5,5)); ax =fig.gca()\n",
    "ax.set_xlabel('$x_1$'); ax.set_ylabel('$x_2$')\n",
    "create_scatter(phiX,t,ax)\n",
    "\n",
    "bdryx = (-0.2,1.1)\n",
    "bdryy = (-(w[0]+w[1]*bdryx[0])/w[2], -(w[0]+w[1]*bdryx[1])/w[2])\n",
    "ax.plot(bdryx, bdryy, linestyle='--');"
   ]
  },
  {
   "cell_type": "code",
   "execution_count": null,
   "metadata": {
    "collapsed": false,
    "slideshow": {
     "slide_type": "slide"
    }
   },
   "outputs": [],
   "source": [
    "fig = plt.figure(figsize=(5,5))\n",
    "plt.plot(w0, 'bo-', label='$w_0$')\n",
    "plt.plot(w1, 'rx-', label='$w_1$')\n",
    "plt.plot(w2, 'gs-', label='$w_2$')\n",
    "plt.plot(err, 'm*-', label='error delta')\n",
    "plt.legend(loc='upper left', frameon=True)\n",
    "plt.xlabel('Newton-Raphson iterations');"
   ]
  },
  {
   "cell_type": "markdown",
   "metadata": {
    "slideshow": {
     "slide_type": "skip"
    }
   },
   "source": [
    "<h1>Readings</h1>\n",
    "<ul>\n",
    "    <li>Bishop: 4.2.0-4.2.4, 4.3.0-4.3.4, 4.4, 4,5</li>\n",
    "    <li>Ng: Lecture 2 pdf</li>\n",
    "    <li>Ng: Lecture 5 pdf</li>\n",
    "</ul>"
   ]
  },
  {
   "cell_type": "markdown",
   "metadata": {
    "slideshow": {
     "slide_type": "skip"
    }
   },
   "source": [
    "<hr/>\n",
    "<div class=\"container-fluid\">\n",
    "  <div class='well'>\n",
    "      <div class=\"row\">\n",
    "          <div class=\"col-md-3\" align='center'>\n",
    "              <img align='center'alt=\"Creative Commons License\" style=\"border-width:0\" src=\"https://i.creativecommons.org/l/by-nc-sa/4.0/88x31.png\"/>\n",
    "          </div>\n",
    "          <div class=\"col-md-9\">\n",
    "              This work is licensed under a [Creative Commons Attribution-NonCommercial-ShareAlike 4.0 International License](http://creativecommons.org/licenses/by-nc-sa/4.0/).\n",
    "          </div>\n",
    "      </div>\n",
    "  </div>\n",
    "</div>"
   ]
  },
  {
   "cell_type": "code",
   "execution_count": null,
   "metadata": {
    "collapsed": false,
    "scrolled": true,
    "slideshow": {
     "slide_type": "skip"
    }
   },
   "outputs": [],
   "source": [
    "%load_ext version_information\n",
    "%version_information scipy, numpy, matplotlib"
   ]
  },
  {
   "cell_type": "code",
   "execution_count": null,
   "metadata": {
    "collapsed": false,
    "slideshow": {
     "slide_type": "skip"
    }
   },
   "outputs": [],
   "source": [
    "# this code is here for cosmetic reasons\n",
    "from IPython.core.display import HTML\n",
    "from urllib.request import urlopen\n",
    "HTML(urlopen('https://raw.githubusercontent.com/lmarti/jupyter_custom/master/custom.include').read().decode('utf-8'))"
   ]
  },
  {
   "cell_type": "markdown",
   "metadata": {},
   "source": [
    "---"
   ]
  }
 ],
 "metadata": {
  "anaconda-cloud": {},
  "celltoolbar": "Slideshow",
  "kernelspec": {
   "display_name": "Python [conda env:ml]",
   "language": "python",
   "name": "conda-env-ml-py"
  },
  "language_info": {
   "codemirror_mode": {
    "name": "ipython",
    "version": 2
   },
   "file_extension": ".py",
   "mimetype": "text/x-python",
   "name": "python",
   "nbconvert_exporter": "python",
   "pygments_lexer": "ipython2",
   "version": "2.7.13"
  }
 },
 "nbformat": 4,
 "nbformat_minor": 1
}
