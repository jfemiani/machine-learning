{
 "cells": [
  {
   "cell_type": "markdown",
   "metadata": {},
   "source": [
    "### Machine Learning\n",
    "# 3. Linear Classification"
   ]
  },
  {
   "cell_type": "markdown",
   "metadata": {},
   "source": [
    "#### Adapted & Presented by John C. Femiani * (see note)\n",
    "#### Miami University, Oxford OH\n",
    "#### cse27a\n",
    "\n",
    "<hr>\n",
    ">  These slides adapted from slides by [Luis Martí](http://lmarti.com),  [Instituto de Computação](http://www.ic.uff),  [Universidade Federal Fluminense](http://www.uff.br), and modified for my course in accordance with the licence [![License: CC BY-NC-SA 4.0](https://img.shields.io/badge/license-CC%20BY--NC--SA%204.0-lightgrey.svg)](http://creativecommons.org/licenses/by-nc-sa/4.0/)\n",
    "$\\renewcommand{\\vec}[1]{\\boldsymbol{#1}}$"
   ]
  },
  {
   "cell_type": "markdown",
   "metadata": {
    "slideshow": {
     "slide_type": "skip"
    }
   },
   "source": [
    "### About the notebook/slides\n",
    "\n",
    "* The slides are _programmed_ as a [Jupyter](http://jupyter.org)/[IPython](https://ipython.org/) notebook.\n",
    "* **Feel free to try them and experiment on your own by launching the notebooks.**\n",
    "\n",
    "* You can run the notebook online: [![Binder](http://mybinder.org/badge.svg)](http://mybinder.org/repo/lmarti/machine-learning)"
   ]
  },
  {
   "cell_type": "markdown",
   "metadata": {
    "slideshow": {
     "slide_type": "skip"
    }
   },
   "source": [
    "If you are using [nbviewer](http://nbviewer.jupyter.org) you can change to slides mode by clicking on the icon:\n",
    "\n",
    "<div class=\"container-fluid\">\n",
    "  <div class=\"row\">\n",
    "      <div class=\"col-md-3\"><span/></div>\n",
    "      <div class=\"col-md-6\">\n",
    "      <div class='well well-sm'>\n",
    "              <img src='imgs/view-as-slides.png'/>\n",
    "      </div>\n",
    "      </div>\n",
    "      <div class=\"col-md-3\" align='center'><span/></div>\n",
    "  </div>\n",
    "</div>"
   ]
  },
  {
   "cell_type": "code",
   "execution_count": 1,
   "metadata": {
    "collapsed": false,
    "slideshow": {
     "slide_type": "skip"
    }
   },
   "outputs": [],
   "source": [
    "import random, math\n",
    "import numpy as np\n",
    "import matplotlib.pyplot as plt\n",
    "import matplotlib.cm as cm\n",
    "from __future__ import division"
   ]
  },
  {
   "cell_type": "code",
   "execution_count": 62,
   "metadata": {
    "collapsed": false,
    "slideshow": {
     "slide_type": "skip"
    }
   },
   "outputs": [],
   "source": [
    "plt.rc('text', usetex=True); plt.rc('font', family='serif')\n",
    "# plt.rcParams['text.latex.preamble'] ='\\\\usepackage{libertine}\\n\\\\usepackage[utf8]{inputenc}'\n",
    "plt.rcParams['text.latex.preamble'] = r'\\usepackage{cancel}'\n",
    "\n",
    "# numpy - pretty matrix \n",
    "np.set_printoptions(precision=3, threshold=1000, edgeitems=5, linewidth=80, suppress=True)\n",
    "\n",
    "import seaborn\n",
    "seaborn.set(style='whitegrid'); seaborn.set_context('talk')\n",
    "\n",
    "%matplotlib notebook\n",
    "%config InlineBackend.figure_format = 'retina'"
   ]
  },
  {
   "cell_type": "code",
   "execution_count": 3,
   "metadata": {
    "collapsed": true,
    "slideshow": {
     "slide_type": "skip"
    }
   },
   "outputs": [],
   "source": [
    "# Fixed seed to make the results replicable - remove in real life!\n",
    "random.seed(42)"
   ]
  },
  {
   "cell_type": "markdown",
   "metadata": {
    "slideshow": {
     "slide_type": "slide"
    }
   },
   "source": [
    "# Classification\n",
    "\n",
    "* Given an input vector $\\vec{x}$ determine $p\\left(\\left. C_k\\right|\\vec{x}\\right)$ where $k\\in \\{1\\ldots K\\}$ and $C_k$ is a discrete class label.\n",
    "* We will discuss **linear models** for classification.\n",
    "\n",
    "**Note:** the algorithms described here can also be applied to transformed input, $\\phi(\\vec{x})$, to determine $p\\left(C_k\\right|\\left.\\phi(\\vec{x})\\right)$, where $\\phi(\\cdot)$ may be a nonlinear transformation of the input space."
   ]
  },
  {
   "cell_type": "markdown",
   "metadata": {
    "slideshow": {
     "slide_type": "slide"
    }
   },
   "source": [
    "Our **first model assumption** is that our target output can be modeled as\n",
    "\n",
    "$$y(\\phi(\\vec{x})) = f(\\vec{w}^\\intercal\\phi(\\vec{x}))$$\n",
    "\n",
    "where $y$ will be a vector of probabilities with $K$ elements. \n",
    "\n",
    "* Elements of $\\vec{y}$ are $y_k = p\\left(C_k\\right|\\left.\\phi\\left(\\vec{x}\\right)\\right)$ i.e. the probability that the correct class label is $C_k$ given the input vector $\\vec{x}$. \n",
    "* Often we will have simply that $\\vec{w}^\\intercal\\phi(\\vec{x}) = \\vec{w}^\\intercal\\vec{x}+w_0$ in which case we will simply omit $\\phi()$ from the notation.\n",
    "* The function $f()$ is known as the **activation function** and its inverse is known as the **link function**. \n",
    "* Note that $f()$ will often be nonlinear."
   ]
  },
  {
   "cell_type": "markdown",
   "metadata": {
    "slideshow": {
     "slide_type": "skip"
    }
   },
   "source": [
    "It should be noted that nearly all of the material presented fails to be a fully Bayesian treatment of the classification problem. Primarily this is because a Bayesian approach to the classification problem is mathematically intractable. However, Bayes' Theorem will appear often in the discussion, which can lead to confusion. Where appropriate, I will try to clarify the difference."
   ]
  },
  {
   "cell_type": "markdown",
   "metadata": {
    "slideshow": {
     "slide_type": "slide"
    }
   },
   "source": [
    "The target variable, $y$, does **not provide a decision** for a class assignment for a given input $\\vec{x}$. \n",
    "\n",
    "* In real world cases where it is necessary to make a decision as to which class $\\vec{x}$ should be assigned;\n",
    "* one must apply an additional modeling step based on [*decision theory*](https://en.wikipedia.org/wiki/Decision_theory)."
   ]
  },
  {
   "cell_type": "markdown",
   "metadata": {
    "slideshow": {
     "slide_type": "slide"
    }
   },
   "source": [
    "There are a variety of decision models, all of which leverage the class posterior probability models, $p\\left(C_k\\right|\\left.\\vec{x}\\right)$, such as\n",
    "\n",
    "* Minimizing the misclassification rate - this effectively corresponds to choosing the class with the highest probability for a given $\\vec{x}$.\n",
    "* Minimizing the expected loss - minimizes the expected value of a given loss function, $\\ell(\\cdot)$, under the class posterior probability distribution.\n",
    "* Reject option."
   ]
  },
  {
   "cell_type": "markdown",
   "metadata": {
    "slideshow": {
     "slide_type": "slide"
    }
   },
   "source": [
    "## Linear classification models\n",
    "\n",
    "The models discussed today are called *linear* because, \n",
    "* when the decision criteria is that of minimizing the misclassification rate, \n",
    " they divide the input space into $K$ regions, where the boundaries between regions are _linear_ functions of the input vector $\\vec{x}$. \n",
    "* The decision boundaries will correspond to where $\\vec{w}^\\intercal\\vec{x}=\\text{constant}$, and thus represent a linear function of $\\vec{x}$. \n",
    "* In the case of transformed input, $\\phi(\\vec{x})$, the decision boundaries will correspond to where \n",
    "$\\vec{w}^\\intercal\\phi(\\vec{x})=\\text{constant}$, and thus represent a linear function of $\\phi(\\vec{x})$. "
   ]
  },
  {
   "cell_type": "code",
   "execution_count": null,
   "metadata": {
    "collapsed": true,
    "slideshow": {
     "slide_type": "skip"
    }
   },
   "outputs": [],
   "source": [
    "import scipy.stats\n",
    "import sklearn.linear_model"
   ]
  },
  {
   "cell_type": "markdown",
   "metadata": {
    "slideshow": {
     "slide_type": "slide"
    }
   },
   "source": [
    "## An Example of a Linear Model"
   ]
  },
  {
   "cell_type": "code",
   "execution_count": 26,
   "metadata": {
    "collapsed": false,
    "slideshow": {
     "slide_type": "fragment"
    }
   },
   "outputs": [],
   "source": [
    "cov = np.random.randint(0, 1, (2,2))\n",
    "cov += cov.T # symmetry!\n",
    "\n",
    "model1 = scipy.stats.multivariate_normal(mean=(1,1), cov=((1, 0), (0,0.5)))\n",
    "model2 = scipy.stats.multivariate_normal(mean=(-1,-1), cov=((1, 0), (0,0.5)))\n",
    "N1 = 60\n",
    "N2 = 40\n",
    "\n",
    "x = np.row_stack([model1.rvs(N1),  model2.rvs(N2)])\n",
    "t = np.array([0]*N1 + [1]*N2)\n",
    "\n",
    "classifier = sklearn.linear_model.LogisticRegression()\n",
    "classifier.fit(x, t);"
   ]
  },
  {
   "cell_type": "code",
   "execution_count": 27,
   "metadata": {
    "collapsed": true,
    "slideshow": {
     "slide_type": "fragment"
    }
   },
   "outputs": [],
   "source": [
    "@np.vectorize\n",
    "def y(x1, x2):\n",
    "    return classifier.coef_.dot([x1, x2]) +  classifier.intercept_\n",
    "\n",
    "X1, X2 = np.mgrid[-3:3:10j, -3:3:10j]\n",
    "Y = y(X1, X2)"
   ]
  },
  {
   "cell_type": "code",
   "execution_count": 49,
   "metadata": {
    "collapsed": false,
    "slideshow": {
     "slide_type": "slide"
    }
   },
   "outputs": [
    {
     "data": {
      "application/javascript": [
       "/* Put everything inside the global mpl namespace */\n",
       "window.mpl = {};\n",
       "\n",
       "\n",
       "mpl.get_websocket_type = function() {\n",
       "    if (typeof(WebSocket) !== 'undefined') {\n",
       "        return WebSocket;\n",
       "    } else if (typeof(MozWebSocket) !== 'undefined') {\n",
       "        return MozWebSocket;\n",
       "    } else {\n",
       "        alert('Your browser does not have WebSocket support.' +\n",
       "              'Please try Chrome, Safari or Firefox ≥ 6. ' +\n",
       "              'Firefox 4 and 5 are also supported but you ' +\n",
       "              'have to enable WebSockets in about:config.');\n",
       "    };\n",
       "}\n",
       "\n",
       "mpl.figure = function(figure_id, websocket, ondownload, parent_element) {\n",
       "    this.id = figure_id;\n",
       "\n",
       "    this.ws = websocket;\n",
       "\n",
       "    this.supports_binary = (this.ws.binaryType != undefined);\n",
       "\n",
       "    if (!this.supports_binary) {\n",
       "        var warnings = document.getElementById(\"mpl-warnings\");\n",
       "        if (warnings) {\n",
       "            warnings.style.display = 'block';\n",
       "            warnings.textContent = (\n",
       "                \"This browser does not support binary websocket messages. \" +\n",
       "                    \"Performance may be slow.\");\n",
       "        }\n",
       "    }\n",
       "\n",
       "    this.imageObj = new Image();\n",
       "\n",
       "    this.context = undefined;\n",
       "    this.message = undefined;\n",
       "    this.canvas = undefined;\n",
       "    this.rubberband_canvas = undefined;\n",
       "    this.rubberband_context = undefined;\n",
       "    this.format_dropdown = undefined;\n",
       "\n",
       "    this.image_mode = 'full';\n",
       "\n",
       "    this.root = $('<div/>');\n",
       "    this._root_extra_style(this.root)\n",
       "    this.root.attr('style', 'display: inline-block');\n",
       "\n",
       "    $(parent_element).append(this.root);\n",
       "\n",
       "    this._init_header(this);\n",
       "    this._init_canvas(this);\n",
       "    this._init_toolbar(this);\n",
       "\n",
       "    var fig = this;\n",
       "\n",
       "    this.waiting = false;\n",
       "\n",
       "    this.ws.onopen =  function () {\n",
       "            fig.send_message(\"supports_binary\", {value: fig.supports_binary});\n",
       "            fig.send_message(\"send_image_mode\", {});\n",
       "            if (mpl.ratio != 1) {\n",
       "                fig.send_message(\"set_dpi_ratio\", {'dpi_ratio': mpl.ratio});\n",
       "            }\n",
       "            fig.send_message(\"refresh\", {});\n",
       "        }\n",
       "\n",
       "    this.imageObj.onload = function() {\n",
       "            if (fig.image_mode == 'full') {\n",
       "                // Full images could contain transparency (where diff images\n",
       "                // almost always do), so we need to clear the canvas so that\n",
       "                // there is no ghosting.\n",
       "                fig.context.clearRect(0, 0, fig.canvas.width, fig.canvas.height);\n",
       "            }\n",
       "            fig.context.drawImage(fig.imageObj, 0, 0);\n",
       "        };\n",
       "\n",
       "    this.imageObj.onunload = function() {\n",
       "        this.ws.close();\n",
       "    }\n",
       "\n",
       "    this.ws.onmessage = this._make_on_message_function(this);\n",
       "\n",
       "    this.ondownload = ondownload;\n",
       "}\n",
       "\n",
       "mpl.figure.prototype._init_header = function() {\n",
       "    var titlebar = $(\n",
       "        '<div class=\"ui-dialog-titlebar ui-widget-header ui-corner-all ' +\n",
       "        'ui-helper-clearfix\"/>');\n",
       "    var titletext = $(\n",
       "        '<div class=\"ui-dialog-title\" style=\"width: 100%; ' +\n",
       "        'text-align: center; padding: 3px;\"/>');\n",
       "    titlebar.append(titletext)\n",
       "    this.root.append(titlebar);\n",
       "    this.header = titletext[0];\n",
       "}\n",
       "\n",
       "\n",
       "\n",
       "mpl.figure.prototype._canvas_extra_style = function(canvas_div) {\n",
       "\n",
       "}\n",
       "\n",
       "\n",
       "mpl.figure.prototype._root_extra_style = function(canvas_div) {\n",
       "\n",
       "}\n",
       "\n",
       "mpl.figure.prototype._init_canvas = function() {\n",
       "    var fig = this;\n",
       "\n",
       "    var canvas_div = $('<div/>');\n",
       "\n",
       "    canvas_div.attr('style', 'position: relative; clear: both; outline: 0');\n",
       "\n",
       "    function canvas_keyboard_event(event) {\n",
       "        return fig.key_event(event, event['data']);\n",
       "    }\n",
       "\n",
       "    canvas_div.keydown('key_press', canvas_keyboard_event);\n",
       "    canvas_div.keyup('key_release', canvas_keyboard_event);\n",
       "    this.canvas_div = canvas_div\n",
       "    this._canvas_extra_style(canvas_div)\n",
       "    this.root.append(canvas_div);\n",
       "\n",
       "    var canvas = $('<canvas/>');\n",
       "    canvas.addClass('mpl-canvas');\n",
       "    canvas.attr('style', \"left: 0; top: 0; z-index: 0; outline: 0\")\n",
       "\n",
       "    this.canvas = canvas[0];\n",
       "    this.context = canvas[0].getContext(\"2d\");\n",
       "\n",
       "    var backingStore = this.context.backingStorePixelRatio ||\n",
       "\tthis.context.webkitBackingStorePixelRatio ||\n",
       "\tthis.context.mozBackingStorePixelRatio ||\n",
       "\tthis.context.msBackingStorePixelRatio ||\n",
       "\tthis.context.oBackingStorePixelRatio ||\n",
       "\tthis.context.backingStorePixelRatio || 1;\n",
       "\n",
       "    mpl.ratio = (window.devicePixelRatio || 1) / backingStore;\n",
       "\n",
       "    var rubberband = $('<canvas/>');\n",
       "    rubberband.attr('style', \"position: absolute; left: 0; top: 0; z-index: 1;\")\n",
       "\n",
       "    var pass_mouse_events = true;\n",
       "\n",
       "    canvas_div.resizable({\n",
       "        start: function(event, ui) {\n",
       "            pass_mouse_events = false;\n",
       "        },\n",
       "        resize: function(event, ui) {\n",
       "            fig.request_resize(ui.size.width, ui.size.height);\n",
       "        },\n",
       "        stop: function(event, ui) {\n",
       "            pass_mouse_events = true;\n",
       "            fig.request_resize(ui.size.width, ui.size.height);\n",
       "        },\n",
       "    });\n",
       "\n",
       "    function mouse_event_fn(event) {\n",
       "        if (pass_mouse_events)\n",
       "            return fig.mouse_event(event, event['data']);\n",
       "    }\n",
       "\n",
       "    rubberband.mousedown('button_press', mouse_event_fn);\n",
       "    rubberband.mouseup('button_release', mouse_event_fn);\n",
       "    // Throttle sequential mouse events to 1 every 20ms.\n",
       "    rubberband.mousemove('motion_notify', mouse_event_fn);\n",
       "\n",
       "    rubberband.mouseenter('figure_enter', mouse_event_fn);\n",
       "    rubberband.mouseleave('figure_leave', mouse_event_fn);\n",
       "\n",
       "    canvas_div.on(\"wheel\", function (event) {\n",
       "        event = event.originalEvent;\n",
       "        event['data'] = 'scroll'\n",
       "        if (event.deltaY < 0) {\n",
       "            event.step = 1;\n",
       "        } else {\n",
       "            event.step = -1;\n",
       "        }\n",
       "        mouse_event_fn(event);\n",
       "    });\n",
       "\n",
       "    canvas_div.append(canvas);\n",
       "    canvas_div.append(rubberband);\n",
       "\n",
       "    this.rubberband = rubberband;\n",
       "    this.rubberband_canvas = rubberband[0];\n",
       "    this.rubberband_context = rubberband[0].getContext(\"2d\");\n",
       "    this.rubberband_context.strokeStyle = \"#000000\";\n",
       "\n",
       "    this._resize_canvas = function(width, height) {\n",
       "        // Keep the size of the canvas, canvas container, and rubber band\n",
       "        // canvas in synch.\n",
       "        canvas_div.css('width', width)\n",
       "        canvas_div.css('height', height)\n",
       "\n",
       "        canvas.attr('width', width * mpl.ratio);\n",
       "        canvas.attr('height', height * mpl.ratio);\n",
       "        canvas.attr('style', 'width: ' + width + 'px; height: ' + height + 'px;');\n",
       "\n",
       "        rubberband.attr('width', width);\n",
       "        rubberband.attr('height', height);\n",
       "    }\n",
       "\n",
       "    // Set the figure to an initial 600x600px, this will subsequently be updated\n",
       "    // upon first draw.\n",
       "    this._resize_canvas(600, 600);\n",
       "\n",
       "    // Disable right mouse context menu.\n",
       "    $(this.rubberband_canvas).bind(\"contextmenu\",function(e){\n",
       "        return false;\n",
       "    });\n",
       "\n",
       "    function set_focus () {\n",
       "        canvas.focus();\n",
       "        canvas_div.focus();\n",
       "    }\n",
       "\n",
       "    window.setTimeout(set_focus, 100);\n",
       "}\n",
       "\n",
       "mpl.figure.prototype._init_toolbar = function() {\n",
       "    var fig = this;\n",
       "\n",
       "    var nav_element = $('<div/>')\n",
       "    nav_element.attr('style', 'width: 100%');\n",
       "    this.root.append(nav_element);\n",
       "\n",
       "    // Define a callback function for later on.\n",
       "    function toolbar_event(event) {\n",
       "        return fig.toolbar_button_onclick(event['data']);\n",
       "    }\n",
       "    function toolbar_mouse_event(event) {\n",
       "        return fig.toolbar_button_onmouseover(event['data']);\n",
       "    }\n",
       "\n",
       "    for(var toolbar_ind in mpl.toolbar_items) {\n",
       "        var name = mpl.toolbar_items[toolbar_ind][0];\n",
       "        var tooltip = mpl.toolbar_items[toolbar_ind][1];\n",
       "        var image = mpl.toolbar_items[toolbar_ind][2];\n",
       "        var method_name = mpl.toolbar_items[toolbar_ind][3];\n",
       "\n",
       "        if (!name) {\n",
       "            // put a spacer in here.\n",
       "            continue;\n",
       "        }\n",
       "        var button = $('<button/>');\n",
       "        button.addClass('ui-button ui-widget ui-state-default ui-corner-all ' +\n",
       "                        'ui-button-icon-only');\n",
       "        button.attr('role', 'button');\n",
       "        button.attr('aria-disabled', 'false');\n",
       "        button.click(method_name, toolbar_event);\n",
       "        button.mouseover(tooltip, toolbar_mouse_event);\n",
       "\n",
       "        var icon_img = $('<span/>');\n",
       "        icon_img.addClass('ui-button-icon-primary ui-icon');\n",
       "        icon_img.addClass(image);\n",
       "        icon_img.addClass('ui-corner-all');\n",
       "\n",
       "        var tooltip_span = $('<span/>');\n",
       "        tooltip_span.addClass('ui-button-text');\n",
       "        tooltip_span.html(tooltip);\n",
       "\n",
       "        button.append(icon_img);\n",
       "        button.append(tooltip_span);\n",
       "\n",
       "        nav_element.append(button);\n",
       "    }\n",
       "\n",
       "    var fmt_picker_span = $('<span/>');\n",
       "\n",
       "    var fmt_picker = $('<select/>');\n",
       "    fmt_picker.addClass('mpl-toolbar-option ui-widget ui-widget-content');\n",
       "    fmt_picker_span.append(fmt_picker);\n",
       "    nav_element.append(fmt_picker_span);\n",
       "    this.format_dropdown = fmt_picker[0];\n",
       "\n",
       "    for (var ind in mpl.extensions) {\n",
       "        var fmt = mpl.extensions[ind];\n",
       "        var option = $(\n",
       "            '<option/>', {selected: fmt === mpl.default_extension}).html(fmt);\n",
       "        fmt_picker.append(option)\n",
       "    }\n",
       "\n",
       "    // Add hover states to the ui-buttons\n",
       "    $( \".ui-button\" ).hover(\n",
       "        function() { $(this).addClass(\"ui-state-hover\");},\n",
       "        function() { $(this).removeClass(\"ui-state-hover\");}\n",
       "    );\n",
       "\n",
       "    var status_bar = $('<span class=\"mpl-message\"/>');\n",
       "    nav_element.append(status_bar);\n",
       "    this.message = status_bar[0];\n",
       "}\n",
       "\n",
       "mpl.figure.prototype.request_resize = function(x_pixels, y_pixels) {\n",
       "    // Request matplotlib to resize the figure. Matplotlib will then trigger a resize in the client,\n",
       "    // which will in turn request a refresh of the image.\n",
       "    this.send_message('resize', {'width': x_pixels, 'height': y_pixels});\n",
       "}\n",
       "\n",
       "mpl.figure.prototype.send_message = function(type, properties) {\n",
       "    properties['type'] = type;\n",
       "    properties['figure_id'] = this.id;\n",
       "    this.ws.send(JSON.stringify(properties));\n",
       "}\n",
       "\n",
       "mpl.figure.prototype.send_draw_message = function() {\n",
       "    if (!this.waiting) {\n",
       "        this.waiting = true;\n",
       "        this.ws.send(JSON.stringify({type: \"draw\", figure_id: this.id}));\n",
       "    }\n",
       "}\n",
       "\n",
       "\n",
       "mpl.figure.prototype.handle_save = function(fig, msg) {\n",
       "    var format_dropdown = fig.format_dropdown;\n",
       "    var format = format_dropdown.options[format_dropdown.selectedIndex].value;\n",
       "    fig.ondownload(fig, format);\n",
       "}\n",
       "\n",
       "\n",
       "mpl.figure.prototype.handle_resize = function(fig, msg) {\n",
       "    var size = msg['size'];\n",
       "    if (size[0] != fig.canvas.width || size[1] != fig.canvas.height) {\n",
       "        fig._resize_canvas(size[0], size[1]);\n",
       "        fig.send_message(\"refresh\", {});\n",
       "    };\n",
       "}\n",
       "\n",
       "mpl.figure.prototype.handle_rubberband = function(fig, msg) {\n",
       "    var x0 = msg['x0'] / mpl.ratio;\n",
       "    var y0 = (fig.canvas.height - msg['y0']) / mpl.ratio;\n",
       "    var x1 = msg['x1'] / mpl.ratio;\n",
       "    var y1 = (fig.canvas.height - msg['y1']) / mpl.ratio;\n",
       "    x0 = Math.floor(x0) + 0.5;\n",
       "    y0 = Math.floor(y0) + 0.5;\n",
       "    x1 = Math.floor(x1) + 0.5;\n",
       "    y1 = Math.floor(y1) + 0.5;\n",
       "    var min_x = Math.min(x0, x1);\n",
       "    var min_y = Math.min(y0, y1);\n",
       "    var width = Math.abs(x1 - x0);\n",
       "    var height = Math.abs(y1 - y0);\n",
       "\n",
       "    fig.rubberband_context.clearRect(\n",
       "        0, 0, fig.canvas.width, fig.canvas.height);\n",
       "\n",
       "    fig.rubberband_context.strokeRect(min_x, min_y, width, height);\n",
       "}\n",
       "\n",
       "mpl.figure.prototype.handle_figure_label = function(fig, msg) {\n",
       "    // Updates the figure title.\n",
       "    fig.header.textContent = msg['label'];\n",
       "}\n",
       "\n",
       "mpl.figure.prototype.handle_cursor = function(fig, msg) {\n",
       "    var cursor = msg['cursor'];\n",
       "    switch(cursor)\n",
       "    {\n",
       "    case 0:\n",
       "        cursor = 'pointer';\n",
       "        break;\n",
       "    case 1:\n",
       "        cursor = 'default';\n",
       "        break;\n",
       "    case 2:\n",
       "        cursor = 'crosshair';\n",
       "        break;\n",
       "    case 3:\n",
       "        cursor = 'move';\n",
       "        break;\n",
       "    }\n",
       "    fig.rubberband_canvas.style.cursor = cursor;\n",
       "}\n",
       "\n",
       "mpl.figure.prototype.handle_message = function(fig, msg) {\n",
       "    fig.message.textContent = msg['message'];\n",
       "}\n",
       "\n",
       "mpl.figure.prototype.handle_draw = function(fig, msg) {\n",
       "    // Request the server to send over a new figure.\n",
       "    fig.send_draw_message();\n",
       "}\n",
       "\n",
       "mpl.figure.prototype.handle_image_mode = function(fig, msg) {\n",
       "    fig.image_mode = msg['mode'];\n",
       "}\n",
       "\n",
       "mpl.figure.prototype.updated_canvas_event = function() {\n",
       "    // Called whenever the canvas gets updated.\n",
       "    this.send_message(\"ack\", {});\n",
       "}\n",
       "\n",
       "// A function to construct a web socket function for onmessage handling.\n",
       "// Called in the figure constructor.\n",
       "mpl.figure.prototype._make_on_message_function = function(fig) {\n",
       "    return function socket_on_message(evt) {\n",
       "        if (evt.data instanceof Blob) {\n",
       "            /* FIXME: We get \"Resource interpreted as Image but\n",
       "             * transferred with MIME type text/plain:\" errors on\n",
       "             * Chrome.  But how to set the MIME type?  It doesn't seem\n",
       "             * to be part of the websocket stream */\n",
       "            evt.data.type = \"image/png\";\n",
       "\n",
       "            /* Free the memory for the previous frames */\n",
       "            if (fig.imageObj.src) {\n",
       "                (window.URL || window.webkitURL).revokeObjectURL(\n",
       "                    fig.imageObj.src);\n",
       "            }\n",
       "\n",
       "            fig.imageObj.src = (window.URL || window.webkitURL).createObjectURL(\n",
       "                evt.data);\n",
       "            fig.updated_canvas_event();\n",
       "            fig.waiting = false;\n",
       "            return;\n",
       "        }\n",
       "        else if (typeof evt.data === 'string' && evt.data.slice(0, 21) == \"data:image/png;base64\") {\n",
       "            fig.imageObj.src = evt.data;\n",
       "            fig.updated_canvas_event();\n",
       "            fig.waiting = false;\n",
       "            return;\n",
       "        }\n",
       "\n",
       "        var msg = JSON.parse(evt.data);\n",
       "        var msg_type = msg['type'];\n",
       "\n",
       "        // Call the  \"handle_{type}\" callback, which takes\n",
       "        // the figure and JSON message as its only arguments.\n",
       "        try {\n",
       "            var callback = fig[\"handle_\" + msg_type];\n",
       "        } catch (e) {\n",
       "            console.log(\"No handler for the '\" + msg_type + \"' message type: \", msg);\n",
       "            return;\n",
       "        }\n",
       "\n",
       "        if (callback) {\n",
       "            try {\n",
       "                // console.log(\"Handling '\" + msg_type + \"' message: \", msg);\n",
       "                callback(fig, msg);\n",
       "            } catch (e) {\n",
       "                console.log(\"Exception inside the 'handler_\" + msg_type + \"' callback:\", e, e.stack, msg);\n",
       "            }\n",
       "        }\n",
       "    };\n",
       "}\n",
       "\n",
       "// from http://stackoverflow.com/questions/1114465/getting-mouse-location-in-canvas\n",
       "mpl.findpos = function(e) {\n",
       "    //this section is from http://www.quirksmode.org/js/events_properties.html\n",
       "    var targ;\n",
       "    if (!e)\n",
       "        e = window.event;\n",
       "    if (e.target)\n",
       "        targ = e.target;\n",
       "    else if (e.srcElement)\n",
       "        targ = e.srcElement;\n",
       "    if (targ.nodeType == 3) // defeat Safari bug\n",
       "        targ = targ.parentNode;\n",
       "\n",
       "    // jQuery normalizes the pageX and pageY\n",
       "    // pageX,Y are the mouse positions relative to the document\n",
       "    // offset() returns the position of the element relative to the document\n",
       "    var x = e.pageX - $(targ).offset().left;\n",
       "    var y = e.pageY - $(targ).offset().top;\n",
       "\n",
       "    return {\"x\": x, \"y\": y};\n",
       "};\n",
       "\n",
       "/*\n",
       " * return a copy of an object with only non-object keys\n",
       " * we need this to avoid circular references\n",
       " * http://stackoverflow.com/a/24161582/3208463\n",
       " */\n",
       "function simpleKeys (original) {\n",
       "  return Object.keys(original).reduce(function (obj, key) {\n",
       "    if (typeof original[key] !== 'object')\n",
       "        obj[key] = original[key]\n",
       "    return obj;\n",
       "  }, {});\n",
       "}\n",
       "\n",
       "mpl.figure.prototype.mouse_event = function(event, name) {\n",
       "    var canvas_pos = mpl.findpos(event)\n",
       "\n",
       "    if (name === 'button_press')\n",
       "    {\n",
       "        this.canvas.focus();\n",
       "        this.canvas_div.focus();\n",
       "    }\n",
       "\n",
       "    var x = canvas_pos.x * mpl.ratio;\n",
       "    var y = canvas_pos.y * mpl.ratio;\n",
       "\n",
       "    this.send_message(name, {x: x, y: y, button: event.button,\n",
       "                             step: event.step,\n",
       "                             guiEvent: simpleKeys(event)});\n",
       "\n",
       "    /* This prevents the web browser from automatically changing to\n",
       "     * the text insertion cursor when the button is pressed.  We want\n",
       "     * to control all of the cursor setting manually through the\n",
       "     * 'cursor' event from matplotlib */\n",
       "    event.preventDefault();\n",
       "    return false;\n",
       "}\n",
       "\n",
       "mpl.figure.prototype._key_event_extra = function(event, name) {\n",
       "    // Handle any extra behaviour associated with a key event\n",
       "}\n",
       "\n",
       "mpl.figure.prototype.key_event = function(event, name) {\n",
       "\n",
       "    // Prevent repeat events\n",
       "    if (name == 'key_press')\n",
       "    {\n",
       "        if (event.which === this._key)\n",
       "            return;\n",
       "        else\n",
       "            this._key = event.which;\n",
       "    }\n",
       "    if (name == 'key_release')\n",
       "        this._key = null;\n",
       "\n",
       "    var value = '';\n",
       "    if (event.ctrlKey && event.which != 17)\n",
       "        value += \"ctrl+\";\n",
       "    if (event.altKey && event.which != 18)\n",
       "        value += \"alt+\";\n",
       "    if (event.shiftKey && event.which != 16)\n",
       "        value += \"shift+\";\n",
       "\n",
       "    value += 'k';\n",
       "    value += event.which.toString();\n",
       "\n",
       "    this._key_event_extra(event, name);\n",
       "\n",
       "    this.send_message(name, {key: value,\n",
       "                             guiEvent: simpleKeys(event)});\n",
       "    return false;\n",
       "}\n",
       "\n",
       "mpl.figure.prototype.toolbar_button_onclick = function(name) {\n",
       "    if (name == 'download') {\n",
       "        this.handle_save(this, null);\n",
       "    } else {\n",
       "        this.send_message(\"toolbar_button\", {name: name});\n",
       "    }\n",
       "};\n",
       "\n",
       "mpl.figure.prototype.toolbar_button_onmouseover = function(tooltip) {\n",
       "    this.message.textContent = tooltip;\n",
       "};\n",
       "mpl.toolbar_items = [[\"Home\", \"Reset original view\", \"fa fa-home icon-home\", \"home\"], [\"Back\", \"Back to  previous view\", \"fa fa-arrow-left icon-arrow-left\", \"back\"], [\"Forward\", \"Forward to next view\", \"fa fa-arrow-right icon-arrow-right\", \"forward\"], [\"\", \"\", \"\", \"\"], [\"Pan\", \"Pan axes with left mouse, zoom with right\", \"fa fa-arrows icon-move\", \"pan\"], [\"Zoom\", \"Zoom to rectangle\", \"fa fa-square-o icon-check-empty\", \"zoom\"], [\"\", \"\", \"\", \"\"], [\"Download\", \"Download plot\", \"fa fa-floppy-o icon-save\", \"download\"]];\n",
       "\n",
       "mpl.extensions = [\"eps\", \"pdf\", \"png\", \"ps\", \"raw\", \"svg\"];\n",
       "\n",
       "mpl.default_extension = \"png\";var comm_websocket_adapter = function(comm) {\n",
       "    // Create a \"websocket\"-like object which calls the given IPython comm\n",
       "    // object with the appropriate methods. Currently this is a non binary\n",
       "    // socket, so there is still some room for performance tuning.\n",
       "    var ws = {};\n",
       "\n",
       "    ws.close = function() {\n",
       "        comm.close()\n",
       "    };\n",
       "    ws.send = function(m) {\n",
       "        //console.log('sending', m);\n",
       "        comm.send(m);\n",
       "    };\n",
       "    // Register the callback with on_msg.\n",
       "    comm.on_msg(function(msg) {\n",
       "        //console.log('receiving', msg['content']['data'], msg);\n",
       "        // Pass the mpl event to the overriden (by mpl) onmessage function.\n",
       "        ws.onmessage(msg['content']['data'])\n",
       "    });\n",
       "    return ws;\n",
       "}\n",
       "\n",
       "mpl.mpl_figure_comm = function(comm, msg) {\n",
       "    // This is the function which gets called when the mpl process\n",
       "    // starts-up an IPython Comm through the \"matplotlib\" channel.\n",
       "\n",
       "    var id = msg.content.data.id;\n",
       "    // Get hold of the div created by the display call when the Comm\n",
       "    // socket was opened in Python.\n",
       "    var element = $(\"#\" + id);\n",
       "    var ws_proxy = comm_websocket_adapter(comm)\n",
       "\n",
       "    function ondownload(figure, format) {\n",
       "        window.open(figure.imageObj.src);\n",
       "    }\n",
       "\n",
       "    var fig = new mpl.figure(id, ws_proxy,\n",
       "                           ondownload,\n",
       "                           element.get(0));\n",
       "\n",
       "    // Call onopen now - mpl needs it, as it is assuming we've passed it a real\n",
       "    // web socket which is closed, not our websocket->open comm proxy.\n",
       "    ws_proxy.onopen();\n",
       "\n",
       "    fig.parent_element = element.get(0);\n",
       "    fig.cell_info = mpl.find_output_cell(\"<div id='\" + id + \"'></div>\");\n",
       "    if (!fig.cell_info) {\n",
       "        console.error(\"Failed to find cell for figure\", id, fig);\n",
       "        return;\n",
       "    }\n",
       "\n",
       "    var output_index = fig.cell_info[2]\n",
       "    var cell = fig.cell_info[0];\n",
       "\n",
       "};\n",
       "\n",
       "mpl.figure.prototype.handle_close = function(fig, msg) {\n",
       "    var width = fig.canvas.width/mpl.ratio\n",
       "    fig.root.unbind('remove')\n",
       "\n",
       "    // Update the output cell to use the data from the current canvas.\n",
       "    fig.push_to_output();\n",
       "    var dataURL = fig.canvas.toDataURL();\n",
       "    // Re-enable the keyboard manager in IPython - without this line, in FF,\n",
       "    // the notebook keyboard shortcuts fail.\n",
       "    IPython.keyboard_manager.enable()\n",
       "    $(fig.parent_element).html('<img src=\"' + dataURL + '\" width=\"' + width + '\">');\n",
       "    fig.close_ws(fig, msg);\n",
       "}\n",
       "\n",
       "mpl.figure.prototype.close_ws = function(fig, msg){\n",
       "    fig.send_message('closing', msg);\n",
       "    // fig.ws.close()\n",
       "}\n",
       "\n",
       "mpl.figure.prototype.push_to_output = function(remove_interactive) {\n",
       "    // Turn the data on the canvas into data in the output cell.\n",
       "    var width = this.canvas.width/mpl.ratio\n",
       "    var dataURL = this.canvas.toDataURL();\n",
       "    this.cell_info[1]['text/html'] = '<img src=\"' + dataURL + '\" width=\"' + width + '\">';\n",
       "}\n",
       "\n",
       "mpl.figure.prototype.updated_canvas_event = function() {\n",
       "    // Tell IPython that the notebook contents must change.\n",
       "    IPython.notebook.set_dirty(true);\n",
       "    this.send_message(\"ack\", {});\n",
       "    var fig = this;\n",
       "    // Wait a second, then push the new image to the DOM so\n",
       "    // that it is saved nicely (might be nice to debounce this).\n",
       "    setTimeout(function () { fig.push_to_output() }, 1000);\n",
       "}\n",
       "\n",
       "mpl.figure.prototype._init_toolbar = function() {\n",
       "    var fig = this;\n",
       "\n",
       "    var nav_element = $('<div/>')\n",
       "    nav_element.attr('style', 'width: 100%');\n",
       "    this.root.append(nav_element);\n",
       "\n",
       "    // Define a callback function for later on.\n",
       "    function toolbar_event(event) {\n",
       "        return fig.toolbar_button_onclick(event['data']);\n",
       "    }\n",
       "    function toolbar_mouse_event(event) {\n",
       "        return fig.toolbar_button_onmouseover(event['data']);\n",
       "    }\n",
       "\n",
       "    for(var toolbar_ind in mpl.toolbar_items){\n",
       "        var name = mpl.toolbar_items[toolbar_ind][0];\n",
       "        var tooltip = mpl.toolbar_items[toolbar_ind][1];\n",
       "        var image = mpl.toolbar_items[toolbar_ind][2];\n",
       "        var method_name = mpl.toolbar_items[toolbar_ind][3];\n",
       "\n",
       "        if (!name) { continue; };\n",
       "\n",
       "        var button = $('<button class=\"btn btn-default\" href=\"#\" title=\"' + name + '\"><i class=\"fa ' + image + ' fa-lg\"></i></button>');\n",
       "        button.click(method_name, toolbar_event);\n",
       "        button.mouseover(tooltip, toolbar_mouse_event);\n",
       "        nav_element.append(button);\n",
       "    }\n",
       "\n",
       "    // Add the status bar.\n",
       "    var status_bar = $('<span class=\"mpl-message\" style=\"text-align:right; float: right;\"/>');\n",
       "    nav_element.append(status_bar);\n",
       "    this.message = status_bar[0];\n",
       "\n",
       "    // Add the close button to the window.\n",
       "    var buttongrp = $('<div class=\"btn-group inline pull-right\"></div>');\n",
       "    var button = $('<button class=\"btn btn-mini btn-primary\" href=\"#\" title=\"Stop Interaction\"><i class=\"fa fa-power-off icon-remove icon-large\"></i></button>');\n",
       "    button.click(function (evt) { fig.handle_close(fig, {}); } );\n",
       "    button.mouseover('Stop Interaction', toolbar_mouse_event);\n",
       "    buttongrp.append(button);\n",
       "    var titlebar = this.root.find($('.ui-dialog-titlebar'));\n",
       "    titlebar.prepend(buttongrp);\n",
       "}\n",
       "\n",
       "mpl.figure.prototype._root_extra_style = function(el){\n",
       "    var fig = this\n",
       "    el.on(\"remove\", function(){\n",
       "\tfig.close_ws(fig, {});\n",
       "    });\n",
       "}\n",
       "\n",
       "mpl.figure.prototype._canvas_extra_style = function(el){\n",
       "    // this is important to make the div 'focusable\n",
       "    el.attr('tabindex', 0)\n",
       "    // reach out to IPython and tell the keyboard manager to turn it's self\n",
       "    // off when our div gets focus\n",
       "\n",
       "    // location in version 3\n",
       "    if (IPython.notebook.keyboard_manager) {\n",
       "        IPython.notebook.keyboard_manager.register_events(el);\n",
       "    }\n",
       "    else {\n",
       "        // location in version 2\n",
       "        IPython.keyboard_manager.register_events(el);\n",
       "    }\n",
       "\n",
       "}\n",
       "\n",
       "mpl.figure.prototype._key_event_extra = function(event, name) {\n",
       "    var manager = IPython.notebook.keyboard_manager;\n",
       "    if (!manager)\n",
       "        manager = IPython.keyboard_manager;\n",
       "\n",
       "    // Check for shift+enter\n",
       "    if (event.shiftKey && event.which == 13) {\n",
       "        this.canvas_div.blur();\n",
       "        // select the cell after this one\n",
       "        var index = IPython.notebook.find_cell_index(this.cell_info[0]);\n",
       "        IPython.notebook.select(index + 1);\n",
       "    }\n",
       "}\n",
       "\n",
       "mpl.figure.prototype.handle_save = function(fig, msg) {\n",
       "    fig.ondownload(fig, null);\n",
       "}\n",
       "\n",
       "\n",
       "mpl.find_output_cell = function(html_output) {\n",
       "    // Return the cell and output element which can be found *uniquely* in the notebook.\n",
       "    // Note - this is a bit hacky, but it is done because the \"notebook_saving.Notebook\"\n",
       "    // IPython event is triggered only after the cells have been serialised, which for\n",
       "    // our purposes (turning an active figure into a static one), is too late.\n",
       "    var cells = IPython.notebook.get_cells();\n",
       "    var ncells = cells.length;\n",
       "    for (var i=0; i<ncells; i++) {\n",
       "        var cell = cells[i];\n",
       "        if (cell.cell_type === 'code'){\n",
       "            for (var j=0; j<cell.output_area.outputs.length; j++) {\n",
       "                var data = cell.output_area.outputs[j];\n",
       "                if (data.data) {\n",
       "                    // IPython >= 3 moved mimebundle to data attribute of output\n",
       "                    data = data.data;\n",
       "                }\n",
       "                if (data['text/html'] == html_output) {\n",
       "                    return [cell, data, j];\n",
       "                }\n",
       "            }\n",
       "        }\n",
       "    }\n",
       "}\n",
       "\n",
       "// Register the function which deals with the matplotlib target/channel.\n",
       "// The kernel may be null if the page has been refreshed.\n",
       "if (IPython.notebook.kernel != null) {\n",
       "    IPython.notebook.kernel.comm_manager.register_target('matplotlib', mpl.mpl_figure_comm);\n",
       "}\n"
      ],
      "text/plain": [
       "<IPython.core.display.Javascript object>"
      ]
     },
     "metadata": {},
     "output_type": "display_data"
    },
    {
     "data": {
      "text/html": [
       "<img src=\"data:image/png;base64,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\" width=\"639.230792677615\">"
      ],
      "text/plain": [
       "<IPython.core.display.HTML object>"
      ]
     },
     "metadata": {},
     "output_type": "display_data"
    }
   ],
   "source": [
    "from mpl_toolkits.mplot3d import Axes3D\n",
    "fig = plt.figure()\n",
    "ax= Axes3D(fig)\n",
    "ax.scatter(*x[t==0].T, color='red')\n",
    "ax.scatter(*x[t==1].T, color='green')\n",
    "ax.plot_surface(X1, X2, Y, alpha=0.5, shade=False, color='blue')\n",
    "ax.plot_wireframe(X1, X2, 0, alpha=0.5, linewidth=1, color='grey')\n",
    "ax.contour(X1, X2, Y, [0], colors='red', linestyles='--');"
   ]
  },
  {
   "cell_type": "markdown",
   "metadata": {
    "slideshow": {
     "slide_type": "slide"
    }
   },
   "source": [
    "<img src='https://upload.wikimedia.org/wikipedia/commons/2/20/Svm_separating_hyperplanes.png' width=400/>"
   ]
  },
  {
   "cell_type": "markdown",
   "metadata": {
    "slideshow": {
     "slide_type": "slide"
    }
   },
   "source": [
    "# Probabilistic generative models\n",
    "\n",
    "Our first step is to form a model of the class posterior probabilities for the *inference stage:*\n",
    "\n",
    "This can be done by modeling: \n",
    "* the *class-conditional densities*, $p\\left(\\vec{x}\\right|\\left.C_k\\right)$,\n",
    "* the class priors, $p(C_k)$, and\n",
    "* applying [Bayes' theorem](https://en.wikipedia.org/wiki/Bayes%27_theorem) to obtain the posterior model, or\n",
    "\n",
    "*Note:* It can also be done directly, as in *probabilistic discriminative modeling* (forward pointer)."
   ]
  },
  {
   "cell_type": "markdown",
   "metadata": {
    "slideshow": {
     "slide_type": "slide"
    }
   },
   "source": [
    "## Remembering Bayes' theorem\n",
    "\n",
    "Bayes' theorem describes the probability of an event, based on conditions that might be related to the event.\n",
    "\n",
    "$$ P\\left(A\\right|\\left.B\\right) = \\frac{P\\left(B\\right|\\left.A\\right) \\, P(A)}{P(B)}\\,,$$\n",
    "where $A$ and $B$ are events.\n",
    "\n",
    "* $P(A)$ and $P(B)$ are the probabilities of $A$ and $B$ without regard to each other.\n",
    "* $P\\left( A \\right|\\left.B\\right)$, a *conditional probability*, is the probability of observing event $A$ given that $B$ is true.\n",
    "* $P\\left(B\\right|\\left.A\\right)$ is the probability of observing event $B$ given that $A$ is true."
   ]
  },
  {
   "cell_type": "markdown",
   "metadata": {
    "slideshow": {
     "slide_type": "slide"
    }
   },
   "source": [
    "* We will see that our class posterior probability model will depend only on the input $\\vec{x}$...\n",
    "* ...or a fixed transformation using basis functions $\\phi()$, and\n",
    "* class labels, $C_k$. \n",
    "\n",
    "In this case, for $K$ classes, our activation function will take the form of the *softmax function*,\n",
    "\n",
    "$$\n",
    "\\begin{align}\n",
    "f_k &= p\\left(C_k\\right|\\left.\\vec{x}\\right) &&= \\frac{p\\left(\\vec{x}\\right|\\left.C_k\\right)p\\left(C_k\\right)}{p(\\vec{x})} \\\\\n",
    "&= \\frac{p\\left(\\vec{x}\\right|\\left.C_k\\right)p\\left(C_k\\right)}{\\sum_j p\\left(\\vec{x}\\right|\\left.C_j\\right)p\\left(C_j\\right) } &&= \\frac{\\exp(a_k)}{\\sum_j \\exp(a_j)}\\,,\n",
    "\\end{align}\n",
    "$$\n",
    "\n",
    "where \n",
    "\n",
    "$$a_j = \\ln\\left(p\\left(\\vec{x}\\right|\\left.C_j\\right)p(C_j)\\right).$$"
   ]
  },
  {
   "cell_type": "markdown",
   "metadata": {
    "slideshow": {
     "slide_type": "slide"
    }
   },
   "source": [
    "In the **case of $K=2$**, the activation function will reduce to the *logistic sigmoid* function\n",
    "\n",
    "$$\\begin{align}\n",
    "f(\\vec{x}) \n",
    "= p\\left(C_1\\right|\\left.\\vec{x}\\right)\n",
    "& = \\frac{p\\left(\\vec{x}\\right|\\left.C_1\\right)p\\left(C_1\\right)}{p\\left(\\vec{x}\\right|\\left.C_1\\right)p\\left(C_1\\right) + p\\left(\\vec{x}\\right|\\left.C_2\\right)p\\left(C_2\\right)}\\\\\n",
    "&= \\frac{1}{1 + \\frac{p\\left(\\vec{x}\\right|\\left.C_2\\right)p\\left(C_2\\right)}{p\\left(\\vec{x}\\right|\\left.C_1\\right)p\\left(C_1\\right)}}\\\\\n",
    "&= \\frac{1}{1+\\exp(-a)} \\\\\n",
    "&= \\sigma(a)\\,,\n",
    "\\end{align}\n",
    "$$\n",
    "\n",
    "where \n",
    "\n",
    "$$a = \\ln \\frac {p\\left(\\vec{x}\\right|\\left. C_1\\right)p(C_1)} {p\\left(\\vec{x}\\right|\\left. C_2\\right)p\\left(C_2\\right)}\\,.$$"
   ]
  },
  {
   "cell_type": "markdown",
   "metadata": {
    "slideshow": {
     "slide_type": "notes"
    }
   },
   "source": [
    "* Note this is not the only possible form for the class posterior models. For example, one might also add a noise term to account for misclassification. \n",
    "* This particular form for the activation function is a consequence of the model we choose for $p(\\vec{x}|C_k)$ in sections below. \n",
    "* Showing the outcome may be a bit of \"putting the cart before the horse\" but it will simplify the notation as we proceed.\n",
    "* Although we have applied Bayes' Theorem, this is **not** a Bayesian model. \n",
    "    * Nowhere have we modeled the parameter posterior probability $p(\\vec{w}|\\vec{y})$. \n",
    "* Indeed, we will see shortly that we will use a *maximum likelihood* approach to determine $\\vec{w}$."
   ]
  },
  {
   "cell_type": "code",
   "execution_count": 61,
   "metadata": {
    "collapsed": false,
    "slideshow": {
     "slide_type": "slide"
    }
   },
   "outputs": [
    {
     "data": {
      "application/javascript": [
       "/* Put everything inside the global mpl namespace */\n",
       "window.mpl = {};\n",
       "\n",
       "\n",
       "mpl.get_websocket_type = function() {\n",
       "    if (typeof(WebSocket) !== 'undefined') {\n",
       "        return WebSocket;\n",
       "    } else if (typeof(MozWebSocket) !== 'undefined') {\n",
       "        return MozWebSocket;\n",
       "    } else {\n",
       "        alert('Your browser does not have WebSocket support.' +\n",
       "              'Please try Chrome, Safari or Firefox ≥ 6. ' +\n",
       "              'Firefox 4 and 5 are also supported but you ' +\n",
       "              'have to enable WebSockets in about:config.');\n",
       "    };\n",
       "}\n",
       "\n",
       "mpl.figure = function(figure_id, websocket, ondownload, parent_element) {\n",
       "    this.id = figure_id;\n",
       "\n",
       "    this.ws = websocket;\n",
       "\n",
       "    this.supports_binary = (this.ws.binaryType != undefined);\n",
       "\n",
       "    if (!this.supports_binary) {\n",
       "        var warnings = document.getElementById(\"mpl-warnings\");\n",
       "        if (warnings) {\n",
       "            warnings.style.display = 'block';\n",
       "            warnings.textContent = (\n",
       "                \"This browser does not support binary websocket messages. \" +\n",
       "                    \"Performance may be slow.\");\n",
       "        }\n",
       "    }\n",
       "\n",
       "    this.imageObj = new Image();\n",
       "\n",
       "    this.context = undefined;\n",
       "    this.message = undefined;\n",
       "    this.canvas = undefined;\n",
       "    this.rubberband_canvas = undefined;\n",
       "    this.rubberband_context = undefined;\n",
       "    this.format_dropdown = undefined;\n",
       "\n",
       "    this.image_mode = 'full';\n",
       "\n",
       "    this.root = $('<div/>');\n",
       "    this._root_extra_style(this.root)\n",
       "    this.root.attr('style', 'display: inline-block');\n",
       "\n",
       "    $(parent_element).append(this.root);\n",
       "\n",
       "    this._init_header(this);\n",
       "    this._init_canvas(this);\n",
       "    this._init_toolbar(this);\n",
       "\n",
       "    var fig = this;\n",
       "\n",
       "    this.waiting = false;\n",
       "\n",
       "    this.ws.onopen =  function () {\n",
       "            fig.send_message(\"supports_binary\", {value: fig.supports_binary});\n",
       "            fig.send_message(\"send_image_mode\", {});\n",
       "            if (mpl.ratio != 1) {\n",
       "                fig.send_message(\"set_dpi_ratio\", {'dpi_ratio': mpl.ratio});\n",
       "            }\n",
       "            fig.send_message(\"refresh\", {});\n",
       "        }\n",
       "\n",
       "    this.imageObj.onload = function() {\n",
       "            if (fig.image_mode == 'full') {\n",
       "                // Full images could contain transparency (where diff images\n",
       "                // almost always do), so we need to clear the canvas so that\n",
       "                // there is no ghosting.\n",
       "                fig.context.clearRect(0, 0, fig.canvas.width, fig.canvas.height);\n",
       "            }\n",
       "            fig.context.drawImage(fig.imageObj, 0, 0);\n",
       "        };\n",
       "\n",
       "    this.imageObj.onunload = function() {\n",
       "        this.ws.close();\n",
       "    }\n",
       "\n",
       "    this.ws.onmessage = this._make_on_message_function(this);\n",
       "\n",
       "    this.ondownload = ondownload;\n",
       "}\n",
       "\n",
       "mpl.figure.prototype._init_header = function() {\n",
       "    var titlebar = $(\n",
       "        '<div class=\"ui-dialog-titlebar ui-widget-header ui-corner-all ' +\n",
       "        'ui-helper-clearfix\"/>');\n",
       "    var titletext = $(\n",
       "        '<div class=\"ui-dialog-title\" style=\"width: 100%; ' +\n",
       "        'text-align: center; padding: 3px;\"/>');\n",
       "    titlebar.append(titletext)\n",
       "    this.root.append(titlebar);\n",
       "    this.header = titletext[0];\n",
       "}\n",
       "\n",
       "\n",
       "\n",
       "mpl.figure.prototype._canvas_extra_style = function(canvas_div) {\n",
       "\n",
       "}\n",
       "\n",
       "\n",
       "mpl.figure.prototype._root_extra_style = function(canvas_div) {\n",
       "\n",
       "}\n",
       "\n",
       "mpl.figure.prototype._init_canvas = function() {\n",
       "    var fig = this;\n",
       "\n",
       "    var canvas_div = $('<div/>');\n",
       "\n",
       "    canvas_div.attr('style', 'position: relative; clear: both; outline: 0');\n",
       "\n",
       "    function canvas_keyboard_event(event) {\n",
       "        return fig.key_event(event, event['data']);\n",
       "    }\n",
       "\n",
       "    canvas_div.keydown('key_press', canvas_keyboard_event);\n",
       "    canvas_div.keyup('key_release', canvas_keyboard_event);\n",
       "    this.canvas_div = canvas_div\n",
       "    this._canvas_extra_style(canvas_div)\n",
       "    this.root.append(canvas_div);\n",
       "\n",
       "    var canvas = $('<canvas/>');\n",
       "    canvas.addClass('mpl-canvas');\n",
       "    canvas.attr('style', \"left: 0; top: 0; z-index: 0; outline: 0\")\n",
       "\n",
       "    this.canvas = canvas[0];\n",
       "    this.context = canvas[0].getContext(\"2d\");\n",
       "\n",
       "    var backingStore = this.context.backingStorePixelRatio ||\n",
       "\tthis.context.webkitBackingStorePixelRatio ||\n",
       "\tthis.context.mozBackingStorePixelRatio ||\n",
       "\tthis.context.msBackingStorePixelRatio ||\n",
       "\tthis.context.oBackingStorePixelRatio ||\n",
       "\tthis.context.backingStorePixelRatio || 1;\n",
       "\n",
       "    mpl.ratio = (window.devicePixelRatio || 1) / backingStore;\n",
       "\n",
       "    var rubberband = $('<canvas/>');\n",
       "    rubberband.attr('style', \"position: absolute; left: 0; top: 0; z-index: 1;\")\n",
       "\n",
       "    var pass_mouse_events = true;\n",
       "\n",
       "    canvas_div.resizable({\n",
       "        start: function(event, ui) {\n",
       "            pass_mouse_events = false;\n",
       "        },\n",
       "        resize: function(event, ui) {\n",
       "            fig.request_resize(ui.size.width, ui.size.height);\n",
       "        },\n",
       "        stop: function(event, ui) {\n",
       "            pass_mouse_events = true;\n",
       "            fig.request_resize(ui.size.width, ui.size.height);\n",
       "        },\n",
       "    });\n",
       "\n",
       "    function mouse_event_fn(event) {\n",
       "        if (pass_mouse_events)\n",
       "            return fig.mouse_event(event, event['data']);\n",
       "    }\n",
       "\n",
       "    rubberband.mousedown('button_press', mouse_event_fn);\n",
       "    rubberband.mouseup('button_release', mouse_event_fn);\n",
       "    // Throttle sequential mouse events to 1 every 20ms.\n",
       "    rubberband.mousemove('motion_notify', mouse_event_fn);\n",
       "\n",
       "    rubberband.mouseenter('figure_enter', mouse_event_fn);\n",
       "    rubberband.mouseleave('figure_leave', mouse_event_fn);\n",
       "\n",
       "    canvas_div.on(\"wheel\", function (event) {\n",
       "        event = event.originalEvent;\n",
       "        event['data'] = 'scroll'\n",
       "        if (event.deltaY < 0) {\n",
       "            event.step = 1;\n",
       "        } else {\n",
       "            event.step = -1;\n",
       "        }\n",
       "        mouse_event_fn(event);\n",
       "    });\n",
       "\n",
       "    canvas_div.append(canvas);\n",
       "    canvas_div.append(rubberband);\n",
       "\n",
       "    this.rubberband = rubberband;\n",
       "    this.rubberband_canvas = rubberband[0];\n",
       "    this.rubberband_context = rubberband[0].getContext(\"2d\");\n",
       "    this.rubberband_context.strokeStyle = \"#000000\";\n",
       "\n",
       "    this._resize_canvas = function(width, height) {\n",
       "        // Keep the size of the canvas, canvas container, and rubber band\n",
       "        // canvas in synch.\n",
       "        canvas_div.css('width', width)\n",
       "        canvas_div.css('height', height)\n",
       "\n",
       "        canvas.attr('width', width * mpl.ratio);\n",
       "        canvas.attr('height', height * mpl.ratio);\n",
       "        canvas.attr('style', 'width: ' + width + 'px; height: ' + height + 'px;');\n",
       "\n",
       "        rubberband.attr('width', width);\n",
       "        rubberband.attr('height', height);\n",
       "    }\n",
       "\n",
       "    // Set the figure to an initial 600x600px, this will subsequently be updated\n",
       "    // upon first draw.\n",
       "    this._resize_canvas(600, 600);\n",
       "\n",
       "    // Disable right mouse context menu.\n",
       "    $(this.rubberband_canvas).bind(\"contextmenu\",function(e){\n",
       "        return false;\n",
       "    });\n",
       "\n",
       "    function set_focus () {\n",
       "        canvas.focus();\n",
       "        canvas_div.focus();\n",
       "    }\n",
       "\n",
       "    window.setTimeout(set_focus, 100);\n",
       "}\n",
       "\n",
       "mpl.figure.prototype._init_toolbar = function() {\n",
       "    var fig = this;\n",
       "\n",
       "    var nav_element = $('<div/>')\n",
       "    nav_element.attr('style', 'width: 100%');\n",
       "    this.root.append(nav_element);\n",
       "\n",
       "    // Define a callback function for later on.\n",
       "    function toolbar_event(event) {\n",
       "        return fig.toolbar_button_onclick(event['data']);\n",
       "    }\n",
       "    function toolbar_mouse_event(event) {\n",
       "        return fig.toolbar_button_onmouseover(event['data']);\n",
       "    }\n",
       "\n",
       "    for(var toolbar_ind in mpl.toolbar_items) {\n",
       "        var name = mpl.toolbar_items[toolbar_ind][0];\n",
       "        var tooltip = mpl.toolbar_items[toolbar_ind][1];\n",
       "        var image = mpl.toolbar_items[toolbar_ind][2];\n",
       "        var method_name = mpl.toolbar_items[toolbar_ind][3];\n",
       "\n",
       "        if (!name) {\n",
       "            // put a spacer in here.\n",
       "            continue;\n",
       "        }\n",
       "        var button = $('<button/>');\n",
       "        button.addClass('ui-button ui-widget ui-state-default ui-corner-all ' +\n",
       "                        'ui-button-icon-only');\n",
       "        button.attr('role', 'button');\n",
       "        button.attr('aria-disabled', 'false');\n",
       "        button.click(method_name, toolbar_event);\n",
       "        button.mouseover(tooltip, toolbar_mouse_event);\n",
       "\n",
       "        var icon_img = $('<span/>');\n",
       "        icon_img.addClass('ui-button-icon-primary ui-icon');\n",
       "        icon_img.addClass(image);\n",
       "        icon_img.addClass('ui-corner-all');\n",
       "\n",
       "        var tooltip_span = $('<span/>');\n",
       "        tooltip_span.addClass('ui-button-text');\n",
       "        tooltip_span.html(tooltip);\n",
       "\n",
       "        button.append(icon_img);\n",
       "        button.append(tooltip_span);\n",
       "\n",
       "        nav_element.append(button);\n",
       "    }\n",
       "\n",
       "    var fmt_picker_span = $('<span/>');\n",
       "\n",
       "    var fmt_picker = $('<select/>');\n",
       "    fmt_picker.addClass('mpl-toolbar-option ui-widget ui-widget-content');\n",
       "    fmt_picker_span.append(fmt_picker);\n",
       "    nav_element.append(fmt_picker_span);\n",
       "    this.format_dropdown = fmt_picker[0];\n",
       "\n",
       "    for (var ind in mpl.extensions) {\n",
       "        var fmt = mpl.extensions[ind];\n",
       "        var option = $(\n",
       "            '<option/>', {selected: fmt === mpl.default_extension}).html(fmt);\n",
       "        fmt_picker.append(option)\n",
       "    }\n",
       "\n",
       "    // Add hover states to the ui-buttons\n",
       "    $( \".ui-button\" ).hover(\n",
       "        function() { $(this).addClass(\"ui-state-hover\");},\n",
       "        function() { $(this).removeClass(\"ui-state-hover\");}\n",
       "    );\n",
       "\n",
       "    var status_bar = $('<span class=\"mpl-message\"/>');\n",
       "    nav_element.append(status_bar);\n",
       "    this.message = status_bar[0];\n",
       "}\n",
       "\n",
       "mpl.figure.prototype.request_resize = function(x_pixels, y_pixels) {\n",
       "    // Request matplotlib to resize the figure. Matplotlib will then trigger a resize in the client,\n",
       "    // which will in turn request a refresh of the image.\n",
       "    this.send_message('resize', {'width': x_pixels, 'height': y_pixels});\n",
       "}\n",
       "\n",
       "mpl.figure.prototype.send_message = function(type, properties) {\n",
       "    properties['type'] = type;\n",
       "    properties['figure_id'] = this.id;\n",
       "    this.ws.send(JSON.stringify(properties));\n",
       "}\n",
       "\n",
       "mpl.figure.prototype.send_draw_message = function() {\n",
       "    if (!this.waiting) {\n",
       "        this.waiting = true;\n",
       "        this.ws.send(JSON.stringify({type: \"draw\", figure_id: this.id}));\n",
       "    }\n",
       "}\n",
       "\n",
       "\n",
       "mpl.figure.prototype.handle_save = function(fig, msg) {\n",
       "    var format_dropdown = fig.format_dropdown;\n",
       "    var format = format_dropdown.options[format_dropdown.selectedIndex].value;\n",
       "    fig.ondownload(fig, format);\n",
       "}\n",
       "\n",
       "\n",
       "mpl.figure.prototype.handle_resize = function(fig, msg) {\n",
       "    var size = msg['size'];\n",
       "    if (size[0] != fig.canvas.width || size[1] != fig.canvas.height) {\n",
       "        fig._resize_canvas(size[0], size[1]);\n",
       "        fig.send_message(\"refresh\", {});\n",
       "    };\n",
       "}\n",
       "\n",
       "mpl.figure.prototype.handle_rubberband = function(fig, msg) {\n",
       "    var x0 = msg['x0'] / mpl.ratio;\n",
       "    var y0 = (fig.canvas.height - msg['y0']) / mpl.ratio;\n",
       "    var x1 = msg['x1'] / mpl.ratio;\n",
       "    var y1 = (fig.canvas.height - msg['y1']) / mpl.ratio;\n",
       "    x0 = Math.floor(x0) + 0.5;\n",
       "    y0 = Math.floor(y0) + 0.5;\n",
       "    x1 = Math.floor(x1) + 0.5;\n",
       "    y1 = Math.floor(y1) + 0.5;\n",
       "    var min_x = Math.min(x0, x1);\n",
       "    var min_y = Math.min(y0, y1);\n",
       "    var width = Math.abs(x1 - x0);\n",
       "    var height = Math.abs(y1 - y0);\n",
       "\n",
       "    fig.rubberband_context.clearRect(\n",
       "        0, 0, fig.canvas.width, fig.canvas.height);\n",
       "\n",
       "    fig.rubberband_context.strokeRect(min_x, min_y, width, height);\n",
       "}\n",
       "\n",
       "mpl.figure.prototype.handle_figure_label = function(fig, msg) {\n",
       "    // Updates the figure title.\n",
       "    fig.header.textContent = msg['label'];\n",
       "}\n",
       "\n",
       "mpl.figure.prototype.handle_cursor = function(fig, msg) {\n",
       "    var cursor = msg['cursor'];\n",
       "    switch(cursor)\n",
       "    {\n",
       "    case 0:\n",
       "        cursor = 'pointer';\n",
       "        break;\n",
       "    case 1:\n",
       "        cursor = 'default';\n",
       "        break;\n",
       "    case 2:\n",
       "        cursor = 'crosshair';\n",
       "        break;\n",
       "    case 3:\n",
       "        cursor = 'move';\n",
       "        break;\n",
       "    }\n",
       "    fig.rubberband_canvas.style.cursor = cursor;\n",
       "}\n",
       "\n",
       "mpl.figure.prototype.handle_message = function(fig, msg) {\n",
       "    fig.message.textContent = msg['message'];\n",
       "}\n",
       "\n",
       "mpl.figure.prototype.handle_draw = function(fig, msg) {\n",
       "    // Request the server to send over a new figure.\n",
       "    fig.send_draw_message();\n",
       "}\n",
       "\n",
       "mpl.figure.prototype.handle_image_mode = function(fig, msg) {\n",
       "    fig.image_mode = msg['mode'];\n",
       "}\n",
       "\n",
       "mpl.figure.prototype.updated_canvas_event = function() {\n",
       "    // Called whenever the canvas gets updated.\n",
       "    this.send_message(\"ack\", {});\n",
       "}\n",
       "\n",
       "// A function to construct a web socket function for onmessage handling.\n",
       "// Called in the figure constructor.\n",
       "mpl.figure.prototype._make_on_message_function = function(fig) {\n",
       "    return function socket_on_message(evt) {\n",
       "        if (evt.data instanceof Blob) {\n",
       "            /* FIXME: We get \"Resource interpreted as Image but\n",
       "             * transferred with MIME type text/plain:\" errors on\n",
       "             * Chrome.  But how to set the MIME type?  It doesn't seem\n",
       "             * to be part of the websocket stream */\n",
       "            evt.data.type = \"image/png\";\n",
       "\n",
       "            /* Free the memory for the previous frames */\n",
       "            if (fig.imageObj.src) {\n",
       "                (window.URL || window.webkitURL).revokeObjectURL(\n",
       "                    fig.imageObj.src);\n",
       "            }\n",
       "\n",
       "            fig.imageObj.src = (window.URL || window.webkitURL).createObjectURL(\n",
       "                evt.data);\n",
       "            fig.updated_canvas_event();\n",
       "            fig.waiting = false;\n",
       "            return;\n",
       "        }\n",
       "        else if (typeof evt.data === 'string' && evt.data.slice(0, 21) == \"data:image/png;base64\") {\n",
       "            fig.imageObj.src = evt.data;\n",
       "            fig.updated_canvas_event();\n",
       "            fig.waiting = false;\n",
       "            return;\n",
       "        }\n",
       "\n",
       "        var msg = JSON.parse(evt.data);\n",
       "        var msg_type = msg['type'];\n",
       "\n",
       "        // Call the  \"handle_{type}\" callback, which takes\n",
       "        // the figure and JSON message as its only arguments.\n",
       "        try {\n",
       "            var callback = fig[\"handle_\" + msg_type];\n",
       "        } catch (e) {\n",
       "            console.log(\"No handler for the '\" + msg_type + \"' message type: \", msg);\n",
       "            return;\n",
       "        }\n",
       "\n",
       "        if (callback) {\n",
       "            try {\n",
       "                // console.log(\"Handling '\" + msg_type + \"' message: \", msg);\n",
       "                callback(fig, msg);\n",
       "            } catch (e) {\n",
       "                console.log(\"Exception inside the 'handler_\" + msg_type + \"' callback:\", e, e.stack, msg);\n",
       "            }\n",
       "        }\n",
       "    };\n",
       "}\n",
       "\n",
       "// from http://stackoverflow.com/questions/1114465/getting-mouse-location-in-canvas\n",
       "mpl.findpos = function(e) {\n",
       "    //this section is from http://www.quirksmode.org/js/events_properties.html\n",
       "    var targ;\n",
       "    if (!e)\n",
       "        e = window.event;\n",
       "    if (e.target)\n",
       "        targ = e.target;\n",
       "    else if (e.srcElement)\n",
       "        targ = e.srcElement;\n",
       "    if (targ.nodeType == 3) // defeat Safari bug\n",
       "        targ = targ.parentNode;\n",
       "\n",
       "    // jQuery normalizes the pageX and pageY\n",
       "    // pageX,Y are the mouse positions relative to the document\n",
       "    // offset() returns the position of the element relative to the document\n",
       "    var x = e.pageX - $(targ).offset().left;\n",
       "    var y = e.pageY - $(targ).offset().top;\n",
       "\n",
       "    return {\"x\": x, \"y\": y};\n",
       "};\n",
       "\n",
       "/*\n",
       " * return a copy of an object with only non-object keys\n",
       " * we need this to avoid circular references\n",
       " * http://stackoverflow.com/a/24161582/3208463\n",
       " */\n",
       "function simpleKeys (original) {\n",
       "  return Object.keys(original).reduce(function (obj, key) {\n",
       "    if (typeof original[key] !== 'object')\n",
       "        obj[key] = original[key]\n",
       "    return obj;\n",
       "  }, {});\n",
       "}\n",
       "\n",
       "mpl.figure.prototype.mouse_event = function(event, name) {\n",
       "    var canvas_pos = mpl.findpos(event)\n",
       "\n",
       "    if (name === 'button_press')\n",
       "    {\n",
       "        this.canvas.focus();\n",
       "        this.canvas_div.focus();\n",
       "    }\n",
       "\n",
       "    var x = canvas_pos.x * mpl.ratio;\n",
       "    var y = canvas_pos.y * mpl.ratio;\n",
       "\n",
       "    this.send_message(name, {x: x, y: y, button: event.button,\n",
       "                             step: event.step,\n",
       "                             guiEvent: simpleKeys(event)});\n",
       "\n",
       "    /* This prevents the web browser from automatically changing to\n",
       "     * the text insertion cursor when the button is pressed.  We want\n",
       "     * to control all of the cursor setting manually through the\n",
       "     * 'cursor' event from matplotlib */\n",
       "    event.preventDefault();\n",
       "    return false;\n",
       "}\n",
       "\n",
       "mpl.figure.prototype._key_event_extra = function(event, name) {\n",
       "    // Handle any extra behaviour associated with a key event\n",
       "}\n",
       "\n",
       "mpl.figure.prototype.key_event = function(event, name) {\n",
       "\n",
       "    // Prevent repeat events\n",
       "    if (name == 'key_press')\n",
       "    {\n",
       "        if (event.which === this._key)\n",
       "            return;\n",
       "        else\n",
       "            this._key = event.which;\n",
       "    }\n",
       "    if (name == 'key_release')\n",
       "        this._key = null;\n",
       "\n",
       "    var value = '';\n",
       "    if (event.ctrlKey && event.which != 17)\n",
       "        value += \"ctrl+\";\n",
       "    if (event.altKey && event.which != 18)\n",
       "        value += \"alt+\";\n",
       "    if (event.shiftKey && event.which != 16)\n",
       "        value += \"shift+\";\n",
       "\n",
       "    value += 'k';\n",
       "    value += event.which.toString();\n",
       "\n",
       "    this._key_event_extra(event, name);\n",
       "\n",
       "    this.send_message(name, {key: value,\n",
       "                             guiEvent: simpleKeys(event)});\n",
       "    return false;\n",
       "}\n",
       "\n",
       "mpl.figure.prototype.toolbar_button_onclick = function(name) {\n",
       "    if (name == 'download') {\n",
       "        this.handle_save(this, null);\n",
       "    } else {\n",
       "        this.send_message(\"toolbar_button\", {name: name});\n",
       "    }\n",
       "};\n",
       "\n",
       "mpl.figure.prototype.toolbar_button_onmouseover = function(tooltip) {\n",
       "    this.message.textContent = tooltip;\n",
       "};\n",
       "mpl.toolbar_items = [[\"Home\", \"Reset original view\", \"fa fa-home icon-home\", \"home\"], [\"Back\", \"Back to  previous view\", \"fa fa-arrow-left icon-arrow-left\", \"back\"], [\"Forward\", \"Forward to next view\", \"fa fa-arrow-right icon-arrow-right\", \"forward\"], [\"\", \"\", \"\", \"\"], [\"Pan\", \"Pan axes with left mouse, zoom with right\", \"fa fa-arrows icon-move\", \"pan\"], [\"Zoom\", \"Zoom to rectangle\", \"fa fa-square-o icon-check-empty\", \"zoom\"], [\"\", \"\", \"\", \"\"], [\"Download\", \"Download plot\", \"fa fa-floppy-o icon-save\", \"download\"]];\n",
       "\n",
       "mpl.extensions = [\"eps\", \"pdf\", \"png\", \"ps\", \"raw\", \"svg\"];\n",
       "\n",
       "mpl.default_extension = \"png\";var comm_websocket_adapter = function(comm) {\n",
       "    // Create a \"websocket\"-like object which calls the given IPython comm\n",
       "    // object with the appropriate methods. Currently this is a non binary\n",
       "    // socket, so there is still some room for performance tuning.\n",
       "    var ws = {};\n",
       "\n",
       "    ws.close = function() {\n",
       "        comm.close()\n",
       "    };\n",
       "    ws.send = function(m) {\n",
       "        //console.log('sending', m);\n",
       "        comm.send(m);\n",
       "    };\n",
       "    // Register the callback with on_msg.\n",
       "    comm.on_msg(function(msg) {\n",
       "        //console.log('receiving', msg['content']['data'], msg);\n",
       "        // Pass the mpl event to the overriden (by mpl) onmessage function.\n",
       "        ws.onmessage(msg['content']['data'])\n",
       "    });\n",
       "    return ws;\n",
       "}\n",
       "\n",
       "mpl.mpl_figure_comm = function(comm, msg) {\n",
       "    // This is the function which gets called when the mpl process\n",
       "    // starts-up an IPython Comm through the \"matplotlib\" channel.\n",
       "\n",
       "    var id = msg.content.data.id;\n",
       "    // Get hold of the div created by the display call when the Comm\n",
       "    // socket was opened in Python.\n",
       "    var element = $(\"#\" + id);\n",
       "    var ws_proxy = comm_websocket_adapter(comm)\n",
       "\n",
       "    function ondownload(figure, format) {\n",
       "        window.open(figure.imageObj.src);\n",
       "    }\n",
       "\n",
       "    var fig = new mpl.figure(id, ws_proxy,\n",
       "                           ondownload,\n",
       "                           element.get(0));\n",
       "\n",
       "    // Call onopen now - mpl needs it, as it is assuming we've passed it a real\n",
       "    // web socket which is closed, not our websocket->open comm proxy.\n",
       "    ws_proxy.onopen();\n",
       "\n",
       "    fig.parent_element = element.get(0);\n",
       "    fig.cell_info = mpl.find_output_cell(\"<div id='\" + id + \"'></div>\");\n",
       "    if (!fig.cell_info) {\n",
       "        console.error(\"Failed to find cell for figure\", id, fig);\n",
       "        return;\n",
       "    }\n",
       "\n",
       "    var output_index = fig.cell_info[2]\n",
       "    var cell = fig.cell_info[0];\n",
       "\n",
       "};\n",
       "\n",
       "mpl.figure.prototype.handle_close = function(fig, msg) {\n",
       "    var width = fig.canvas.width/mpl.ratio\n",
       "    fig.root.unbind('remove')\n",
       "\n",
       "    // Update the output cell to use the data from the current canvas.\n",
       "    fig.push_to_output();\n",
       "    var dataURL = fig.canvas.toDataURL();\n",
       "    // Re-enable the keyboard manager in IPython - without this line, in FF,\n",
       "    // the notebook keyboard shortcuts fail.\n",
       "    IPython.keyboard_manager.enable()\n",
       "    $(fig.parent_element).html('<img src=\"' + dataURL + '\" width=\"' + width + '\">');\n",
       "    fig.close_ws(fig, msg);\n",
       "}\n",
       "\n",
       "mpl.figure.prototype.close_ws = function(fig, msg){\n",
       "    fig.send_message('closing', msg);\n",
       "    // fig.ws.close()\n",
       "}\n",
       "\n",
       "mpl.figure.prototype.push_to_output = function(remove_interactive) {\n",
       "    // Turn the data on the canvas into data in the output cell.\n",
       "    var width = this.canvas.width/mpl.ratio\n",
       "    var dataURL = this.canvas.toDataURL();\n",
       "    this.cell_info[1]['text/html'] = '<img src=\"' + dataURL + '\" width=\"' + width + '\">';\n",
       "}\n",
       "\n",
       "mpl.figure.prototype.updated_canvas_event = function() {\n",
       "    // Tell IPython that the notebook contents must change.\n",
       "    IPython.notebook.set_dirty(true);\n",
       "    this.send_message(\"ack\", {});\n",
       "    var fig = this;\n",
       "    // Wait a second, then push the new image to the DOM so\n",
       "    // that it is saved nicely (might be nice to debounce this).\n",
       "    setTimeout(function () { fig.push_to_output() }, 1000);\n",
       "}\n",
       "\n",
       "mpl.figure.prototype._init_toolbar = function() {\n",
       "    var fig = this;\n",
       "\n",
       "    var nav_element = $('<div/>')\n",
       "    nav_element.attr('style', 'width: 100%');\n",
       "    this.root.append(nav_element);\n",
       "\n",
       "    // Define a callback function for later on.\n",
       "    function toolbar_event(event) {\n",
       "        return fig.toolbar_button_onclick(event['data']);\n",
       "    }\n",
       "    function toolbar_mouse_event(event) {\n",
       "        return fig.toolbar_button_onmouseover(event['data']);\n",
       "    }\n",
       "\n",
       "    for(var toolbar_ind in mpl.toolbar_items){\n",
       "        var name = mpl.toolbar_items[toolbar_ind][0];\n",
       "        var tooltip = mpl.toolbar_items[toolbar_ind][1];\n",
       "        var image = mpl.toolbar_items[toolbar_ind][2];\n",
       "        var method_name = mpl.toolbar_items[toolbar_ind][3];\n",
       "\n",
       "        if (!name) { continue; };\n",
       "\n",
       "        var button = $('<button class=\"btn btn-default\" href=\"#\" title=\"' + name + '\"><i class=\"fa ' + image + ' fa-lg\"></i></button>');\n",
       "        button.click(method_name, toolbar_event);\n",
       "        button.mouseover(tooltip, toolbar_mouse_event);\n",
       "        nav_element.append(button);\n",
       "    }\n",
       "\n",
       "    // Add the status bar.\n",
       "    var status_bar = $('<span class=\"mpl-message\" style=\"text-align:right; float: right;\"/>');\n",
       "    nav_element.append(status_bar);\n",
       "    this.message = status_bar[0];\n",
       "\n",
       "    // Add the close button to the window.\n",
       "    var buttongrp = $('<div class=\"btn-group inline pull-right\"></div>');\n",
       "    var button = $('<button class=\"btn btn-mini btn-primary\" href=\"#\" title=\"Stop Interaction\"><i class=\"fa fa-power-off icon-remove icon-large\"></i></button>');\n",
       "    button.click(function (evt) { fig.handle_close(fig, {}); } );\n",
       "    button.mouseover('Stop Interaction', toolbar_mouse_event);\n",
       "    buttongrp.append(button);\n",
       "    var titlebar = this.root.find($('.ui-dialog-titlebar'));\n",
       "    titlebar.prepend(buttongrp);\n",
       "}\n",
       "\n",
       "mpl.figure.prototype._root_extra_style = function(el){\n",
       "    var fig = this\n",
       "    el.on(\"remove\", function(){\n",
       "\tfig.close_ws(fig, {});\n",
       "    });\n",
       "}\n",
       "\n",
       "mpl.figure.prototype._canvas_extra_style = function(el){\n",
       "    // this is important to make the div 'focusable\n",
       "    el.attr('tabindex', 0)\n",
       "    // reach out to IPython and tell the keyboard manager to turn it's self\n",
       "    // off when our div gets focus\n",
       "\n",
       "    // location in version 3\n",
       "    if (IPython.notebook.keyboard_manager) {\n",
       "        IPython.notebook.keyboard_manager.register_events(el);\n",
       "    }\n",
       "    else {\n",
       "        // location in version 2\n",
       "        IPython.keyboard_manager.register_events(el);\n",
       "    }\n",
       "\n",
       "}\n",
       "\n",
       "mpl.figure.prototype._key_event_extra = function(event, name) {\n",
       "    var manager = IPython.notebook.keyboard_manager;\n",
       "    if (!manager)\n",
       "        manager = IPython.keyboard_manager;\n",
       "\n",
       "    // Check for shift+enter\n",
       "    if (event.shiftKey && event.which == 13) {\n",
       "        this.canvas_div.blur();\n",
       "        // select the cell after this one\n",
       "        var index = IPython.notebook.find_cell_index(this.cell_info[0]);\n",
       "        IPython.notebook.select(index + 1);\n",
       "    }\n",
       "}\n",
       "\n",
       "mpl.figure.prototype.handle_save = function(fig, msg) {\n",
       "    fig.ondownload(fig, null);\n",
       "}\n",
       "\n",
       "\n",
       "mpl.find_output_cell = function(html_output) {\n",
       "    // Return the cell and output element which can be found *uniquely* in the notebook.\n",
       "    // Note - this is a bit hacky, but it is done because the \"notebook_saving.Notebook\"\n",
       "    // IPython event is triggered only after the cells have been serialised, which for\n",
       "    // our purposes (turning an active figure into a static one), is too late.\n",
       "    var cells = IPython.notebook.get_cells();\n",
       "    var ncells = cells.length;\n",
       "    for (var i=0; i<ncells; i++) {\n",
       "        var cell = cells[i];\n",
       "        if (cell.cell_type === 'code'){\n",
       "            for (var j=0; j<cell.output_area.outputs.length; j++) {\n",
       "                var data = cell.output_area.outputs[j];\n",
       "                if (data.data) {\n",
       "                    // IPython >= 3 moved mimebundle to data attribute of output\n",
       "                    data = data.data;\n",
       "                }\n",
       "                if (data['text/html'] == html_output) {\n",
       "                    return [cell, data, j];\n",
       "                }\n",
       "            }\n",
       "        }\n",
       "    }\n",
       "}\n",
       "\n",
       "// Register the function which deals with the matplotlib target/channel.\n",
       "// The kernel may be null if the page has been refreshed.\n",
       "if (IPython.notebook.kernel != null) {\n",
       "    IPython.notebook.kernel.comm_manager.register_target('matplotlib', mpl.mpl_figure_comm);\n",
       "}\n"
      ],
      "text/plain": [
       "<IPython.core.display.Javascript object>"
      ]
     },
     "metadata": {},
     "output_type": "display_data"
    },
    {
     "data": {
      "text/html": [
       "<img src=\"data:image/png;base64,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\" width=\"664.6154089933325\">"
      ],
      "text/plain": [
       "<IPython.core.display.HTML object>"
      ]
     },
     "metadata": {},
     "output_type": "display_data"
    }
   ],
   "source": [
    "def sigmoid(a):\n",
    "    return 1/(1+np.exp(-a))\n",
    "\n",
    "domain = np.linspace(-10,10, 100)\n",
    "plt.figure()\n",
    "plt.plot(domain, sigmoid(domain));\n",
    "plt.title(r'A Sigmoid, $\\sigma(\\alpha)$');"
   ]
  },
  {
   "cell_type": "markdown",
   "metadata": {
    "slideshow": {
     "slide_type": "slide"
    }
   },
   "source": [
    "These models are **known as generative models** because they can be used to generate synthetic input\n",
    "data by applying [inverse transform sampling](http://en.wikipedia.org/wiki/Inverse_transform_sampling) to the marginal distribution for $\\vec{x}$:\n",
    "\n",
    "$$p(\\vec{x}) = \\sum_k p(\\vec{x}|C_k)p(C_k)\\,.$$"
   ]
  },
  {
   "cell_type": "markdown",
   "metadata": {
    "slideshow": {
     "slide_type": "slide"
    }
   },
   "source": [
    "### Model assumptions\n",
    "\n",
    "To move forward, it is necessary to start making **model assumptions**. \n",
    "Here we will *assume* that:\n",
    "* we have continuous inputs, i.e. $x\\in \\mathbb{R}^n$ (see Bishop p.202 or Andrew Ng's Lecture 5 pdf for discrete input using Naïve Bayes & Laplace), and\n",
    "* that the *class-conditional densities*, $p(\\vec{x}|C_k)$, are modeled by a Gaussian distribution. "
   ]
  },
  {
   "cell_type": "markdown",
   "metadata": {
    "slideshow": {
     "slide_type": "slide"
    }
   },
   "source": [
    "### Transformation under the Gaussian assumption\n",
    "\n",
    "Under the Gaussian assumption, the class-conditional density  for class $C_k$ is\n",
    "\n",
    "$$p(\\vec{x}|C_k) = \\frac{1}{\\left(2 \\pi \\right)^{n/2}} \\frac{1}{\\left|\\vec{\\Sigma}\\right|^{1/2}} \\exp \\left( -\\frac{1}{2} \\left(\\vec{x} - \\vec{\\mu}_k\\right)^\\intercal \\vec{\\Sigma}^{-1} \\left(\\vec{x} - \\vec{\\mu}_k\\right) \\right)\\,,$$\n",
    "\n",
    "where:\n",
    "* $n$ is the dimension of the input vector $\\vec{x}$, \n",
    "* $\\vec{\\Sigma}$ is the *covariance matrix*, and\n",
    "* $\\vec{\\mu}$ is the mean vector.\n",
    "\n",
    "*Note:* here we have *assumed* that all classes share the same covariance matrix."
   ]
  },
  {
   "cell_type": "markdown",
   "metadata": {
    "slideshow": {
     "slide_type": "slide"
    }
   },
   "source": [
    "A [logistic function](https://en.wikipedia.org/wiki/Logistic_function) or logistic curve is a common \"S\" shape (sigmoid curve), defined as\n",
    "\n",
    "$$\\sigma(x)={\\frac {L}{1+\\exp(-k(x-x_{0}))}}\\,,$$\n",
    "\n",
    "where:\n",
    "\n",
    "* $x_0$: the x-value of the sigmoid's midpoint,\n",
    "* $L$: the curve's maximum value, and\n",
    "* *k*: the steepness of the curve."
   ]
  },
  {
   "cell_type": "markdown",
   "metadata": {
    "slideshow": {
     "slide_type": "slide"
    }
   },
   "source": [
    "In the case of **two classes**, this result is substituted into the logistic sigmoid function and reduces to\n",
    "\n",
    "$$p(C_1|\\vec{x}) \n",
    " = \\sigma(a) =\n",
    " \\sigma \\left( \\vec{w}^\\intercal \\vec{x} + w_0 \\right)$$\n",
    "because\n",
    "$$\n",
    "\\require{cancel}\n",
    "\\begin{align}\n",
    "a &= \\ln \\frac{p(x|C_1)p(C_1)}{p(x|C_2)p(C_2)} \\\\\n",
    "  &= \\ln p(x|C_1) - \\ln p(x|C_2) + \\ln \\frac{p(C_1)} {p(C_2)}\\\\\n",
    "  &= -\\frac{1}{2}(\\vec{x}-\\vec{\\mu}_1)^T \\vec{\\Sigma}^{-1}(\\vec{x}-\\vec{\\mu}_1)^T  + \\frac{1}{2}(\\vec{x}- \\vec{\\mu}_2)^T \\vec{\\Sigma}^{-1}(\\vec{x}-\\vec{\\mu}_2)^T  + \\ln \\frac{p(C_1)} {p(C_2)}\\\\\n",
    "  &= \\cancel{-\\frac{1}{2}\\vec{x}^T\\vec{\\Sigma}^{-1}\\vec{x}} + \\vec{\\mu}_1^T\\vec{\\Sigma}^{-1}\\vec{x} - \\frac{1}{2}\\vec{\\mu}_1^T\\vec{\\Sigma}^{-1}\\vec{\\mu}_1  \\\\\n",
    "  &\\hspace{2em} \\cancel{+\\frac{1}{2}\\vec{x}^T\\vec{\\Sigma}^{-1}\\vec{x}}  - \\vec{\\mu}_2^T \\vec{\\Sigma}^{-1}\\vec{x} +\\frac{1}{2}\\vec{\\mu}_2^T\\vec{\\Sigma}^{-1}\\vec{\\mu}_2  + \\ln \\frac{p(C_1)} {p(C_2)}\\\\\n",
    "  &=  \\underbrace{\\left[ \\vec{\\Sigma}^{-1}(\\vec{\\mu}_2-\\vec{\\mu}_1)^T\\right]^T}_{\\vec{w}^T}\\vec{x} \n",
    "      \\underbrace{- \\frac{1}{2}\\vec{\\mu}_1^T\\vec{\\Sigma}^{-1}\\vec{\\mu}_1 \n",
    "      + \\frac{1}{2}\\vec{\\mu}_2^T\\vec{\\Sigma}^{-1}\\vec{\\mu}_2\n",
    "      + \\ln \\frac{p(C_1)} {p(C_2)}}_{w_0}\n",
    "\\end{align}$$\n",
    "\n",
    "were we have defined: \n",
    "\n",
    "$$\\vec{w} = \\mathbf{\\Sigma}^{-1} \\left( \\mathbf{\\mu}_1 - \\mathbf{\\mu}_2 \\right),$$\n",
    "\n",
    "$$w_0 = -\\frac{1}{2} \\vec{\\mu}_1^\\intercal \\vec{\\Sigma}^{-1} \\vec{\\mu}_1 + \\frac{1}{2} \\vec{\\mu}_2^\\intercal \\vec{\\Sigma}^{-1} \\vec{\\mu}_2 + \\ln \\frac{p(C_1)} {p(C_2)}$$"
   ]
  },
  {
   "cell_type": "markdown",
   "metadata": {
    "slideshow": {
     "slide_type": "slide"
    }
   },
   "source": [
    "### What about  $p(C_k)$?\n",
    "\n",
    "* The class prior probabilities, $p(C_k)$, effectively act as a bias term. \n",
    "* Note that we have yet to specify a model for these distributions. \n",
    "\n",
    "If we are to use the result above, we will need to make **another model assumption**. \n",
    "* We will *assume* that the *class priors* are modeled by a [Bernoulli distribution](https://en.wikipedia.org/wiki/Bernoulli_distribution) with $p(C_1)=\\gamma$ and $p(C_2)=1-\\gamma$. "
   ]
  },
  {
   "cell_type": "markdown",
   "metadata": {
    "slideshow": {
     "slide_type": "slide"
    }
   },
   "source": [
    "These results can be extended to the case of $K>2$ classes for which we obtain\n",
    "\n",
    "$$a_k(\\vec{x}) = \\left[\\vec{\\Sigma}^{-1} \\vec{\\mu}_k \\right]^\\intercal \\vec{x} - \\frac{1}{2} \\vec{\\mu}_k^\\intercal \\vec{\\Sigma}^{-1} \\vec{\\mu}_k + \\ln p(C_k)$$\n",
    "\n",
    "which is used in the first activation function provided at the beginning of this section. "
   ]
  },
  {
   "cell_type": "markdown",
   "metadata": {
    "slideshow": {
     "slide_type": "slide"
    }
   },
   "source": [
    "### What about the posterior class densities?\n",
    "\n",
    "We have not formulated a complete model for the posterior class densities, in that we have not yet solved for the model parameters, $\\vec{\\mu}$ and $\\vec{\\Sigma}$. \n",
    "\n",
    "We do that now using a **maximum likelihood** approach."
   ]
  },
  {
   "cell_type": "markdown",
   "metadata": {
    "slideshow": {
     "slide_type": "slide"
    }
   },
   "source": [
    "## Likelihood function\n",
    "\n",
    "* A **function of the parameters** of a statistical model **given** some data.\n",
    "\n",
    "The likelihood of a set of parameter values, $\\theta$, given outcomes $x$, is the probability of those observed outcomes given those parameter values,\n",
    "\n",
    "$$\\mathcal{L}(\\theta |x)=P(x|\\theta)$$\n",
    "* Frequently, the natural logarithm of the likelihood function, called the **log-likelihood**, is more convenient to work with."
   ]
  },
  {
   "cell_type": "markdown",
   "metadata": {
    "slideshow": {
     "slide_type": "slide"
    }
   },
   "source": [
    "## Maximum Likelihood Solution\n",
    "\n",
    "Considering the case of two classes, $C_1$ and $C_2$, with \n",
    "* Bernoulli prior distributions, $p(C_1)=\\gamma$ and $p(C_2)=1-\\gamma$, and\n",
    "* Gaussian *class-conditional density* distributions $p(\\vec{x}|C_k)$, \n",
    "* assume we have a training data set, $\\Psi$, with $m$ elements of the form\n",
    "\n",
    "$$\\Psi = \\left\\{\\left\\langle\\vec{x}_i, t_i\\right\\rangle\\right\\}$$\n",
    "\n",
    "where $t_i=0$ indicates that $\\vec{x_i}$ is in class $C_1$ and $t_i=1$ indicates that $\\vec{x}_i$ is in class $C_2$.\n",
    "\n",
    "The likelihood function is then given by\n",
    "\n",
    "$$p\\left(\\vec{t}, \\vec{X} \\mid \\gamma, \\vec{\\mu}_1, \\vec{\\mu}_2, \\vec{\\Sigma}\\right) = \\prod_{i=1}^m \\left[\\gamma \\mathcal{N} \\left(\\vec{x}_i \\mid \\mu_1, \\vec{\\Sigma}\\right)\\right]^{t_i} \\left[\\left(1-\\gamma\\right) \\mathcal{N}\\left(\\vec{x}_i \\mid \\mu_2, \\vec{\\Sigma}\\right)\\right]^{1-t_i}\\,.$$ "
   ]
  },
  {
   "cell_type": "markdown",
   "metadata": {
    "slideshow": {
     "slide_type": "slide"
    }
   },
   "source": [
    "Taking the derivate of this expression with respect to the various model parameters, $\\gamma$, $\\mu_1$, $\\mu_2$, and $\\vec{\\Sigma}$, and setting it equal to zero, we obtain\n",
    "\n",
    "$$\\gamma = \\frac{N_1}{N_1+N_2}$$\n",
    "\n",
    "where $N_1$ is the number of training inputs in class $C_1$ and $N_2$ is the number in class $C_2$.\n",
    "\n",
    "*NOTE:*   Write this down for whenwe see it again later in the presentation"
   ]
  },
  {
   "cell_type": "markdown",
   "metadata": {
    "slideshow": {
     "slide_type": "slide"
    }
   },
   "source": [
    "#### similarly...\n",
    "\n",
    "$$\\mu_2 = \\frac{1}{N_2} \\sum_{i=1}^m t_i \\vec{x}_i\\,,$$\n",
    "$$\\mu_1 = \\frac{1}{N_1} \\sum_{i=1}^m (1-t_i) \\vec{x}_i\\,,\\ \\text{and}$$\n",
    "\n",
    "$$\\vec{\\Sigma} = \\frac{1}{m}\\left[ \\sum_{i\\in C_1} (\\vec{x}_i-\\mu_1)(\\vec{x}_i-\\mu_1)^T + \\sum_{i\\in C_2} (\\vec{x}_i-\\mu_2)(\\vec{x}_i-\\mu_2)^T \\right]\\,.$$\n",
    "\n",
    "*NOTE:* Write this down too...."
   ]
  },
  {
   "cell_type": "markdown",
   "metadata": {
    "slideshow": {
     "slide_type": "slide"
    }
   },
   "source": [
    "## Example\n",
    "\n",
    "* We will choose some *truth* values for our parameters and use our generative model to generate synthetic data. \n",
    "* We can then use that data as input to the maximum likelihood solution to see the estimates of the truth parameters. \n",
    "* Let's use 1-D input for simplicity. \n",
    "* We will be using a basic form of inverse transform sampling.\n",
    "* Specifically, we wish for our training input data,  $\\vec{x}$, to be derived from a distribution modeled by the marginal distribution $p(\\vec{x})$."
   ]
  },
  {
   "cell_type": "markdown",
   "metadata": {
    "slideshow": {
     "slide_type": "slide"
    }
   },
   "source": [
    "* To obtain this, we first formulate the cumulative distribution function, \n",
    "$CDF(\\vec{X}) = \\int_{-\\infty}^{\\vec{X}} p(\\vec{x})d\\vec{x}$ (note that the range of the CDF is $\\in [0,1]$).\n",
    "* To obtain appropriately distributed $\\vec{x}$ values, we choose some value from a uniform distribution on $[0,1]$, say $y$, and find the value $\\vec{X}$ such that $CDF(\\vec{X})=y$. \n",
    "* This value of $\\vec{X}$ is our input $\\vec{x}$.\n",
    "* This approach requires us to find the inverse of the CDF, which we will do numerically.\n",
    "* Once we have obtained a value for $\\vec{x}$ we need to assign it to a particular class. \n",
    "\n",
    "We will *assume* that the correct class is that for which the posterior probability $p(\\left.C_k\\right|\\vec{x})$ is greatest, **unless** the difference between the two posterior probabilities is less than some minimum value in which case we will chose randomly - this will add some \"noise\" to our input training data."
   ]
  },
  {
   "cell_type": "markdown",
   "metadata": {
    "slideshow": {
     "slide_type": "slide"
    }
   },
   "source": [
    "Select truth data values, these will *NOT* be known to the training algorithm, they are only used in generating the sample data."
   ]
  },
  {
   "cell_type": "code",
   "execution_count": null,
   "metadata": {
    "collapsed": true
   },
   "outputs": [],
   "source": [
    "true_mu1 =-2.0\n",
    "true_mu2 = 2.0\n",
    "true_sigma = 2.0\n",
    "true_gamma = 0.5"
   ]
  },
  {
   "cell_type": "code",
   "execution_count": null,
   "metadata": {
    "collapsed": true,
    "slideshow": {
     "slide_type": "fragment"
    }
   },
   "outputs": [],
   "source": [
    "import scipy.integrate as sci_intgr\n",
    "import scipy.optimize as sci_opt"
   ]
  },
  {
   "cell_type": "markdown",
   "metadata": {
    "slideshow": {
     "slide_type": "slide"
    }
   },
   "source": [
    "Defining probability functions"
   ]
  },
  {
   "cell_type": "code",
   "execution_count": null,
   "metadata": {
    "collapsed": true,
    "slideshow": {
     "slide_type": "fragment"
    }
   },
   "outputs": [],
   "source": [
    "def p_xCk(x, mu, sigma):\n",
    "    'Class conditional probability p(x|Ck)'\n",
    "    denom = math.sqrt(2.0 * math.pi * sigma)\n",
    "    arg = -0.5 * (x - mu) * (x - mu) / sigma\n",
    "    return math.exp(arg) / denom"
   ]
  },
  {
   "cell_type": "code",
   "execution_count": null,
   "metadata": {
    "collapsed": true,
    "slideshow": {
     "slide_type": "fragment"
    }
   },
   "outputs": [],
   "source": [
    "def p_x(x, mu1, mu2, sigma, gamma):\n",
    "    'Marginal probability p(x)'\n",
    "    return gamma * p_xCk(x, mu1, sigma) + (1.0 - gamma) * p_xCk(x, mu2, sigma)"
   ]
  },
  {
   "cell_type": "code",
   "execution_count": null,
   "metadata": {
    "collapsed": true,
    "slideshow": {
     "slide_type": "slide"
    }
   },
   "outputs": [],
   "source": [
    "def p_Ckx(x, mu1, mu2, sigma, gamma):\n",
    "    'Posterior class probability vector (p(C_1|x), p(C_2|x))'\n",
    "    a = math.log(p_xCk(x, mu1, sigma)*gamma/(p_xCk(x,mu2,sigma)*(1-gamma)))\n",
    "    pc1 = 1.0/(1.0 + math.exp(-a))\n",
    "    return (pc1, 1.0 - pc1)"
   ]
  },
  {
   "cell_type": "code",
   "execution_count": null,
   "metadata": {
    "collapsed": true,
    "slideshow": {
     "slide_type": "fragment"
    }
   },
   "outputs": [],
   "source": [
    "def cdf(x, mu1, mu2, sigma, gamma):\n",
    "    'Cumulative distribution function P(x<X)'\n",
    "    return sci_intgr.quad(func=p_x, a=-np.inf, b=x, args=(mu1, mu2, sigma, gamma))"
   ]
  },
  {
   "cell_type": "code",
   "execution_count": null,
   "metadata": {
    "collapsed": true,
    "slideshow": {
     "slide_type": "fragment"
    }
   },
   "outputs": [],
   "source": [
    "def inv_cdf(y, mu1, mu2, sigma, gamma):\n",
    "    'Inverse of the CDF'\n",
    "    f = lambda x: cdf(x,mu1,mu2,sigma,gamma)[0] - y\n",
    "    return sci_opt.newton(f, 0)"
   ]
  },
  {
   "cell_type": "markdown",
   "metadata": {
    "slideshow": {
     "slide_type": "slide"
    }
   },
   "source": [
    "Class conditional probabilities"
   ]
  },
  {
   "cell_type": "code",
   "execution_count": null,
   "metadata": {
    "collapsed": true,
    "slideshow": {
     "slide_type": "-"
    }
   },
   "outputs": [],
   "source": [
    "domain = np.linspace(-5, 5, 100)"
   ]
  },
  {
   "cell_type": "code",
   "execution_count": null,
   "metadata": {
    "collapsed": true
   },
   "outputs": [],
   "source": [
    "px_class1 = [p_xCk(x, true_mu1, true_sigma) for x in domain]\n",
    "px_class2 = [p_xCk(x, true_mu2, true_sigma) for x in domain]"
   ]
  },
  {
   "cell_type": "code",
   "execution_count": null,
   "metadata": {
    "collapsed": false,
    "slideshow": {
     "slide_type": "slide"
    }
   },
   "outputs": [],
   "source": [
    "fig = plt.figure(figsize=(5,4))\n",
    "plt.plot(domain, px_class1, label='Class 1')\n",
    "plt.plot(domain, px_class2, label='Class 2')\n",
    "plt.xlabel('$x$'); plt.ylabel('$p(x|C_k)$');plt.legend(bbox_to_anchor=(1.37,1), fancybox=True);\n",
    "plt.title('Class conditional probability - $p(x|C_k)$');"
   ]
  },
  {
   "cell_type": "markdown",
   "metadata": {
    "slideshow": {
     "slide_type": "slide"
    }
   },
   "source": [
    "Marginal distribution of $x$"
   ]
  },
  {
   "cell_type": "code",
   "execution_count": null,
   "metadata": {
    "collapsed": true
   },
   "outputs": [],
   "source": [
    "px = [p_x(x, true_mu1, true_mu2, true_sigma, true_gamma) for x in domain]"
   ]
  },
  {
   "cell_type": "code",
   "execution_count": null,
   "metadata": {
    "collapsed": false,
    "slideshow": {
     "slide_type": "fragment"
    }
   },
   "outputs": [],
   "source": [
    "fig = plt.figure(figsize=(5,4))\n",
    "plt.plot(domain,px)\n",
    "plt.xlabel('$x$');plt.ylabel('$p(x)$');plt.title('Marginal distribution - $p(x)$');"
   ]
  },
  {
   "cell_type": "markdown",
   "metadata": {
    "slideshow": {
     "slide_type": "slide"
    }
   },
   "source": [
    "Posterior distribution"
   ]
  },
  {
   "cell_type": "code",
   "execution_count": null,
   "metadata": {
    "collapsed": true
   },
   "outputs": [],
   "source": [
    "pc1x, pc2x = [], []\n",
    "for x in domain:\n",
    "    pck = p_Ckx(x, true_mu1, true_mu2, true_sigma, true_gamma)\n",
    "    pc1x.append(pck[0]); pc2x.append(pck[1])"
   ]
  },
  {
   "cell_type": "code",
   "execution_count": null,
   "metadata": {
    "collapsed": false,
    "slideshow": {
     "slide_type": "fragment"
    }
   },
   "outputs": [],
   "source": [
    "fig = plt.figure(figsize=(5,4))\n",
    "plt.plot(domain, pc1x, label='Class 1')\n",
    "plt.plot(domain, pc2x, label='Class 2')\n",
    "plt.xlabel('$x$');plt.ylabel('$p(C_k|x)$');\n",
    "plt.title('Posterior distributions - $p(C_1|x)$ and $p(C_2|x)$');"
   ]
  },
  {
   "cell_type": "markdown",
   "metadata": {
    "slideshow": {
     "slide_type": "slide"
    }
   },
   "source": [
    "Or model is ready, let's generate some data and test it."
   ]
  },
  {
   "cell_type": "code",
   "execution_count": null,
   "metadata": {
    "collapsed": true
   },
   "outputs": [],
   "source": [
    "np.random.seed(123456789) # do not do this in real life\n",
    "num_samples = 1000\n",
    "x = np.zeros(num_samples)\n",
    "t = np.zeros(num_samples)\n",
    "pcx = np.zeros(num_samples)\n",
    "n1 = 0\n",
    "nae = 0\n",
    "assignment_epsilon = 0.5"
   ]
  },
  {
   "cell_type": "markdown",
   "metadata": {
    "slideshow": {
     "slide_type": "slide"
    }
   },
   "source": [
    "Assigning `x` to `1` for **class 1** and `0` for **class 2**."
   ]
  },
  {
   "cell_type": "code",
   "execution_count": null,
   "metadata": {
    "collapsed": true
   },
   "outputs": [],
   "source": [
    "for i in range(num_samples):\n",
    "    rv = np.random.uniform()\n",
    "    x[i] = inv_cdf(rv, true_mu1, true_mu2, true_sigma, true_gamma)\n",
    "    pcx1 = p_Ckx(x[i], true_mu1, true_mu2, true_sigma, true_gamma)\n",
    "    pcx2 = pcx1[1]\n",
    "    pcx1 = pcx1[0]\n",
    "    #we don't want a perfect dividing line for our domain, otherwise why would we need a learning algorithim?\n",
    "    if math.fabs(pcx2-pcx1) <= assignment_epsilon:\n",
    "        nae = nae + 1\n",
    "        if np.random.uniform() <= 0.5:\n",
    "            t[i] = 1\n",
    "            n1 = n1 + 1\n",
    "        else:\n",
    "            t[i] = 0\n",
    "    elif pcx1 > pcx2:\n",
    "        t[i] = 1\n",
    "        n1 = n1 + 1\n",
    "    else: t[i]=0"
   ]
  },
  {
   "cell_type": "markdown",
   "metadata": {
    "slideshow": {
     "slide_type": "slide"
    }
   },
   "source": [
    "### Plot the simulated data"
   ]
  },
  {
   "cell_type": "code",
   "execution_count": null,
   "metadata": {
    "collapsed": false
   },
   "outputs": [],
   "source": [
    "fig = plt.figure(figsize=(5,4))\n",
    "plt.scatter(x, t, marker='.', alpha=0.1)\n",
    "plt.axvline(0, linestyle='--')\n",
    "plt.xlabel('$x$');plt.ylabel('Class ($t$)'); plt.title('Simulated training data');"
   ]
  },
  {
   "cell_type": "markdown",
   "metadata": {
    "slideshow": {
     "slide_type": "slide"
    }
   },
   "source": [
    "## Estimating the parameters"
   ]
  },
  {
   "cell_type": "code",
   "execution_count": null,
   "metadata": {
    "collapsed": true
   },
   "outputs": [],
   "source": [
    "n2 = num_samples - n1\n",
    "e_gamma = n1/num_samples"
   ]
  },
  {
   "cell_type": "code",
   "execution_count": null,
   "metadata": {
    "collapsed": true
   },
   "outputs": [],
   "source": [
    "e_mu1 = 0\n",
    "for x_i, t_i in zip(x,t): \n",
    "    if t_i == 1:\n",
    "        e_mu1 += x_i\n",
    "    # e_mu1 += x_i*t_i\n",
    "e_mu1 /= n1"
   ]
  },
  {
   "cell_type": "code",
   "execution_count": null,
   "metadata": {
    "collapsed": true
   },
   "outputs": [],
   "source": [
    "e_mu2 = 0\n",
    "for x_i, t_i in zip(x,t):\n",
    "    if t_i == 0:\n",
    "        e_mu2 += x_i\n",
    "    # e_mu2 += x_i*(1-t_i)\n",
    "e_mu2 /= n2"
   ]
  },
  {
   "cell_type": "code",
   "execution_count": null,
   "metadata": {
    "collapsed": true,
    "slideshow": {
     "slide_type": "slide"
    }
   },
   "outputs": [],
   "source": [
    "def Sn(Z, ck, mu=(e_mu1,e_mu2)):\n",
    "    idx = 1-int(ck)\n",
    "    return (Z[0]-mu[idx]) * (Z[0]-mu[idx])"
   ]
  },
  {
   "cell_type": "code",
   "execution_count": null,
   "metadata": {
    "collapsed": true,
    "slideshow": {
     "slide_type": "fragment"
    }
   },
   "outputs": [],
   "source": [
    "e_sigma = 0\n",
    "for x_i, t_i in zip(x,t): \n",
    "    e_sigma += Sn((x_i, t_i), t_i)\n",
    "e_sigma /= float(num_samples)"
   ]
  },
  {
   "cell_type": "code",
   "execution_count": null,
   "metadata": {
    "collapsed": false
   },
   "outputs": [],
   "source": [
    "print('The number of inputs in C1 is {0}'.format(n1))\n",
    "print('The number of inputs that were assigned based on the assignment factor is {0}'.format(nae))\n",
    "print('True model parameters: gamma={0}, µ1={1}, µ2={2}, ∑={3}'.format(true_gamma, \n",
    "                                                                       true_mu1, true_mu2, \n",
    "                                                                       true_sigma))\n",
    "print('Estimated model parameters: gamma={0}, µ1={1}, µ2={2}, ∑={3}'.format(e_gamma, e_mu1, \n",
    "                                                                            e_mu2, e_sigma))"
   ]
  },
  {
   "cell_type": "markdown",
   "metadata": {
    "slideshow": {
     "slide_type": "slide"
    }
   },
   "source": [
    "# Probabilistic discriminative models\n",
    "\n",
    "Probablistic discriminative models assume the same generalized linear model\n",
    "\n",
    "$$y(\\phi(\\vec{x})) = f(\\vec{w}^\\intercal\\phi(\\vec{x}))$$\n",
    "\n",
    "as in the probabilistic generative models. "
   ]
  },
  {
   "cell_type": "markdown",
   "metadata": {
    "slideshow": {
     "slide_type": "slide"
    }
   },
   "source": [
    "* Instead of formulating models for the *class-conditional* densities, $p\\left(\\phi(\\vec{x})\\right|\\left.C_k\\right)$, and the *class priors*, $p(C_k)$, \n",
    "* the discriminative approach explicitly models the *class posterior* probabilities, $p\\left(C_k\\right|\\left.\\phi(\\vec{x})\\right)$ with model parameters $\\vec{w}$. \n",
    "* As in the probabilistic generative approach, maximum likelihood is used to estimate the model parameters given some training data set, $\\Psi$."
   ]
  },
  {
   "cell_type": "markdown",
   "metadata": {
    "slideshow": {
     "slide_type": "slide"
    }
   },
   "source": [
    "The **key difference** is the form of the likelihood function. \n",
    "* In the **probabilistic generative case**, the likelihood function is a function of the joint probability,\n",
    "$p\\left(\\phi(\\vec{x}),C_k\\right)=p\\left(\\phi(\\vec{x})\\right|\\left.C_k\\right)p(C_k)$. \n",
    "* In the **probabilistic discriminative approach**, the likelihood function is a function of the conditional class posteriors, $p\\left(C_k\\right|\\left.\\phi(\\vec{x})\\right)$ only."
   ]
  },
  {
   "cell_type": "markdown",
   "metadata": {
    "slideshow": {
     "slide_type": "notes"
    }
   },
   "source": [
    "*Note*: The section on probablistic generative models focused on models that used the input, $\\vec{x}$, directly. However, as noted previously, those models, and the results, hold equally well for input that undergoes a **fixed** transformation using a set of basis functions, $\\phi()$. In this section, we will focus on the inclusion of an input transformation via the basis functions."
   ]
  },
  {
   "cell_type": "markdown",
   "metadata": {
    "slideshow": {
     "slide_type": "slide"
    }
   },
   "source": [
    "## Logistic Regression\n",
    "\n",
    "* Logistic regression is one specific example of discriminative modeling, for the case of **two classes**. \n",
    "* It assumes a model for the class posterior probabilities, $p(C_k|\\phi(\\vec{x}))$, in the form of the logistic sigmoid\n",
    "\n",
    "$$p\\left(C_1\\right|\\left.\\phi(\\vec{x})\\right) = f(a) = \\sigma\\left(\\vec{w}^\\intercal\\phi(\\vec{x})\\right)$$\n",
    "\n",
    "with \n",
    "\n",
    "$$p\\left(C_2\\right|\\left.\\phi(\\vec{x})\\right) = 1 - p\\left(C_1\\right|\\left.\\phi(\\vec{x})\\right).$$"
   ]
  },
  {
   "cell_type": "markdown",
   "metadata": {
    "slideshow": {
     "slide_type": "subslide"
    }
   },
   "source": [
    "* We apply maximum likelihood to obtain the model parameters. \n",
    "* Assume that our training set is of the form $\\Psi=\\left\\{\\phi(\\vec{x}_i),t_i\\right\\}$ where $t_i \\in \\{0,1\\}$,\n",
    "and $i=1,\\ldots, m$. \n",
    "* The likelihood function of the training data is then\n",
    "$$p(\\Psi|\\vec{w}) = \\prod_{i=1}^m \\sigma(\\vec{w}^\\intercal \\phi(\\vec{x}_i))^{t_i} (1 - \\sigma(\\vec{w}^\\intercal \\phi(\\vec{x}_i)))^{(1-t_i)}$$"
   ]
  },
  {
   "cell_type": "markdown",
   "metadata": {
    "slideshow": {
     "slide_type": "slide"
    }
   },
   "source": [
    "Defining the error function, $E(\\vec{w})$, as the negative of the log-likelihood function, and taking the gradient with respect to $\\vec{w}$, we obtain\n",
    "$$\\bigtriangledown E(\\vec{w}) = \\sum_{i=1}^m \\left[\\sigma(\\vec{w}^\\intercal \\phi(\\vec{x}_i)) - t_i\\right] \\phi(\\vec{x}_i).$$\n",
    "\n",
    "* this error function looks the same as that obtained for **linear** regression under the assumption of a Gaussian noise model which had a closed form solution.\n",
    "* the nonlinearity of the *sigmoid* function, $\\sigma\\left(\\vec{w}^\\intercal \\phi(\\vec{x}_i)\\right)$ prevents a closed form solution in the **logistic** regression problem. \n",
    "* We must apply an iterative method to obtain a numerical solution for the parameters, $\\vec{w}$. "
   ]
  },
  {
   "cell_type": "markdown",
   "metadata": {
    "slideshow": {
     "slide_type": "slide"
    }
   },
   "source": [
    "Here we will consider the *Newton-Raphson* method for which minimizing the error function takes the form\n",
    "\n",
    "$$\\vec{w}^{(\\tau+1)} = \\vec{w}^{(\\tau)} - \\vec{H}^{-1}\\bigtriangledown E(\\vec{w}),$$\n",
    "\n",
    "where $\\vec{H}$ is the *Hessian* matrix composed of the second derivatives of the error function\n",
    "\n",
    "$$\\vec{H} = \\bigtriangledown \\bigtriangledown E(\\vec{w}) = \\Phi^\\intercal \\vec{R} \\Phi,$$\n",
    "\n",
    "where $\\Phi$ is the $n \\times m$ design matrix whose $n$-th row is given by $\\phi(\\vec{x_n})^\\intercal$ and $\\vec{R}$ is an $n \\times n$ diagonal matrix with elements.\n",
    "\n",
    "$$R_{i,i} = \\sigma(\\vec{w}^\\intercal \\phi(\\vec{x}_i)) \\left[1-\\sigma(\\vec{w}^\\intercal \\phi(\\vec{x}_i))\\right].$$ \n",
    "\n",
    "This can be reduced to a form equivalent to that of locally weighted linear *regression* as follows\n",
    "\n",
    "$$\\vec{w}^{(\\tau+1)} = \\left( \\Phi^T \\vec{R} \\Phi \\right)^{-1} \\Phi^T \\vec{R} \\vec{z}$$\n",
    "\n",
    "where $\\vec{z}$ is an $n$-dimensional vector defined by\n",
    "\n",
    "$$\\vec{z} = \\Phi \\vec{w}^{(\\tau)} - \\vec{R}^{-1}(\\vec{y} - \\vec{t})$$"
   ]
  },
  {
   "cell_type": "markdown",
   "metadata": {
    "slideshow": {
     "slide_type": "slide"
    }
   },
   "source": [
    "<h2>Example 2</h2>\n",
    "Let's consider an example with two classes and 2D input, $\\vec{x}_n = (x_n^{(1)},x_n^{(2)})$. \n",
    "*  As an experiment, you can try increasing the number of training points, `N`. \n",
    "* Eventually, the training points will overlap so that it will not be possible to completely seperate them with the transformation provided."
   ]
  },
  {
   "cell_type": "code",
   "execution_count": null,
   "metadata": {
    "collapsed": true,
    "slideshow": {
     "slide_type": "fragment"
    }
   },
   "outputs": [],
   "source": [
    "# preparing training dataset\n",
    "np.random.seed(123456789) # fixing for reproducubility\n",
    "N = 100 #number of data points\n",
    "D = 2   #dimension of input vector\n",
    "t = np.zeros(N) #training set classifications\n",
    "X = np.zeros((N,D)) #training data in input space\n",
    "sigma = .25\n",
    "mu0 = 0.0\n",
    "mu1 = 1.0"
   ]
  },
  {
   "cell_type": "code",
   "execution_count": null,
   "metadata": {
    "collapsed": true,
    "slideshow": {
     "slide_type": "skip"
    }
   },
   "outputs": [],
   "source": [
    "def create_scatter(X, t, ax):\n",
    "    'Generates a two-class scatter plot'\n",
    "    C1x, C1y, C2x, C2y = [], [], [], []\n",
    "    for i in range(len(t)):\n",
    "        if t[i] > 0: \n",
    "            C1x.append(X[i,0])\n",
    "            C1y.append(X[i,1])\n",
    "        else: \n",
    "            C2x.append(X[i,0])\n",
    "            C2y.append(X[i,1])\n",
    "    ax.scatter(C1x, C1y, c='b', alpha=0.5)\n",
    "    ax.scatter(C2x, C2y, c='g', alpha=0.5)"
   ]
  },
  {
   "cell_type": "markdown",
   "metadata": {
    "slideshow": {
     "slide_type": "slide"
    }
   },
   "source": [
    "### Generating test data\n",
    "\n",
    "* Pick a value from a uniform distribution on $[0,1]$. \n",
    "* If it is less than 0.5, assign class 1 and pick $x_1, x_2$ from a $\\mathcal{N}(\\mu_0,\\sigma)$ \n",
    "* otherwise assign class 2 and pick $x_1,x_2$ from $\\mathcal{N}(\\mu_1,\\sigma)$"
   ]
  },
  {
   "cell_type": "code",
   "execution_count": null,
   "metadata": {
    "collapsed": true,
    "slideshow": {
     "slide_type": "fragment"
    }
   },
   "outputs": [],
   "source": [
    "for i in range(N):\n",
    "    #choose class to sample for\n",
    "    fac = 1\n",
    "    if np.random.rand() <= 0.5:\n",
    "        thismu = mu0\n",
    "        t[i] = 1\n",
    "    else: \n",
    "        thismu = mu1\n",
    "        t[i] = 0\n",
    "        if np.random.rand() < 0.5: fac = -1\n",
    "    X[i,0] = fac * np.random.normal(thismu, sigma)\n",
    "    X[i,1] = fac * np.random.normal(thismu, sigma)"
   ]
  },
  {
   "cell_type": "code",
   "execution_count": null,
   "metadata": {
    "collapsed": false,
    "slideshow": {
     "slide_type": "slide"
    }
   },
   "outputs": [],
   "source": [
    "fig = plt.figure(figsize=(5, 5))\n",
    "ax = fig.gca()\n",
    "ax.set_xlabel('$x_1$')\n",
    "ax.set_ylabel('$x_2$')\n",
    "ax.set_title('Training data set')\n",
    "create_scatter(X, t, ax)"
   ]
  },
  {
   "cell_type": "markdown",
   "metadata": {
    "slideshow": {
     "slide_type": "slide"
    }
   },
   "source": [
    "The training data does not have a linear boundary in the original input space.\n",
    "* So lets apply a transformation, $\\phi()$ (function `phi(...)`) to try to make it linearly separable\n",
    "* *Note*: This transformation is not the only one that works. \n",
    "    * For example try switching the values of $\\mu_1$ and $\\mu_2$. \n",
    "    * The result will be a different mapping that is still linearly separable."
   ]
  },
  {
   "cell_type": "code",
   "execution_count": null,
   "metadata": {
    "collapsed": true,
    "slideshow": {
     "slide_type": "fragment"
    }
   },
   "outputs": [],
   "source": [
    "def phi(x, mu, sigma):\n",
    "    detSigma = np.linalg.det(sigma)\n",
    "    fac = math.pow(2 * math.pi, len(mu) / 2.0) * math.sqrt(detSigma)\n",
    "    arg = -0.5 * np.dot((x - mu).T, np.dot(np.linalg.inv(sigma), x - mu))\n",
    "    return math.exp(arg) / fac"
   ]
  },
  {
   "cell_type": "code",
   "execution_count": null,
   "metadata": {
    "collapsed": true,
    "slideshow": {
     "slide_type": "slide"
    }
   },
   "outputs": [],
   "source": [
    "phiX = np.zeros((N,D))\n",
    "MU1 = np.ones(D)*mu0\n",
    "MU2 = np.ones(D)*mu1\n",
    "SIGMA = np.diag(np.ones(D))*sigma\n",
    "for i in range(N):\n",
    "    phiX[i,0] = phi(x=X[i,:], mu=MU2, sigma=SIGMA)\n",
    "    phiX[i,1] = phi(x=X[i,:], mu=MU1, sigma=SIGMA)"
   ]
  },
  {
   "cell_type": "code",
   "execution_count": null,
   "metadata": {
    "collapsed": false,
    "slideshow": {
     "slide_type": "slide"
    }
   },
   "outputs": [],
   "source": [
    "fig = plt.figure(figsize=(5,5)); ax =fig.gca()\n",
    "ax.set_xlabel('$x_1$'); ax.set_ylabel('$x_2$')\n",
    "create_scatter(phiX,t,ax)"
   ]
  },
  {
   "cell_type": "markdown",
   "metadata": {
    "slideshow": {
     "slide_type": "slide"
    }
   },
   "source": [
    "Now, lets apply machine learning to determine the boundary!\n",
    "\n",
    "* We will assume M = 3, i.e. that there are 3 free parameters,\n",
    "* that is $\\vec{w} = [w_0, w_1, w_2]^\\intercal$ and,\n",
    "* `phi_n = [1, phiX[0], phiX[1]]`."
   ]
  },
  {
   "cell_type": "code",
   "execution_count": null,
   "metadata": {
    "collapsed": true
   },
   "outputs": [],
   "source": [
    "M = 3\n",
    "Phi = np.ones((N,M))\n",
    "Phi[:,1] = phiX[:,0]\n",
    "Phi[:,2] = phiX[:,1]\n",
    "w = np.zeros(M)\n",
    "R = np.zeros((N,N))\n",
    "y = np.zeros(N)"
   ]
  },
  {
   "cell_type": "code",
   "execution_count": null,
   "metadata": {
    "collapsed": true,
    "slideshow": {
     "slide_type": "slide"
    }
   },
   "outputs": [],
   "source": [
    "def sigmoid(a):\n",
    "    return 1.0 / (1.0 + math.exp(-a))\n",
    "\n",
    "def totalErr(y,t):\n",
    "    e = 0.0\n",
    "    for i in range(len(y)):\n",
    "        if t[i] > 0:\n",
    "            e += math.log(y[i])\n",
    "        else:\n",
    "            e += math.log(1.0 - y[i])\n",
    "    return -e"
   ]
  },
  {
   "cell_type": "markdown",
   "metadata": {
    "slideshow": {
     "slide_type": "slide"
    }
   },
   "source": [
    "Starting Newton-Raphson. \n",
    "\n",
    "* As a stopping criteria we will use a tolerance on the change in the error function and a maximum number of iterations\n"
   ]
  },
  {
   "cell_type": "code",
   "execution_count": null,
   "metadata": {
    "collapsed": true,
    "slideshow": {
     "slide_type": "fragment"
    }
   },
   "outputs": [],
   "source": [
    "max_its = 100\n",
    "tol = 1e-2\n",
    "w0 = [w[0]] \n",
    "w1 = [w[1]]\n",
    "w2 = [w[2]]\n",
    "err = []\n",
    "error_delta = 1 + tol\n",
    "current_error = 0\n",
    "idx = 0"
   ]
  },
  {
   "cell_type": "code",
   "execution_count": null,
   "metadata": {
    "collapsed": true,
    "slideshow": {
     "slide_type": "slide"
    }
   },
   "outputs": [],
   "source": [
    "from functools import reduce"
   ]
  },
  {
   "cell_type": "code",
   "execution_count": null,
   "metadata": {
    "collapsed": true
   },
   "outputs": [],
   "source": [
    "while math.fabs(error_delta) > tol and idx < max_its:\n",
    "    #update y & R\n",
    "    for i in range(N): \n",
    "        y[i] = sigmoid(reduce(lambda accum, Z: accum + Z[0]*Z[1], zip(w, Phi[i,:]), 0))\n",
    "        R[i,i] = y[i] - y[i]*y[i]\n",
    "    #update w\n",
    "    z = np.dot(Phi,w) - np.dot(np.linalg.pinv(R),y-t)\n",
    "    term_1 = np.linalg.pinv(np.dot(np.dot(Phi.T,R),Phi))\n",
    "    term_2 = np.dot(np.dot(term_1, Phi.T),R)\n",
    "    w = np.dot(term_2, z)\n",
    "    w0.append(w[0])\n",
    "    w1.append(w[1])\n",
    "    w2.append(w[2])\n",
    "    idx += 1\n",
    "    temp = totalErr(y,t)\n",
    "    error_delta = current_error - temp\n",
    "    current_error = temp\n",
    "    err.append(error_delta)"
   ]
  },
  {
   "cell_type": "code",
   "execution_count": null,
   "metadata": {
    "collapsed": false,
    "slideshow": {
     "slide_type": "slide"
    }
   },
   "outputs": [],
   "source": [
    "print('The total number of iterations was {0}'.format(idx))\n",
    "print('The total error was {0}'.format(current_error))\n",
    "print('The final change in error was {0}'.format(error_delta))\n",
    "print('The final parameters were {0}'.format(w))"
   ]
  },
  {
   "cell_type": "markdown",
   "metadata": {
    "slideshow": {
     "slide_type": "slide"
    }
   },
   "source": [
    "Our decision boundary is now formed by the line where $\\sigma(a) = 0.5$, i.e. where $a = 0$, which for this example is where $\\phi_2 = -\\frac{w_1}{w_2}\\phi_1$, i.e. where $\\vec{w} \\cdot\\vec{\\phi} = 0.5$.\n"
   ]
  },
  {
   "cell_type": "code",
   "execution_count": null,
   "metadata": {
    "collapsed": false
   },
   "outputs": [],
   "source": [
    "fig = plt.figure(figsize=(5,5)); ax =fig.gca()\n",
    "ax.set_xlabel('$x_1$'); ax.set_ylabel('$x_2$')\n",
    "create_scatter(phiX,t,ax)\n",
    "\n",
    "bdryx = (-0.2,1.1)\n",
    "bdryy = (-(w[0]+w[1]*bdryx[0])/w[2], -(w[0]+w[1]*bdryx[1])/w[2])\n",
    "ax.plot(bdryx, bdryy, linestyle='--');"
   ]
  },
  {
   "cell_type": "code",
   "execution_count": null,
   "metadata": {
    "collapsed": false,
    "slideshow": {
     "slide_type": "slide"
    }
   },
   "outputs": [],
   "source": [
    "fig = plt.figure(figsize=(5,5))\n",
    "plt.plot(w0, 'bo-', label='$w_0$')\n",
    "plt.plot(w1, 'rx-', label='$w_1$')\n",
    "plt.plot(w2, 'gs-', label='$w_2$')\n",
    "plt.plot(err, 'm*-', label='error delta')\n",
    "plt.legend(loc='upper left', frameon=True)\n",
    "plt.xlabel('Newton-Raphson iterations');"
   ]
  },
  {
   "cell_type": "markdown",
   "metadata": {
    "slideshow": {
     "slide_type": "skip"
    }
   },
   "source": [
    "<h1>Readings</h1>\n",
    "<ul>\n",
    "    <li>Bishop: 4.2.0-4.2.4, 4.3.0-4.3.4, 4.4, 4,5</li>\n",
    "    <li>Ng: Lecture 2 pdf</li>\n",
    "    <li>Ng: Lecture 5 pdf</li>\n",
    "</ul>"
   ]
  },
  {
   "cell_type": "markdown",
   "metadata": {
    "slideshow": {
     "slide_type": "skip"
    }
   },
   "source": [
    "<hr/>\n",
    "<div class=\"container-fluid\">\n",
    "  <div class='well'>\n",
    "      <div class=\"row\">\n",
    "          <div class=\"col-md-3\" align='center'>\n",
    "              <img align='center'alt=\"Creative Commons License\" style=\"border-width:0\" src=\"https://i.creativecommons.org/l/by-nc-sa/4.0/88x31.png\"/>\n",
    "          </div>\n",
    "          <div class=\"col-md-9\">\n",
    "              This work is licensed under a [Creative Commons Attribution-NonCommercial-ShareAlike 4.0 International License](http://creativecommons.org/licenses/by-nc-sa/4.0/).\n",
    "          </div>\n",
    "      </div>\n",
    "  </div>\n",
    "</div>"
   ]
  },
  {
   "cell_type": "code",
   "execution_count": null,
   "metadata": {
    "collapsed": false,
    "scrolled": true,
    "slideshow": {
     "slide_type": "skip"
    }
   },
   "outputs": [],
   "source": [
    "%load_ext version_information\n",
    "%version_information scipy, numpy, matplotlib"
   ]
  },
  {
   "cell_type": "code",
   "execution_count": null,
   "metadata": {
    "collapsed": false,
    "slideshow": {
     "slide_type": "skip"
    }
   },
   "outputs": [],
   "source": [
    "# this code is here for cosmetic reasons\n",
    "from IPython.core.display import HTML\n",
    "from urllib.request import urlopen\n",
    "HTML(urlopen('https://raw.githubusercontent.com/lmarti/jupyter_custom/master/custom.include').read().decode('utf-8'))"
   ]
  },
  {
   "cell_type": "markdown",
   "metadata": {},
   "source": [
    "---"
   ]
  }
 ],
 "metadata": {
  "anaconda-cloud": {},
  "celltoolbar": "Slideshow",
  "kernelspec": {
   "display_name": "Python [conda env:ml]",
   "language": "python",
   "name": "conda-env-ml-py"
  },
  "language_info": {
   "codemirror_mode": {
    "name": "ipython",
    "version": 2
   },
   "file_extension": ".py",
   "mimetype": "text/x-python",
   "name": "python",
   "nbconvert_exporter": "python",
   "pygments_lexer": "ipython2",
   "version": "2.7.13"
  }
 },
 "nbformat": 4,
 "nbformat_minor": 1
}
